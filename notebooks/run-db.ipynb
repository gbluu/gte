{
 "cells": [
  {
   "cell_type": "code",
   "execution_count": 3,
   "id": "b05fe686-3a12-4dad-83f2-ab68cb6cbf75",
   "metadata": {},
   "outputs": [],
   "source": [
    "import glob\n",
    "import os\n",
    "\n",
    "import numpy as np\n",
    "import pandas as pd\n",
    "\n",
    "# setting notebook\n",
    "pd.set_option(\"display.max_columns\", None)"
   ]
  },
  {
   "cell_type": "code",
   "execution_count": 4,
   "id": "51c8e5e4-df04-44cd-91f6-d24cf54f9ba1",
   "metadata": {},
   "outputs": [
    {
     "name": "stdout",
     "output_type": "stream",
     "text": [
      "C:\\Users\\user\\Desktop\\gte\\notebooks\\data-joined\n"
     ]
    }
   ],
   "source": [
    "# go to data-joined folder\n",
    "%cd data-joined"
   ]
  },
  {
   "cell_type": "code",
   "execution_count": 5,
   "id": "2e991bf4-9c30-4253-96fc-8172024e4802",
   "metadata": {},
   "outputs": [
    {
     "name": "stdout",
     "output_type": "stream",
     "text": [
      "C:\\Users\\user\\Desktop\\gte\\notebooks\n"
     ]
    }
   ],
   "source": [
    "%run xuat_combined.ipynb \n",
    "%run po_combined.ipynb \n",
    "%run dmsp.ipynb\n",
    "%run dmkh.ipynb\n",
    "#go back the tree\n",
    "%cd .."
   ]
  },
  {
   "cell_type": "code",
   "execution_count": 6,
   "id": "d1c6d612-3ec9-4761-a260-742290aa4805",
   "metadata": {},
   "outputs": [],
   "source": [
    "# make copy\n",
    "xuat = xuat_joined.copy()\n",
    "po = po_joined.copy()\n",
    "sp = dmsp_full.copy()\n",
    "kh = dmkh_full.copy()"
   ]
  },
  {
   "cell_type": "markdown",
   "id": "1f5c27cd-db0d-470e-9364-c3ad4c1de833",
   "metadata": {},
   "source": [
    "# PO"
   ]
  },
  {
   "cell_type": "code",
   "execution_count": 7,
   "id": "f8f99861-5bfa-417c-9dc6-93047be7ce2a",
   "metadata": {},
   "outputs": [],
   "source": [
    "#drop cols\n",
    "cols_used = ['Mã phiếu đề xuất\\n(Code)',\n",
    " 'Mã khách hàng\\n(Customer Code)',\n",
    " 'Mã chủ hàng',\n",
    " 'Ngày về\\n(Receiving Date)',\n",
    " 'Hạn chót giao hàng\\n(Delivery Deadline)',\n",
    " 'Ngày thực tế giao hàng',\n",
    " 'Chứng từ KH ký nhận',\n",
    " 'Chứng từ khác',\n",
    " 'Tình trạng đơn hàng',\n",
    " 'Kho xuất',\n",
    " 'Loại phiếu']\n",
    "\n",
    "po_selected_cols = po[cols_used]"
   ]
  },
  {
   "cell_type": "code",
   "execution_count": 8,
   "id": "243f0329-f544-4909-95bf-2dd9105cdea7",
   "metadata": {},
   "outputs": [],
   "source": [
    "po_replace = po_selected_cols.copy()\n",
    "\n",
    "#Replace 'Chua thuc hien' => 'Da nhat hang'\n",
    "po_replace.loc[(po_replace['Tình trạng đơn hàng'].str.contains('Chưa thực hiện')) \n",
    "                & (po_replace['Chứng từ khác'].str.contains('Đã nhặt hàng')),'Tình trạng đơn hàng'] = 'Đã nhặt hàng'\n",
    "\n",
    "#Replace 'De xuat' => 'Don'\n",
    "po_replace['Loại phiếu'] = po_replace['Loại phiếu'].str.replace(r'Đề xuất', 'Đơn', regex=True)"
   ]
  },
  {
   "cell_type": "code",
   "execution_count": 9,
   "id": "4a3f76d3-c67a-43bc-90b4-50a9825a6655",
   "metadata": {},
   "outputs": [],
   "source": [
    "# make a copy\n",
    "po_cal = po_replace.copy()\n",
    "# create month\n",
    "po_cal['month'] = pd.DatetimeIndex(po_cal['Ngày về\\n(Receiving Date)']).month\n",
    "# impute date diff invoice\n",
    "\n",
    "diff_ct_yes = (po_cal['Chứng từ KH ký nhận'] - po_cal['Ngày thực tế giao hàng']).dt.days #da hoan\n",
    "diff_ct_no = (pd.Timestamp.now().normalize() - po_cal['Ngày thực tế giao hàng']).dt.days #chua hoan\n",
    "\n",
    "conditions = [\n",
    "    po_cal['Tình trạng đơn hàng']=='Đã bàn giao chứng từ',\n",
    "    po_cal['Tình trạng đơn hàng']=='Đã giao hàng'\n",
    "]\n",
    "choices = [diff_ct_yes, diff_ct_no]\n",
    "\n",
    "po_cal['datediff_chungtu'] = np.select(conditions, choices, default=np.nan)\n",
    "\n",
    "# impute date diff delivery\n",
    "\n",
    "diff_deli = (po_cal['Ngày thực tế giao hàng'] - po_cal['Ngày về\\n(Receiving Date)']).dt.days\n",
    "po_cal['datediff_giaohang'] = np.where(diff_deli<0, np.nan, diff_deli)"
   ]
  },
  {
   "cell_type": "code",
   "execution_count": 10,
   "id": "ba669701-2fa0-4e2d-a048-52e8dc5e28cd",
   "metadata": {},
   "outputs": [],
   "source": [
    "po_filter = po_cal.copy()\n",
    "#Filter Warehouse not contains\n",
    "values_to_remove = ['Online','Hyperion','hư hỏng','xử lý','Hư Hỏng','Upbase','khuyến mãi','Tồn hàng','hàng hóa'] \n",
    "\n",
    "pattern = '|'.join(values_to_remove)\n",
    "\n",
    "po_filter_kho = po_filter.loc[~po_filter['Kho xuất'].str.contains(pattern, case=False)]\n",
    "#Filter Ma chu hang HP, RW\n",
    "values_to_remove_mch = ['HP','RW'] \n",
    "\n",
    "pattern_mch = '|'.join(values_to_remove_mch)\n",
    "\n",
    "po_filter_mch = po_filter_kho.loc[po_filter_kho['Mã chủ hàng'].str.contains(pattern_mch, case=False)]\n",
    "po_processed = po_filter_mch.copy()"
   ]
  },
  {
   "cell_type": "markdown",
   "id": "00a14f4d-6c5a-43de-932d-2f872ce4b507",
   "metadata": {},
   "source": [
    "# BCKT"
   ]
  },
  {
   "cell_type": "code",
   "execution_count": 11,
   "id": "79d35b97-78f3-4674-8840-f10372da3540",
   "metadata": {},
   "outputs": [],
   "source": [
    "# merge\n",
    "xuat_dmsp = xuat.merge(sp, left_on='Mã vật tư\\n(Goods Code)', right_on='PRODUCT CODE', how='left')\n",
    "xuat_dmsp['CBM/Unit'] = xuat_dmsp['CBM/Unit']*xuat_dmsp['Số lượng\\n(Quantily)']\n",
    "xuat_dmsp['GrossWeightProductg'] = xuat_dmsp['GrossWeightProductg']*xuat_dmsp['Số lượng\\n(Quantily)']\n",
    "# aggregate \n",
    "xuat_dmsp = xuat_dmsp.groupby(['Mã phiếu đề xuất', 'Mã chủ hàng_x']).agg(\n",
    "      {\n",
    "        'CBM/Unit': 'sum',\n",
    "        'GrossWeightProductg': 'sum',\n",
    "        'Số lượng\\n(Quantily)': 'sum',\n",
    "        'Mã vật tư\\n(Goods Code)': 'count',\n",
    "        'Tiền hàng\\n(Sub Total)': 'sum'\n",
    "      }\n",
    ")\n",
    "# rename cols\n",
    "dict_rename = {\n",
    "    'CBM/Unit': 'cbm_po',\n",
    "     'GrossWeightProductg': 'kg_po',\n",
    "     'Số lượng\\n(Quantily)': 'unit_po',\n",
    "     'Mã vật tư\\n(Goods Code)': 'sku_po',\n",
    "     'Tiền hàng\\n(Sub Total)': 'amount_po'\n",
    "}\n",
    "\n",
    "xuat_dmsp.rename(columns=dict_rename, inplace=True)\n",
    "xuat_processed = xuat_dmsp.copy()"
   ]
  },
  {
   "cell_type": "markdown",
   "id": "6276b885-7aaa-49b5-a6bd-01163d9197cb",
   "metadata": {},
   "source": [
    "## Create data"
   ]
  },
  {
   "cell_type": "code",
   "execution_count": 12,
   "id": "172d590a-a89c-4507-a3a3-f9fd6383f078",
   "metadata": {},
   "outputs": [],
   "source": [
    "# Create data region\n",
    "data = [\n",
    "    [\"Kho Hà Nội\", \"Miền Bắc\"],\n",
    "    [\"Kho Phạm Văn Đồng\", \"Miền Nam\"],\n",
    "    [\"Kho Bình Tân\", \"Miền Nam\"],\n",
    "    [\"Kho Bùi Thị Xuân\", \"Miền Nam\"],\n",
    "    [\"Kho Đà Nẵng\", \"Miền Trung\"],\n",
    "    [\"Kho Thuận An\", \"Miền Nam\"],\n",
    "    [\"Kho Bình Hòa\", \"Miền Nam\"],\n",
    "    [\"Kho thuê dịch vụ - Daso\", \"Miền Nam\"],\n",
    "    [\"Kho Woojin Bắc Ninh\", \"Miền Bắc\"],\n",
    "    [\"Kho LogisValley - Long Biên\", \"Miền Bắc\"],\n",
    "    [\"Kho thuê ngoài Emskip Q9\", \"Miền Nam\"],\n",
    "    [\"Kho LogisticValey - Long Biên\", \"Miền Bắc\"],\n",
    "    [\"Kho Hateco Long Biên\", \"Miền Bắc\"],\n",
    "    [\"Kho Gamuda Hà Nội\", \"Miền Bắc\"],\n",
    "    [\"Kho thuê dịch vụ Daso\", \"Miền Nam\"],\n",
    "    ['Kho LogisticValey Long Biên',\"Miền Bắc\"]\n",
    "]\n",
    "\n",
    "# Create the pandas DataFrame\n",
    "df_rgn = pd.DataFrame(data, columns=[\"Kho\", \"Region\"])\n",
    "data_in_sub = [\n",
    "    [\"Kho Hà Nội\", \"Hà Nội\", \"Nội thành\"],\n",
    "    [\"Kho Phạm Văn Đồng\", \"Hồ Chí Minh\", \"Nội thành\"],\n",
    "    [\"Kho Bình Tân\", \"Hồ Chí Minh\", \"Nội thành\"],\n",
    "    [\"Kho Bùi Thị Xuân\", \"Bình Dương\", \"Nội thành\"],\n",
    "    [\"Kho Đà Nẵng\", \"Đà Nẵng\", \"Nội thành\"],\n",
    "    [\"Kho Thuận An\", \"Bình Dương\", \"Nội thành\"],\n",
    "    [\"Kho Bình Hòa\", \"Hồ Chí Minh\", \"Nội thành\"],\n",
    "    [\"Kho thuê dịch vụ - Daso\", \"Hồ Chí Minh\", \"Nội thành\"],\n",
    "    [\"Kho Woojin Bắc Ninh\", \"Hà Nội\", \"Nội thành\"],\n",
    "    [\"Kho LogisValley - Long Biên\", \"Hà Nội\", \"Nội thành\"],\n",
    "    [\"Kho thuê ngoài Emskip Q9\", \"Hồ Chí Minh\", \"Nội thành\"],\n",
    "    [\"Kho LogisticValey - Long Biên\", \"Hà Nội\", \"Nội thành\"],\n",
    "    [\"Kho Hateco Long Biên\", \"Hà Nội\", \"Nội thành\"],\n",
    "    [\"Kho Gamuda Hà Nội\", \"Hà Nội\", \"Nội thành\"],\n",
    "    [\"Kho thuê dịch vụ Daso\", \"Hồ Chí Minh\", \"Nội thành\"],\n",
    "    ['Kho LogisticValey Long Biên',\"Hà Nội\", \"Nội thành\"]\n",
    "]\n",
    "\n",
    "# Create the pandas DataFrame\n",
    "df_in_sub = pd.DataFrame(data_in_sub, columns=[\"Kho xuất\", \"Des\", \"in_sub\"])"
   ]
  },
  {
   "cell_type": "markdown",
   "id": "dc343999-c11b-499a-88af-3ce16b247346",
   "metadata": {},
   "source": [
    "## Merge"
   ]
  },
  {
   "cell_type": "code",
   "execution_count": 13,
   "id": "ce480ca4-c1e8-4d47-a3d4-821d991d8ac9",
   "metadata": {},
   "outputs": [],
   "source": [
    "# merge po - bckt\n",
    "po_xuat = po_processed.merge(\n",
    "    xuat_processed, left_on=['Mã phiếu đề xuất\\n(Code)', 'Mã chủ hàng'], right_on=['Mã phiếu đề xuất', 'Mã chủ hàng_x'], how=\"left\")\n",
    "# merge region\n",
    "po_region = po_xuat.merge(df_rgn, left_on=\"Kho xuất\", right_on=\"Kho\", how=\"left\").drop('Kho', axis=1)\n",
    "# merge DMKH\n",
    "po_kh = po_region.merge(\n",
    "    kh[['Customer Code', 'Account', 'Des']], left_on=\"Mã khách hàng\\n(Customer Code)\", right_on=\"Customer Code\", how=\"left\").drop('Customer Code', axis=1)\n",
    "# merge inner/suburbs data\n",
    "po_insub = po_kh.merge(df_in_sub, on=[\"Kho xuất\", \"Des\"], how=\"left\")\n",
    "po_insub.loc[~po_insub.Des.isna(), \"in_sub\"] = po_insub.in_sub.fillna(\"Ngoại thành\")\n",
    "conditions = [\n",
    "    po_insub[\"datediff_chungtu\"] < 0,\n",
    "    po_insub[\"datediff_chungtu\"] <= 6,\n",
    "    po_insub[\"datediff_chungtu\"] <= 14,\n",
    "    po_insub[\"datediff_chungtu\"] <= 30,\n",
    "    po_insub[\"datediff_chungtu\"] > 30,\n",
    "]\n",
    "choices = [\"Invalid_days\", \"0 - 6 ngày\", \"7 - 14 ngày\", \"15 - 30 ngày\", \"Trễ\"]\n",
    "\n",
    "po_insub[\"day_level\"] = np.select(conditions, choices, default=np.nan)\n",
    "po_run = po_insub.copy()\n",
    "po_run['Mã phiếu đề xuất\\n(Code)'] = po_run['Mã phiếu đề xuất\\n(Code)'] + po_run['Mã chủ hàng']\n",
    "dict_rename = {\n",
    "    \"Mã phiếu đề xuất\\n(Code)\": \"ID_PO\",\n",
    "    \"Mã khách hàng\\n(Customer Code)\": \"ID_cus\",\n",
    "    \"Ngày về\\n(Receiving Date)\": \"date_receive\",\n",
    "    \"Hạn chót giao hàng\\n(Delivery Deadline)\": \"deli_dl\",\n",
    "    \"Tiền hàng\\n(Sub Total)\": \"amount_po\",\n",
    "}\n",
    "\n",
    "po_run.rename(columns=dict_rename, inplace=True)"
   ]
  },
  {
   "cell_type": "code",
   "execution_count": 14,
   "id": "7cf76c8d-7cb4-4173-9bd5-09f67992c629",
   "metadata": {},
   "outputs": [],
   "source": [
    "import datetime\n",
    "file_path = '../data/processed/'\n",
    "namefile = f'PO_{datetime.datetime.now().strftime(\"%H%M_%Y%m%d\")}.csv'\n",
    "po_run.to_csv(file_path+namefile, index=False, encoding=\"utf-8-sig\")\n"
   ]
  },
  {
   "cell_type": "code",
   "execution_count": 15,
   "id": "d94c6532-0f98-49ea-9188-0a32f9dd4e91",
   "metadata": {},
   "outputs": [
    {
     "data": {
      "text/plain": [
       "array([], dtype=object)"
      ]
     },
     "execution_count": 15,
     "metadata": {},
     "output_type": "execute_result"
    }
   ],
   "source": [
    "po_run[po_run.Region.isnull()]['Kho xuất'].unique()"
   ]
  }
 ],
 "metadata": {
  "kernelspec": {
   "display_name": "Python 3 (ipykernel)",
   "language": "python",
   "name": "python3"
  },
  "language_info": {
   "codemirror_mode": {
    "name": "ipython",
    "version": 3
   },
   "file_extension": ".py",
   "mimetype": "text/x-python",
   "name": "python",
   "nbconvert_exporter": "python",
   "pygments_lexer": "ipython3",
   "version": "3.9.15"
  }
 },
 "nbformat": 4,
 "nbformat_minor": 5
}
