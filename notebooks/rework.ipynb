{
 "cells": [
  {
   "cell_type": "code",
   "execution_count": 1,
   "id": "be97e03e-b047-4716-884a-6a5964e69769",
   "metadata": {},
   "outputs": [],
   "source": [
    "import pandas as pd\n",
    "import os\n",
    "import glob\n",
    "import numpy as np\n",
    "\n",
    "np.seterr(divide='ignore', invalid='ignore')\n",
    "# setting notebook\n",
    "pd.set_option('display.max_columns', None)"
   ]
  },
  {
   "cell_type": "code",
   "execution_count": 2,
   "id": "01cd6b4e-6cb9-4548-815d-695b11783f8b",
   "metadata": {
    "tags": []
   },
   "outputs": [
    {
     "name": "stdout",
     "output_type": "stream",
     "text": [
      "C:\\Users\\baolu\\Desktop\\gte\\notebooks\\data-joined\n"
     ]
    }
   ],
   "source": [
    "# go to data-joined folder\n",
    "%cd data-joined\n",
    "%run xuat_combined.ipynb \n",
    "%run po_combined.ipynb \n",
    "%run dmsp.ipynb"
   ]
  },
  {
   "cell_type": "code",
   "execution_count": 3,
   "id": "7800e441-d579-4818-b92e-412c1c574ce5",
   "metadata": {},
   "outputs": [
    {
     "name": "stdout",
     "output_type": "stream",
     "text": [
      "C:\\Users\\baolu\\Desktop\\gte\\notebooks\n"
     ]
    }
   ],
   "source": [
    "#go back the tree\n",
    "%cd .."
   ]
  },
  {
   "cell_type": "code",
   "execution_count": 4,
   "id": "dfa3d3d6-8498-4b33-8a14-6717ebe22136",
   "metadata": {},
   "outputs": [],
   "source": [
    "xuat = xuat_joined.copy()"
   ]
  },
  {
   "cell_type": "markdown",
   "id": "6707959a-b5ec-4987-a7b4-a0e4926b4052",
   "metadata": {},
   "source": [
    "## select used cols"
   ]
  },
  {
   "cell_type": "code",
   "execution_count": 5,
   "id": "a33717f7-1506-43da-b848-98c37000ede0",
   "metadata": {
    "tags": []
   },
   "outputs": [],
   "source": [
    "dmsp = dmsp_full[['PRODUCT CODE', ' Shelf life\\n(Day) ', 'Mã chủ hàng']]"
   ]
  },
  {
   "cell_type": "code",
   "execution_count": 6,
   "id": "070f6d92-ce6b-4ac1-ad08-b579cb363d69",
   "metadata": {},
   "outputs": [],
   "source": [
    "po = po_joined[['Số đơn hàng\\n(Order No)', 'Tình trạng đơn hàng']]"
   ]
  },
  {
   "cell_type": "markdown",
   "id": "70f97b5f-267d-4919-a03b-630e0de9de2b",
   "metadata": {},
   "source": [
    "## merge dmsp"
   ]
  },
  {
   "cell_type": "code",
   "execution_count": 7,
   "id": "fa52905d-6424-4c68-bd21-25dbc963e77d",
   "metadata": {},
   "outputs": [],
   "source": [
    "xuat = xuat.merge(dmsp, left_on='Mã vật tư\\n(Goods Code)', right_on='PRODUCT CODE', how='left').drop('PRODUCT CODE', axis=1)"
   ]
  },
  {
   "cell_type": "markdown",
   "id": "65a5dd5e-3378-4151-863e-bb388942ae1c",
   "metadata": {},
   "source": [
    "## merge po"
   ]
  },
  {
   "cell_type": "code",
   "execution_count": 8,
   "id": "047304f5-df33-41c8-ad96-a0f0ecdca98c",
   "metadata": {},
   "outputs": [],
   "source": [
    "xuat_po = xuat.merge(po, left_on='Số đơn đặt hàng', right_on='Số đơn hàng\\n(Order No)', how='left').drop('Số đơn hàng\\n(Order No)', axis=1)"
   ]
  },
  {
   "cell_type": "markdown",
   "id": "6fe302b3-9f41-4f21-bf8e-d941265160e2",
   "metadata": {},
   "source": [
    "## merge id san"
   ]
  },
  {
   "cell_type": "code",
   "execution_count": 9,
   "id": "830bd97b-fa1f-498d-8fdb-4d11ae94e5bc",
   "metadata": {},
   "outputs": [],
   "source": [
    "# load data\n",
    "san = pd.read_csv('../references/san.csv')"
   ]
  },
  {
   "cell_type": "code",
   "execution_count": 10,
   "id": "200a266a-f38e-47f3-9c5c-88c253be5134",
   "metadata": {},
   "outputs": [],
   "source": [
    "xuat_san = xuat_po.merge(san, left_on='Mã KH / NCC\\n(Customer Code / Vendor Code)', right_on='Code Channel', how='left').drop('Code Channel', axis=1)"
   ]
  },
  {
   "cell_type": "markdown",
   "id": "bb84658a-0fe8-4dce-9086-6d5d3089224d",
   "metadata": {},
   "source": [
    "## filter"
   ]
  },
  {
   "cell_type": "code",
   "execution_count": 11,
   "id": "0f83b789-50c2-45be-af6c-de16d927d70f",
   "metadata": {},
   "outputs": [],
   "source": [
    "xuat1 = xuat_san.copy()"
   ]
  },
  {
   "cell_type": "code",
   "execution_count": 12,
   "id": "a539754a-fe9e-4d15-a721-28266112efac",
   "metadata": {},
   "outputs": [],
   "source": [
    "xuat_mch = xuat1[(xuat1['Mã chủ hàng_x']=='GB')|(xuat1['Mã chủ hàng_x']=='HP01')|(xuat1['Mã chủ hàng_x']=='RW01')].reset_index(drop=True)"
   ]
  },
  {
   "cell_type": "code",
   "execution_count": 13,
   "id": "87b89613-1ed3-4c53-a5b9-a37156046d85",
   "metadata": {},
   "outputs": [],
   "source": [
    "xuat_hp_rw = xuat_mch[(xuat_mch['Mã chủ hàng_y']=='HP')|(xuat_mch['Mã chủ hàng_y']=='RW')].reset_index(drop=True)"
   ]
  },
  {
   "cell_type": "code",
   "execution_count": 14,
   "id": "577293fb-31eb-4fcf-9cfb-95a631dba730",
   "metadata": {},
   "outputs": [],
   "source": [
    "xuat_drop_khac = xuat_hp_rw[xuat_hp_rw['Name']!='Khác'].reset_index(drop=True)"
   ]
  },
  {
   "cell_type": "code",
   "execution_count": 15,
   "id": "29f49efa-2cbc-444f-a27e-1b474781b772",
   "metadata": {},
   "outputs": [],
   "source": [
    "xuat_filter_po = xuat_drop_khac[(xuat_drop_khac['Tình trạng đơn hàng'] == 'Đã bàn giao chứng từ')|(xuat_drop_khac['Tình trạng đơn hàng'] == 'Đã giao hàng')].reset_index(drop=True)"
   ]
  },
  {
   "cell_type": "markdown",
   "id": "9eb98324-96a0-4f9a-b815-97e1f84c2d54",
   "metadata": {},
   "source": [
    "## calculate"
   ]
  },
  {
   "cell_type": "code",
   "execution_count": 16,
   "id": "2bfb495b-cc0d-4ab1-8443-1224faac5712",
   "metadata": {},
   "outputs": [],
   "source": [
    "cal = xuat_filter_po.copy()"
   ]
  },
  {
   "cell_type": "code",
   "execution_count": 17,
   "id": "39da60db-3012-49aa-997a-8de2088c5706",
   "metadata": {},
   "outputs": [],
   "source": [
    "cal['%exp'] = ((cal['Ngày hết hạn (Expiry Date)'] - cal['Ngày phiếu xuất'])/ (cal[' Shelf life\\n(Day) '])) / np.timedelta64(1, 'D')"
   ]
  },
  {
   "cell_type": "code",
   "execution_count": 18,
   "id": "e4f8d8a7-0115-4065-be45-728dbd9def72",
   "metadata": {},
   "outputs": [],
   "source": [
    "cal['month'] = str('Tháng ') + (pd.DatetimeIndex(cal['Ngày phiếu xuất']).month).astype(str)"
   ]
  },
  {
   "cell_type": "code",
   "execution_count": 19,
   "id": "b251b586-c7a3-4354-a544-df5b1dd286c2",
   "metadata": {},
   "outputs": [],
   "source": [
    "cal['countpo'] = 1/cal.groupby('Số đơn đặt hàng')['Số đơn đặt hàng'].transform('size')"
   ]
  },
  {
   "cell_type": "markdown",
   "id": "abdd9015-8650-4ab4-a8fe-d19cd7267c3a",
   "metadata": {},
   "source": [
    "## check"
   ]
  },
  {
   "cell_type": "code",
   "execution_count": 20,
   "id": "a8cb1a6e-f78e-48cb-a5b8-fbd339bac343",
   "metadata": {},
   "outputs": [
    {
     "data": {
      "text/plain": [
       "Name             0\n",
       "Mã chủ hàng_y    0\n",
       "dtype: int64"
      ]
     },
     "execution_count": 20,
     "metadata": {},
     "output_type": "execute_result"
    }
   ],
   "source": [
    "cal[['Name','Mã chủ hàng_y']].isnull().sum()"
   ]
  },
  {
   "cell_type": "code",
   "execution_count": 21,
   "id": "7b7c2d70-7abb-4851-a84b-6d699f7470bc",
   "metadata": {},
   "outputs": [],
   "source": [
    "xuat_final = cal.copy()"
   ]
  },
  {
   "cell_type": "markdown",
   "id": "568b537a-234c-48da-9caf-4403f8745370",
   "metadata": {},
   "source": [
    "## to csv"
   ]
  },
  {
   "cell_type": "code",
   "execution_count": null,
   "id": "3b3cba7e-28c1-4ff5-86ac-32546e57cb00",
   "metadata": {},
   "outputs": [],
   "source": []
  },
  {
   "cell_type": "code",
   "execution_count": 22,
   "id": "fed5eaf7-0196-432b-8815-e0d6a47cb131",
   "metadata": {},
   "outputs": [],
   "source": [
    "xuat_final.to_csv('../data/processed/xuat-onine.txt', sep='\\t', encoding='utf-8-sig', index=False)"
   ]
  },
  {
   "cell_type": "code",
   "execution_count": null,
   "id": "b9c07112-db13-42ef-b735-1b7a25040e6c",
   "metadata": {},
   "outputs": [],
   "source": []
  },
  {
   "cell_type": "code",
   "execution_count": null,
   "id": "a122958b-8f6e-4592-aa81-994fd4dca94c",
   "metadata": {},
   "outputs": [],
   "source": []
  },
  {
   "cell_type": "code",
   "execution_count": null,
   "id": "fee58b05-4e31-42fa-a1b5-408b6aaadd6b",
   "metadata": {},
   "outputs": [],
   "source": []
  },
  {
   "cell_type": "code",
   "execution_count": null,
   "id": "b9c41e9a-fad7-468e-a232-c43ff934da9f",
   "metadata": {},
   "outputs": [],
   "source": []
  },
  {
   "cell_type": "code",
   "execution_count": null,
   "id": "b1cea937-d0a6-417b-9e8d-767752c80331",
   "metadata": {},
   "outputs": [],
   "source": []
  },
  {
   "cell_type": "code",
   "execution_count": null,
   "id": "a1bca768-edef-445f-9ded-ab11d63eb165",
   "metadata": {},
   "outputs": [],
   "source": []
  },
  {
   "cell_type": "code",
   "execution_count": null,
   "id": "8dec92b4-94cc-4035-ace8-edafeb747b44",
   "metadata": {},
   "outputs": [],
   "source": []
  },
  {
   "cell_type": "code",
   "execution_count": null,
   "id": "c6afd0af-9bd0-478b-bc7a-1def7c8b9c23",
   "metadata": {},
   "outputs": [],
   "source": []
  },
  {
   "cell_type": "code",
   "execution_count": null,
   "id": "017df5e5-6310-4aba-aa1f-19362a98436a",
   "metadata": {},
   "outputs": [],
   "source": []
  },
  {
   "cell_type": "code",
   "execution_count": null,
   "id": "96e2dd94-4fb5-4da6-aba7-49f49a65f004",
   "metadata": {},
   "outputs": [],
   "source": []
  },
  {
   "cell_type": "code",
   "execution_count": null,
   "id": "40d1df9f-ca83-4cd7-b702-c719a9f4a271",
   "metadata": {},
   "outputs": [],
   "source": []
  }
 ],
 "metadata": {
  "kernelspec": {
   "display_name": "Python 3 (ipykernel)",
   "language": "python",
   "name": "python3"
  },
  "language_info": {
   "codemirror_mode": {
    "name": "ipython",
    "version": 3
   },
   "file_extension": ".py",
   "mimetype": "text/x-python",
   "name": "python",
   "nbconvert_exporter": "python",
   "pygments_lexer": "ipython3",
   "version": "3.10.5"
  }
 },
 "nbformat": 4,
 "nbformat_minor": 5
}
