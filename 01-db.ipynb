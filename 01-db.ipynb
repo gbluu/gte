{
 "cells": [
  {
   "cell_type": "markdown",
   "id": "3c9fbcec-1eee-4abf-812b-31247f79cd59",
   "metadata": {},
   "source": [
    "\n",
    "**Ma chu hang: HP, RW**\n",
    "\n",
    "**Kho xuat: kho tot (tru online)**\n"
   ]
  },
  {
   "cell_type": "code",
   "execution_count": 1,
   "id": "b05fe686-3a12-4dad-83f2-ab68cb6cbf75",
   "metadata": {},
   "outputs": [],
   "source": [
    "import glob\n",
    "import os\n",
    "\n",
    "import numpy as np\n",
    "import pandas as pd\n",
    "\n",
    "# setting notebook\n",
    "pd.set_option(\"display.max_columns\", None)"
   ]
  },
  {
   "cell_type": "code",
   "execution_count": 2,
   "id": "51c8e5e4-df04-44cd-91f6-d24cf54f9ba1",
   "metadata": {},
   "outputs": [
    {
     "name": "stdout",
     "output_type": "stream",
     "text": [
      "C:\\Users\\user\\Desktop\\gte\\notebooks\\data-joined\n"
     ]
    }
   ],
   "source": [
    "# go to data-joined folder\n",
    "%cd data-joined"
   ]
  },
  {
   "cell_type": "code",
   "execution_count": 3,
   "id": "2e991bf4-9c30-4253-96fc-8172024e4802",
   "metadata": {},
   "outputs": [
    {
     "name": "stdout",
     "output_type": "stream",
     "text": [
      "C:\\Users\\user\\Desktop\\gte\\notebooks\n"
     ]
    }
   ],
   "source": [
    "%run xuat_combined.ipynb \n",
    "%run po_combined.ipynb \n",
    "%run dmsp.ipynb\n",
    "%run dmkh.ipynb\n",
    "\n",
    "#go back the tree\n",
    "%cd .."
   ]
  },
  {
   "cell_type": "code",
   "execution_count": 4,
   "id": "d1c6d612-3ec9-4761-a260-742290aa4805",
   "metadata": {},
   "outputs": [],
   "source": [
    "# make copy\n",
    "xuat = xuat_joined.copy()\n",
    "po = po_joined.copy()\n",
    "sp = dmsp_full.copy()\n",
    "kh = dmkh_full.copy()"
   ]
  },
  {
   "cell_type": "markdown",
   "id": "1f5c27cd-db0d-470e-9364-c3ad4c1de833",
   "metadata": {},
   "source": [
    "# A. PO"
   ]
  },
  {
   "cell_type": "markdown",
   "id": "dbac82e1-c668-46a9-9830-e4db9b541ea3",
   "metadata": {},
   "source": [
    "## 01. select cols"
   ]
  },
  {
   "cell_type": "code",
   "execution_count": 5,
   "id": "f8f99861-5bfa-417c-9dc6-93047be7ce2a",
   "metadata": {},
   "outputs": [],
   "source": [
    "# select use cols\n",
    "cols_used = ['id',\n",
    " 'id_account',\n",
    " 'stakeholder',\n",
    " 'receive_date',\n",
    " 'delivery_deadline',\n",
    " 'delivery_date',\n",
    " 'invoice_date',\n",
    " 'pickup_note',\n",
    " 'po_status',\n",
    " 'warehouse',\n",
    " 'invoice_type']\n",
    "\n",
    "po_selected_cols = po[cols_used]"
   ]
  },
  {
   "cell_type": "markdown",
   "id": "7c3613da-30cb-4e98-916a-61e4d7f35208",
   "metadata": {},
   "source": [
    "#### replace label"
   ]
  },
  {
   "cell_type": "code",
   "execution_count": 6,
   "id": "243f0329-f544-4909-95bf-2dd9105cdea7",
   "metadata": {},
   "outputs": [],
   "source": [
    "po_replace = po_selected_cols.copy()\n",
    "\n",
    "#Replace 'Chua thuc hien' => 'Da nhat hang'\n",
    "po_replace.loc[(po_replace['po_status'].str.contains('Chưa thực hiện')) \n",
    "                & (po_replace['pickup_note'].str.contains('Đã nhặt hàng')),'po_status'] = 'Đã nhặt hàng'\n",
    "\n",
    "#Replace 'De xuat' => 'Don'\n",
    "po_replace['invoice_type'] = po_replace['invoice_type'].str.replace(r'Đề xuất', 'Đơn', regex=True)"
   ]
  },
  {
   "cell_type": "markdown",
   "id": "03ae1af2-3f97-4744-9bcf-be30d45e4a6b",
   "metadata": {},
   "source": [
    "## 02. impute"
   ]
  },
  {
   "cell_type": "code",
   "execution_count": 7,
   "id": "4a3f76d3-c67a-43bc-90b4-50a9825a6655",
   "metadata": {},
   "outputs": [],
   "source": [
    "# make a copy\n",
    "po_cal = po_replace.copy()\n",
    "\n",
    "# create month\n",
    "po_cal['month_receive'] = pd.DatetimeIndex(po_cal['receive_date']).month\n"
   ]
  },
  {
   "cell_type": "markdown",
   "id": "d2313ad1-4e12-49b0-b4c1-3f5939d558a0",
   "metadata": {},
   "source": [
    "#### day return"
   ]
  },
  {
   "cell_type": "code",
   "execution_count": 8,
   "id": "022dc6f9-814b-4a31-8622-ab6d4f442660",
   "metadata": {},
   "outputs": [],
   "source": [
    "# impute date diff invoice\n",
    "diff_ct_yes = (po_cal['invoice_date'] - po_cal['delivery_date']).dt.days #da hoan\n",
    "diff_ct_no = (pd.Timestamp.now().normalize() - po_cal['delivery_date']).dt.days #chua hoan\n",
    "\n",
    "conditions = [\n",
    "    po_cal['po_status']=='Đã bàn giao chứng từ',\n",
    "    po_cal['po_status']=='Đã giao hàng'\n",
    "]\n",
    "choices = [diff_ct_yes, diff_ct_no]\n",
    "\n",
    "po_cal['datediff_invoice'] = np.select(conditions, choices, default=np.nan)\n"
   ]
  },
  {
   "cell_type": "markdown",
   "id": "89433b10-2956-4db7-aaaa-50aec2500a61",
   "metadata": {},
   "source": [
    "#### day delivery"
   ]
  },
  {
   "cell_type": "code",
   "execution_count": 9,
   "id": "3ae5af43-eb74-472f-aa97-ab7112616051",
   "metadata": {},
   "outputs": [],
   "source": [
    "# impute date diff delivery\n",
    "diff_deli = (po_cal['delivery_date'] - po_cal['receive_date']).dt.days\n",
    "po_cal['datediff_delivery'] = np.where(diff_deli<0, np.nan, diff_deli)"
   ]
  },
  {
   "cell_type": "markdown",
   "id": "bd718d83-8539-4668-990c-c5104dd8575d",
   "metadata": {},
   "source": [
    "## 03. filter"
   ]
  },
  {
   "cell_type": "code",
   "execution_count": 10,
   "id": "ba669701-2fa0-4e2d-a048-52e8dc5e28cd",
   "metadata": {},
   "outputs": [],
   "source": [
    "po_filter = po_cal.copy()\n",
    "\n",
    "#Filter Warehouse not contains\n",
    "values_to_remove = [\n",
    "    'Online', 'Upbase',\n",
    "    'Hyperion','hư hỏng','xử lý','Hư Hỏng','khuyến mãi','Tồn hàng','hàng hóa', 'Kho treo hàng'] \n",
    "\n",
    "pattern = '|'.join(values_to_remove)\n",
    "\n",
    "po_filter_kho = po_filter.loc[~po_filter['warehouse'].str.contains(pattern, case=False)]\n",
    "\n",
    "#Filter Ma chu hang HP, RW\n",
    "values_to_filter = ['HP', 'RW'] \n",
    "\n",
    "pattern_mch = '|'.join(values_to_filter)\n",
    "\n",
    "po_filter_mch = po_filter_kho.loc[po_filter_kho['stakeholder'].str.contains(pattern_mch, case=False)]\n",
    "po_processed = po_filter_mch.copy()"
   ]
  },
  {
   "cell_type": "markdown",
   "id": "00a14f4d-6c5a-43de-932d-2f872ce4b507",
   "metadata": {},
   "source": [
    "# B. BCKT"
   ]
  },
  {
   "cell_type": "markdown",
   "id": "628079f3-256a-4490-85c7-cb43fb547671",
   "metadata": {},
   "source": [
    "## 01. merge dmsp\n",
    "merge to dmsp to impute some metrics about po"
   ]
  },
  {
   "cell_type": "code",
   "execution_count": 11,
   "id": "79d35b97-78f3-4674-8840-f10372da3540",
   "metadata": {},
   "outputs": [],
   "source": [
    "# merge\n",
    "xuat_dmsp = xuat.merge(sp, left_on='product_code', right_on='product_code', how='left')\n"
   ]
  },
  {
   "cell_type": "markdown",
   "id": "893f8d3b-4bfb-49c1-904c-3e45ae5c5aad",
   "metadata": {},
   "source": [
    "## 02. impute"
   ]
  },
  {
   "cell_type": "code",
   "execution_count": 12,
   "id": "386ed526-c586-4f67-986a-dcaef966b60f",
   "metadata": {},
   "outputs": [],
   "source": [
    "\n",
    "# impute cbm, weight\n",
    "xuat_dmsp['cbm_unit'] = xuat_dmsp['cbm_unit']*xuat_dmsp['quantity']\n",
    "xuat_dmsp['GrossWeightProductg'] = xuat_dmsp['GrossWeightProductg']*xuat_dmsp['quantity']\n",
    "\n",
    "# aggregate \n",
    "xuat_dmsp = xuat_dmsp.groupby(['id', 'stakeholder']).agg(\n",
    "      {\n",
    "        'cbm_unit': 'sum',\n",
    "        'GrossWeightProductg': 'sum',\n",
    "        'quantity': 'sum',\n",
    "        'product_code': 'count',\n",
    "        'sub_total': 'sum'\n",
    "      }\n",
    ")\n",
    "\n",
    "# rename cols\n",
    "dict_rename = {\n",
    "    'cbm_unit': 'cbm',\n",
    "     'GrossWeightProductg': 'weight_g',\n",
    "     'product_code': 'sku',\n",
    "     'sub_total': 'amount'\n",
    "}\n",
    "\n",
    "xuat_dmsp.rename(columns=dict_rename, inplace=True)\n",
    "xuat_processed = xuat_dmsp.copy()"
   ]
  },
  {
   "cell_type": "markdown",
   "id": "6276b885-7aaa-49b5-a6bd-01163d9197cb",
   "metadata": {},
   "source": [
    "# C. Create data"
   ]
  },
  {
   "cell_type": "code",
   "execution_count": 13,
   "id": "172d590a-a89c-4507-a3a3-f9fd6383f078",
   "metadata": {},
   "outputs": [],
   "source": [
    "# Create data region\n",
    "data = [\n",
    "    [\"Kho Hà Nội\", \"Miền Bắc\"],\n",
    "    [\"Kho Phạm Văn Đồng\", \"Miền Nam\"],\n",
    "    [\"Kho Bình Tân\", \"Miền Nam\"],\n",
    "    [\"Kho Bùi Thị Xuân\", \"Miền Nam\"],\n",
    "    [\"Kho Đà Nẵng\", \"Miền Trung\"],\n",
    "    [\"Kho Thuận An\", \"Miền Nam\"],\n",
    "    [\"Kho Bình Hòa\", \"Miền Nam\"],\n",
    "    [\"Kho thuê dịch vụ - Daso\", \"Miền Nam\"],\n",
    "    [\"Kho Woojin Bắc Ninh\", \"Miền Bắc\"],\n",
    "    [\"Kho LogisValley - Long Biên\", \"Miền Bắc\"],\n",
    "    [\"Kho thuê ngoài Emskip Q9\", \"Miền Nam\"],\n",
    "    [\"Kho LogisticValey - Long Biên\", \"Miền Bắc\"],\n",
    "    [\"Kho Hateco Long Biên\", \"Miền Bắc\"],\n",
    "    [\"Kho Gamuda Hà Nội\", \"Miền Bắc\"],\n",
    "    [\"Kho thuê dịch vụ Daso\", \"Miền Nam\"],\n",
    "    ['Kho LogisticValey Long Biên',\"Miền Bắc\"],\n",
    "    \n",
    "    # online\n",
    "    ['Kho Online PVD', 'online'],\n",
    "    ['Kho Online Hà Nội', 'online'],\n",
    "    ['Kho Online Đà Nẵng', 'online'],\n",
    "    ['Kho Online Nơ Trang Long', 'online'],\n",
    "    ['Kho Upbase Nơ Trang Long', 'online'],\n",
    "    ['Kho Online Upbase Hà Nội', 'online'],\n",
    "    ['Kho Online Upbase PVD', 'online']\n",
    "]\n",
    "\n",
    "df_rgn = pd.DataFrame(data, columns=[\"warehouse\", \"region\"])\n",
    "\n",
    "# Create inside, outside of city\n",
    "data_in_sub = [\n",
    "    [\"Kho Hà Nội\", \"Hà Nội\", \"Nội thành\"],\n",
    "    [\"Kho Phạm Văn Đồng\", \"Hồ Chí Minh\", \"Nội thành\"],\n",
    "    [\"Kho Bình Tân\", \"Hồ Chí Minh\", \"Nội thành\"],\n",
    "    [\"Kho Bùi Thị Xuân\", \"Bình Dương\", \"Nội thành\"],\n",
    "    [\"Kho Đà Nẵng\", \"Đà Nẵng\", \"Nội thành\"],\n",
    "    [\"Kho Thuận An\", \"Bình Dương\", \"Nội thành\"],\n",
    "    [\"Kho Bình Hòa\", \"Hồ Chí Minh\", \"Nội thành\"],\n",
    "    [\"Kho thuê dịch vụ - Daso\", \"Hồ Chí Minh\", \"Nội thành\"],\n",
    "    [\"Kho Woojin Bắc Ninh\", \"Hà Nội\", \"Nội thành\"],\n",
    "    [\"Kho LogisValley - Long Biên\", \"Hà Nội\", \"Nội thành\"],\n",
    "    [\"Kho thuê ngoài Emskip Q9\", \"Hồ Chí Minh\", \"Nội thành\"],\n",
    "    [\"Kho LogisticValey - Long Biên\", \"Hà Nội\", \"Nội thành\"],\n",
    "    [\"Kho Hateco Long Biên\", \"Hà Nội\", \"Nội thành\"],\n",
    "    [\"Kho Gamuda Hà Nội\", \"Hà Nội\", \"Nội thành\"],\n",
    "    [\"Kho thuê dịch vụ Daso\", \"Hồ Chí Minh\", \"Nội thành\"],\n",
    "    ['Kho LogisticValey Long Biên',\"Hà Nội\", \"Nội thành\"],\n",
    "    \n",
    "    # online\n",
    "    ['Kho Online PVD', 'online', 'online'],\n",
    "    ['Kho Online Hà Nội', 'online', 'online'],\n",
    "    ['Kho Online Đà Nẵng', 'online', 'online'],\n",
    "    ['Kho Online Nơ Trang Long', 'online', 'online'],\n",
    "    ['Kho Upbase Nơ Trang Long', 'online', 'online'],\n",
    "    ['Kho Online Upbase Hà Nội', 'online', 'online'],\n",
    "    ['Kho Online Upbase PVD', 'online', 'online']\n",
    "]\n",
    "\n",
    "df_in_sub = pd.DataFrame(data_in_sub, columns=[\"warehouse\", \"destination\", \"in_out_city\"])"
   ]
  },
  {
   "cell_type": "markdown",
   "id": "dc343999-c11b-499a-88af-3ce16b247346",
   "metadata": {},
   "source": [
    "# D. merge all"
   ]
  },
  {
   "cell_type": "code",
   "execution_count": 14,
   "id": "ce480ca4-c1e8-4d47-a3d4-821d991d8ac9",
   "metadata": {},
   "outputs": [],
   "source": [
    "# merge bckt\n",
    "po_xuat = po_processed.merge(\n",
    "    xuat_processed, on=['id', 'stakeholder'], how=\"left\")\n",
    "\n",
    "# merge region\n",
    "po_region = po_xuat.merge(df_rgn, on=\"warehouse\", how=\"left\")\n",
    "\n",
    "# merge DMKH\n",
    "po_kh = po_region.merge(\n",
    "    kh[['id_account', 'account_name', 'destination']], on=\"id_account\", how=\"left\")\n",
    "\n",
    "# merge inner/suburbs data\n",
    "po_insub = po_kh.merge(df_in_sub, on=[\"warehouse\", \"destination\"], how=\"left\")\n"
   ]
  },
  {
   "cell_type": "code",
   "execution_count": 15,
   "id": "daed690b-c26f-468f-8b67-269cb6f461f3",
   "metadata": {},
   "outputs": [],
   "source": [
    "# 'ngoai thanh' if destionation is null\n",
    "po_insub.loc[~po_insub['destination'].isna(), \"in_out_city\"] = po_insub['in_out_city'].fillna(\"Ngoại thành\")\n",
    "\n",
    "# impute return invoice class\n",
    "conditions = [\n",
    "    po_insub[\"datediff_invoice\"] < 0,\n",
    "    po_insub[\"datediff_invoice\"] <= 6,\n",
    "    po_insub[\"datediff_invoice\"] <= 14,\n",
    "    po_insub[\"datediff_invoice\"] <= 30,\n",
    "    po_insub[\"datediff_invoice\"] > 30,\n",
    "]\n",
    "choices = [\"invalid\", \"0 - 6 ngày\", \"7 - 14 ngày\", \"15 - 30 ngày\", \"Trễ\"]\n",
    "\n",
    "po_insub[\"returninvoice_class\"] = np.select(conditions, choices, default=np.nan)\n",
    "po_run = po_insub.copy()\n",
    "po_run['id'] = po_run['id'] + po_run['stakeholder']\n"
   ]
  },
  {
   "cell_type": "markdown",
   "id": "0a188d5f-7f12-4895-953f-d0b684052d6a",
   "metadata": {},
   "source": [
    "# E. export"
   ]
  },
  {
   "cell_type": "code",
   "execution_count": 16,
   "id": "7cf76c8d-7cb4-4173-9bd5-09f67992c629",
   "metadata": {},
   "outputs": [],
   "source": [
    "import datetime\n",
    "file_path = '../data/processed/'\n",
    "namefile = f'PO_{datetime.datetime.now().strftime(\"%H%M_%Y%m%d\")}.csv'\n",
    "po_run.to_csv(file_path+namefile, index=False, encoding=\"utf-8-sig\")\n"
   ]
  },
  {
   "cell_type": "code",
   "execution_count": 17,
   "id": "d94c6532-0f98-49ea-9188-0a32f9dd4e91",
   "metadata": {},
   "outputs": [
    {
     "data": {
      "text/plain": [
       "[]"
      ]
     },
     "execution_count": 17,
     "metadata": {},
     "output_type": "execute_result"
    }
   ],
   "source": [
    "po_run[po_run['region'].isnull()]['warehouse'].unique().tolist()"
   ]
  },
  {
   "cell_type": "code",
   "execution_count": null,
   "id": "18ade729-0037-4b12-b0be-593d2c852c1b",
   "metadata": {},
   "outputs": [],
   "source": []
  },
  {
   "cell_type": "code",
   "execution_count": null,
   "id": "33a50dbc-5ff0-46ab-b217-94a336d002ba",
   "metadata": {},
   "outputs": [],
   "source": []
  },
  {
   "cell_type": "code",
   "execution_count": null,
   "id": "92b8ebc2-ec3a-4bf3-8046-d9006d812d09",
   "metadata": {},
   "outputs": [],
   "source": []
  },
  {
   "cell_type": "code",
   "execution_count": null,
   "id": "243c2a19-c83b-4cec-95c3-6c2b83782988",
   "metadata": {},
   "outputs": [],
   "source": []
  },
  {
   "cell_type": "code",
   "execution_count": null,
   "id": "eb293393-17b8-4c3c-829d-d23831bb12dd",
   "metadata": {},
   "outputs": [],
   "source": []
  },
  {
   "cell_type": "code",
   "execution_count": null,
   "id": "8a254437-50be-4f4a-b18b-d0137e137947",
   "metadata": {},
   "outputs": [],
   "source": []
  },
  {
   "cell_type": "code",
   "execution_count": null,
   "id": "ef25bf5f-113f-4846-a86d-c165e84514ee",
   "metadata": {},
   "outputs": [],
   "source": []
  },
  {
   "cell_type": "code",
   "execution_count": null,
   "id": "032ddba2-43ac-48a1-9aff-7eb0176d2c7b",
   "metadata": {},
   "outputs": [],
   "source": []
  },
  {
   "cell_type": "code",
   "execution_count": null,
   "id": "b284a94b-7c09-4930-8465-d7cbb5e8922d",
   "metadata": {},
   "outputs": [],
   "source": []
  },
  {
   "cell_type": "code",
   "execution_count": null,
   "id": "1ac6c77c-3e4b-4c19-9089-1b6437bfe4f5",
   "metadata": {},
   "outputs": [],
   "source": []
  },
  {
   "cell_type": "code",
   "execution_count": null,
   "id": "f762613a-b194-4ed7-8771-6c327ae83b87",
   "metadata": {},
   "outputs": [],
   "source": []
  }
 ],
 "metadata": {
  "kernelspec": {
   "display_name": "Python 3 (ipykernel)",
   "language": "python",
   "name": "python3"
  },
  "language_info": {
   "codemirror_mode": {
    "name": "ipython",
    "version": 3
   },
   "file_extension": ".py",
   "mimetype": "text/x-python",
   "name": "python",
   "nbconvert_exporter": "python",
   "pygments_lexer": "ipython3",
   "version": "3.9.15"
  }
 },
 "nbformat": 4,
 "nbformat_minor": 5
}
