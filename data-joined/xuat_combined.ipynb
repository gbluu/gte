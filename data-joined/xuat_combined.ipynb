{
 "cells": [
  {
   "cell_type": "code",
   "execution_count": 2,
   "id": "655763a4-7912-4616-9b03-a0da2a40aef4",
   "metadata": {},
   "outputs": [],
   "source": [
    "import pandas as pd\n",
    "import os\n",
    "import glob\n",
    "import numpy as np\n",
    "\n",
    "# setting notebook\n",
    "pd.set_option('display.max_columns', None)"
   ]
  },
  {
   "cell_type": "code",
   "execution_count": 3,
   "id": "522f46e1-e2cc-44db-813f-0b7b7cce65ba",
   "metadata": {},
   "outputs": [],
   "source": [
    "# my_dir = os.getcwd()\n",
    "path = r'../../data/raw/01-bckt-all/'\n",
    "\n",
    "all_files = glob.glob(os.path.join(path , \"*.csv\"))\n",
    "\n",
    "# li = []\n",
    "\n",
    "# # for filename in all_files:\n",
    "# #     df = pd.read_csv(filename, index_col=None, header=4, dtype=str)\n",
    "# #     li.append(df)\n",
    "\n",
    "xuat_cbn = pd.concat((pd.read_csv(f, index_col=None, header=4, dtype=str) for f in all_files), ignore_index=True)"
   ]
  },
  {
   "cell_type": "code",
   "execution_count": 4,
   "id": "776c5f61-6817-4e1a-b677-1af1283344f9",
   "metadata": {},
   "outputs": [],
   "source": [
    "#Drop null rows\n",
    "xuat_nonull = xuat_cbn.dropna(subset=['Mã phiếu đề xuất']).reset_index(drop=True) "
   ]
  },
  {
   "cell_type": "code",
   "execution_count": 5,
   "id": "55d20884-7fc6-433b-beae-7aeea97b87fe",
   "metadata": {},
   "outputs": [],
   "source": [
    "# drop unnamed col\n",
    "xuat_drop_col = xuat_nonull.loc[:, ~xuat_nonull.columns.str.contains('^Unnamed')]"
   ]
  },
  {
   "cell_type": "code",
   "execution_count": 6,
   "id": "6fa35c0f-4969-4352-9a4b-791a3d53ee0f",
   "metadata": {},
   "outputs": [],
   "source": [
    "# filter xuat ban\n",
    "xuat_ban_only = xuat_drop_col[xuat_drop_col['Loại phiếu'] == 'Xuất bán KH'].reset_index(drop=True) "
   ]
  },
  {
   "cell_type": "code",
   "execution_count": 7,
   "id": "54a77594-e043-44e9-ba23-009251f378b6",
   "metadata": {},
   "outputs": [],
   "source": [
    "# convert number\n",
    "xuat_cvt_num = xuat_ban_only.copy()\n",
    "xuat_cvt_num['Số lượng\\n(Quantily)'] = xuat_cvt_num['Số lượng\\n(Quantily)'].str.strip().str.replace(',','').replace(\"(\", \"\").replace(\")\", \"\").astype(float)\n",
    "xuat_cvt_num['Tiền hàng\\n(Sub Total)'] = xuat_cvt_num['Tiền hàng\\n(Sub Total)'].str.strip().str.replace(',','').replace(\"(\", \"\").replace(\")\", \"\").astype(float)"
   ]
  },
  {
   "cell_type": "code",
   "execution_count": 8,
   "id": "e4548460-2654-48df-98e6-9346ae5340e9",
   "metadata": {
    "tags": []
   },
   "outputs": [],
   "source": [
    "#convert str\n",
    "xuat_cvt_num['Mã vật tư\\n(Goods Code)'] = xuat_cvt_num['Mã vật tư\\n(Goods Code)'].astype('str')\n",
    "xuat_cvt_num['Số đơn đặt hàng'] = xuat_cvt_num['Số đơn đặt hàng'].astype('str')"
   ]
  },
  {
   "cell_type": "code",
   "execution_count": 9,
   "id": "08cc02e1-539f-4ad3-a221-1954c084d994",
   "metadata": {},
   "outputs": [],
   "source": [
    "#convert date\n",
    "date_cols = ['Ngày phiếu xuất',\n",
    "              'Ngày hết hạn (Expiry Date)',\n",
    "            'Ngày đặt hàng']\n",
    "xuat_cvt_num[date_cols] = xuat_cvt_num[date_cols].apply(pd.to_datetime, format='%d/%m/%Y')"
   ]
  },
  {
   "cell_type": "code",
   "execution_count": null,
   "id": "551246a5-a5d0-41cc-a9ad-f4599bf83784",
   "metadata": {},
   "outputs": [],
   "source": []
  },
  {
   "cell_type": "code",
   "execution_count": null,
   "id": "8ca75c76-20b0-4726-b1f0-b8fc9600ad8b",
   "metadata": {},
   "outputs": [],
   "source": []
  },
  {
   "cell_type": "code",
   "execution_count": 10,
   "id": "e49fefcc-d709-4119-a016-b379f5e70beb",
   "metadata": {},
   "outputs": [],
   "source": [
    "xuat_joined = xuat_cvt_num.copy()"
   ]
  },
  {
   "cell_type": "code",
   "execution_count": null,
   "id": "b20ccbaa-2d29-432f-adc7-76a609beef8a",
   "metadata": {},
   "outputs": [],
   "source": []
  },
  {
   "cell_type": "code",
   "execution_count": null,
   "id": "71733cd4-4cb5-421a-9d4b-dd367c070529",
   "metadata": {},
   "outputs": [],
   "source": []
  }
 ],
 "metadata": {
  "kernelspec": {
   "display_name": "Python 3 (ipykernel)",
   "language": "python",
   "name": "python3"
  },
  "language_info": {
   "codemirror_mode": {
    "name": "ipython",
    "version": 3
   },
   "file_extension": ".py",
   "mimetype": "text/x-python",
   "name": "python",
   "nbconvert_exporter": "python",
   "pygments_lexer": "ipython3",
   "version": "3.9.15"
  }
 },
 "nbformat": 4,
 "nbformat_minor": 5
}
