{
 "cells": [
  {
   "cell_type": "code",
   "execution_count": 2,
   "id": "fe1a9480-f009-4231-9b7c-edd4b44195e2",
   "metadata": {},
   "outputs": [],
   "source": [
    "import pandas as pd\n",
    "import os\n",
    "import glob\n",
    "import numpy as np\n",
    "\n",
    "# setting notebook\n",
    "pd.set_option('display.max_columns', None)"
   ]
  },
  {
   "cell_type": "code",
   "execution_count": 3,
   "id": "17d6bc64-ee13-4f97-91b5-028ad2b5c1f0",
   "metadata": {},
   "outputs": [],
   "source": [
    "path = \"../../data/raw/00-po-all\"\n",
    "\n",
    "all_files = glob.glob(os.path.join(path, \"*.csv\"))\n",
    "\n",
    "li = []\n",
    "\n",
    "for filename in all_files:\n",
    "    df = pd.read_csv(filename, dtype=str ,index_col=None, header=10)\n",
    "    li.append(df)\n",
    "\n",
    "po_cbn= pd.concat(li, axis=0, ignore_index=True)"
   ]
  },
  {
   "cell_type": "code",
   "execution_count": 4,
   "id": "b4762b4d-9a57-4c5e-adff-8c0617bd92e6",
   "metadata": {},
   "outputs": [],
   "source": [
    "#Drop null rows\n",
    "po_nonull = po_cbn.dropna(subset=['Số đơn hàng\\n(Order No)']).reset_index(drop=True)"
   ]
  },
  {
   "cell_type": "code",
   "execution_count": 5,
   "id": "451e4821-a05d-4f34-bd8e-5b5e06d91df2",
   "metadata": {},
   "outputs": [],
   "source": [
    "#Rename columns\n",
    "po_rename = po_nonull.rename(columns={'Unnamed: 24': 'Chứng từ KH ký nhận', 'Unnamed: 26': 'Chứng từ khác'}) "
   ]
  },
  {
   "cell_type": "code",
   "execution_count": 6,
   "id": "3d02592d-cebd-495b-a1f2-9467e24b6551",
   "metadata": {
    "tags": []
   },
   "outputs": [],
   "source": [
    "#Convert datetime\n",
    "date_cols = ['Ngày về\\n(Receiving Date)',\n",
    "              'Hạn chót giao hàng\\n(Delivery Deadline)',\n",
    "              'Ngày thực tế giao hàng']\n",
    "po_rename[date_cols] = po_rename[date_cols].apply(pd.to_datetime, format='%d/%m/%Y')\n",
    "\n",
    "po_rename['Chứng từ KH ký nhận'] = np.where(~po_rename['Chứng từ KH ký nhận'].astype(str).str.contains(r'^\\d{2}\\/\\d{2}\\/\\d{4}', regex=True, na=False), pd.NaT, po_rename['Chứng từ KH ký nhận'])\n",
    "po_rename['Chứng từ KH ký nhận'] = po_rename['Chứng từ KH ký nhận'].apply(pd.to_datetime, format='%d/%m/%Y')\n",
    "\n"
   ]
  },
  {
   "cell_type": "code",
   "execution_count": 7,
   "id": "c445438f-374d-44c3-bc8c-4a7cb292664f",
   "metadata": {},
   "outputs": [],
   "source": [
    "po_joined = po_rename.copy()"
   ]
  },
  {
   "cell_type": "code",
   "execution_count": 8,
   "id": "4881b626-fb73-4e38-9510-f9de0e281a33",
   "metadata": {},
   "outputs": [
    {
     "data": {
      "text/plain": [
       "['Số\\nTT',\n",
       " 'Mã phiếu đề xuất\\n(Code)',\n",
       " 'Số đơn hàng\\n(Order No)',\n",
       " 'Mã khách hàng\\n(Customer Code)',\n",
       " 'Tên khách hàng\\n(Customer Name)',\n",
       " 'Mã chủ hàng',\n",
       " 'Tên chủ hàng',\n",
       " \" Trị giá đơn hàng\\n(PO's value) \",\n",
       " 'Ngày về\\n(Receiving Date)',\n",
       " 'Hạn chót giao hàng\\n(Delivery Deadline)',\n",
       " 'Ngày giao hàng theo yêu cầu KH\\n(Delivery date requested by customer)',\n",
       " 'Ngày lên Phiếu xuất kho',\n",
       " 'Ngày bàn giao đơn hàng cho Giao Nhận',\n",
       " 'Ngày thực tế giao hàng',\n",
       " 'Đơn vị vận chuyển',\n",
       " 'Ngày thực tế giao hàng đến Điểm giao',\n",
       " 'Người giao hàng (Shipper delivery by)',\n",
       " 'Lý do hủy đơn hàng (Reason of cancel order)',\n",
       " 'Tình trạng hóa đơn\\n(Invoice status)',\n",
       " 'Unnamed: 19',\n",
       " 'Unnamed: 20',\n",
       " 'Unnamed: 21',\n",
       " 'Chứng từ trả về',\n",
       " 'Unnamed: 23',\n",
       " 'Chứng từ KH ký nhận',\n",
       " 'Unnamed: 25',\n",
       " 'Chứng từ khác',\n",
       " 'Người nhặt hàng',\n",
       " 'Tình trạng đơn hàng',\n",
       " 'Tình trnạg đơn hàng Smartlog',\n",
       " ' Số ngày xử lý ',\n",
       " 'Loại đơn hàng',\n",
       " 'Ngày dự kiến giao hàng',\n",
       " 'Mã Phiếu đề xuất của HP/ RW',\n",
       " 'Kho xuất',\n",
       " 'Loại phiếu',\n",
       " 'Mã NV 01',\n",
       " 'Mã NV 02',\n",
       " 'Mã NV 03',\n",
       " 'Mã NV 04',\n",
       " 'Mã NV 05',\n",
       " 'Mã NV 06',\n",
       " 'Mã NV 07',\n",
       " 'Mã NV 08',\n",
       " 'Mã NV 09',\n",
       " 'Mã NV 10']"
      ]
     },
     "execution_count": 8,
     "metadata": {},
     "output_type": "execute_result"
    }
   ],
   "source": [
    "po_joined.columns.tolist()"
   ]
  },
  {
   "cell_type": "code",
   "execution_count": null,
   "id": "9d6876b4-f9c5-466d-95ab-2ba846414e80",
   "metadata": {},
   "outputs": [],
   "source": []
  },
  {
   "cell_type": "code",
   "execution_count": null,
   "id": "860dcac6-df2a-43a1-8009-29f7a5d7814b",
   "metadata": {},
   "outputs": [],
   "source": []
  },
  {
   "cell_type": "code",
   "execution_count": null,
   "id": "c98d25dc-00b5-4ba2-8039-95706f7d5525",
   "metadata": {},
   "outputs": [],
   "source": []
  },
  {
   "cell_type": "code",
   "execution_count": null,
   "id": "bf84ef77-2915-4481-8804-5941a5254c5e",
   "metadata": {},
   "outputs": [],
   "source": []
  },
  {
   "cell_type": "code",
   "execution_count": null,
   "id": "2a9f601a-e32d-4690-be73-1fe7ba63757f",
   "metadata": {},
   "outputs": [],
   "source": []
  }
 ],
 "metadata": {
  "kernelspec": {
   "display_name": "Python 3 (ipykernel)",
   "language": "python",
   "name": "python3"
  },
  "language_info": {
   "codemirror_mode": {
    "name": "ipython",
    "version": 3
   },
   "file_extension": ".py",
   "mimetype": "text/x-python",
   "name": "python",
   "nbconvert_exporter": "python",
   "pygments_lexer": "ipython3",
   "version": "3.9.15"
  }
 },
 "nbformat": 4,
 "nbformat_minor": 5
}
