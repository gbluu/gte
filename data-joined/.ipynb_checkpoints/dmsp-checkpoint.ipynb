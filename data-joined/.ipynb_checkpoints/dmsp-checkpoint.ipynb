{
 "cells": [
  {
   "cell_type": "code",
   "execution_count": 2,
   "id": "283b7019-bcf3-4afe-b119-42a25c2e1865",
   "metadata": {},
   "outputs": [],
   "source": [
    "import pandas as pd\n",
    "import os\n",
    "import glob\n",
    "import numpy as np\n",
    "\n",
    "# setting notebook\n",
    "pd.set_option('display.max_columns', None)\n"
   ]
  },
  {
   "cell_type": "code",
   "execution_count": 3,
   "id": "63f8b77b-1c75-4ede-85da-45a452a5fe36",
   "metadata": {},
   "outputs": [],
   "source": [
    "dmsp = pd.read_csv(r'../../data/raw/03-dmsp/dmsp.csv', index_col=None, header=4)"
   ]
  },
  {
   "cell_type": "code",
   "execution_count": 4,
   "id": "b252c2fe-d370-4eaf-aded-8b5ee56116f9",
   "metadata": {},
   "outputs": [],
   "source": [
    "#Drop null rows\n",
    "dmsp_drop_null = dmsp.dropna(subset=['PRODUCT CODE']).reset_index(drop=True) "
   ]
  },
  {
   "cell_type": "code",
   "execution_count": 5,
   "id": "514d558c-af56-408f-bd92-c1db1ceda1a5",
   "metadata": {},
   "outputs": [],
   "source": [
    "#convert data type\n",
    "dmsp_convert = dmsp_drop_null.copy()\n",
    "dmsp_convert['GrossWeightProductg'] = dmsp_convert['GrossWeightProductg'].str.strip().str.replace(',','').replace(\"-\", \"0\").astype(float)\n",
    "dmsp_convert['CBM/Unit'] = dmsp_convert['CBM/Unit'].str.strip().str.replace(\"-\", \"0\").astype(float)"
   ]
  },
  {
   "cell_type": "code",
   "execution_count": 6,
   "id": "14a231d3-31b7-4a2b-8b47-dfef62c6dba3",
   "metadata": {},
   "outputs": [],
   "source": [
    "dmsp_full = dmsp_convert.copy()"
   ]
  },
  {
   "cell_type": "code",
   "execution_count": null,
   "id": "e9113be0-17de-424d-99c0-e6491cc52efd",
   "metadata": {},
   "outputs": [],
   "source": []
  },
  {
   "cell_type": "code",
   "execution_count": null,
   "id": "f453163c-aa53-48e9-9ec1-2ce0139581c1",
   "metadata": {},
   "outputs": [],
   "source": []
  },
  {
   "cell_type": "code",
   "execution_count": null,
   "id": "1176a47b-b26d-4625-aa1d-e65dd5234c9b",
   "metadata": {},
   "outputs": [],
   "source": []
  },
  {
   "cell_type": "code",
   "execution_count": null,
   "id": "592bc994-c3f2-477b-8f8e-5a537810ed58",
   "metadata": {},
   "outputs": [],
   "source": []
  },
  {
   "cell_type": "code",
   "execution_count": null,
   "id": "3a4a6bce-3528-4a0e-ac08-0ad35e17c5f5",
   "metadata": {},
   "outputs": [],
   "source": []
  }
 ],
 "metadata": {
  "kernelspec": {
   "display_name": "Python 3 (ipykernel)",
   "language": "python",
   "name": "python3"
  },
  "language_info": {
   "codemirror_mode": {
    "name": "ipython",
    "version": 3
   },
   "file_extension": ".py",
   "mimetype": "text/x-python",
   "name": "python",
   "nbconvert_exporter": "python",
   "pygments_lexer": "ipython3",
   "version": "3.9.15"
  }
 },
 "nbformat": 4,
 "nbformat_minor": 5
}
