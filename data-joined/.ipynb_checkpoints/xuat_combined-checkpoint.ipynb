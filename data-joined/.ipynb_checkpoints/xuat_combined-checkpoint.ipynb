{
 "cells": [
  {
   "cell_type": "code",
   "execution_count": 2,
   "id": "655763a4-7912-4616-9b03-a0da2a40aef4",
   "metadata": {},
   "outputs": [],
   "source": [
    "import glob\n",
    "import os\n",
    "\n",
    "import numpy as np\n",
    "import pandas as pd\n",
    "\n",
    "# setting notebook\n",
    "pd.set_option(\"display.max_columns\", None)"
   ]
  },
  {
   "cell_type": "code",
   "execution_count": 3,
   "id": "522f46e1-e2cc-44db-813f-0b7b7cce65ba",
   "metadata": {},
   "outputs": [],
   "source": [
    "# my_dir = os.getcwd()\n",
    "path = r\"../../data/raw/01-bckt-all/\"\n",
    "\n",
    "all_files = glob.glob(os.path.join(path, \"*.csv\"))\n",
    "\n",
    "# li = []\n",
    "\n",
    "# # for filename in all_files:\n",
    "# #     df = pd.read_csv(filename, index_col=None, header=4, dtype=str)\n",
    "# #     li.append(df)\n",
    "\n",
    "xuat_cbn = pd.concat(\n",
    "    (pd.read_csv(f, index_col=None, header=4, dtype=str) for f in all_files),\n",
    "    ignore_index=True,\n",
    ")"
   ]
  },
  {
   "cell_type": "code",
   "execution_count": 28,
   "id": "3c631e23-4379-4de6-95b1-a60f96cfc711",
   "metadata": {},
   "outputs": [],
   "source": [
    "# Rename columns\n",
    "xuat_rename = xuat_cbn.rename(\n",
    "    columns={\n",
    "        \"Loại phiếu\": \"invoice_type\",\n",
    "        \"Ngày phiếu xuất\": \"create_date\",\n",
    "        \"Mã phiếu xuất\": \"invoice_code\",\n",
    "        \"Mã phiếu đề xuất\": \"id\",  # key\n",
    "        \"Mã KH / NCC\\n(Customer Code / Vendor Code)\": \"id_account\",\n",
    "        \"Mã chủ hàng\": \"stakeholder\",\n",
    "        \"Chi nhánh\": \"warehouse\",\n",
    "        \"Mã vật tư\\n(Goods Code)\": \"product_code\",\n",
    "        \"Tên vật tư\\n(Goods Name)\": \"product_name\",\n",
    "        \"Đơn vị\\n(Unit)\": \"unit\",\n",
    "        \"Số lượng\\n(Quantily)\": \"quantity\",\n",
    "        \"Giá bán\\n(Price)\": \"price\",\n",
    "        \"Tiền hàng\\n(Sub Total)\": \"sub_total\",\n",
    "        \"Mã kho\\n(Warehouse Code)\": \"id_warehouse\",\n",
    "        \"Nhóm vật tư chính (Goods KeyGroup)\": \"brand\",\n",
    "        \"HSD\": \"exp_info\",\n",
    "        \"Ngày hết hạn (Expiry Date)\": \"exp_date\",\n",
    "        \"Số đơn đặt hàng\": \"id_po\",\n",
    "    }\n",
    ")"
   ]
  },
  {
   "cell_type": "code",
   "execution_count": 29,
   "id": "776c5f61-6817-4e1a-b677-1af1283344f9",
   "metadata": {},
   "outputs": [],
   "source": [
    "# Drop null rows\n",
    "xuat_nonull = xuat_rename.dropna(subset=[\"id\"]).reset_index(drop=True)"
   ]
  },
  {
   "cell_type": "code",
   "execution_count": 30,
   "id": "55d20884-7fc6-433b-beae-7aeea97b87fe",
   "metadata": {},
   "outputs": [],
   "source": [
    "# drop unnamed col\n",
    "xuat_drop_col = xuat_nonull.loc[:, ~xuat_nonull.columns.str.contains(\"^Unnamed\")]"
   ]
  },
  {
   "cell_type": "code",
   "execution_count": 31,
   "id": "6fa35c0f-4969-4352-9a4b-791a3d53ee0f",
   "metadata": {},
   "outputs": [],
   "source": [
    "# filter xuat ban\n",
    "xuat_ban_only = xuat_drop_col[\n",
    "    xuat_drop_col[\"invoice_type\"] == \"Xuất bán KH\"\n",
    "].reset_index(drop=True)"
   ]
  },
  {
   "cell_type": "code",
   "execution_count": 32,
   "id": "54a77594-e043-44e9-ba23-009251f378b6",
   "metadata": {},
   "outputs": [],
   "source": [
    "# convert number\n",
    "xuat_cvt_num = xuat_ban_only.copy()\n",
    "xuat_cvt_num[\"quantity\"] = (\n",
    "    xuat_cvt_num[\"quantity\"]\n",
    "    .str.strip()\n",
    "    .str.replace(\",\", \"\")\n",
    "    .replace(\"(\", \"\")\n",
    "    .replace(\")\", \"\")\n",
    "    .astype(float)\n",
    ")\n",
    "xuat_cvt_num[\"sub_total\"] = (\n",
    "    xuat_cvt_num[\"sub_total\"]\n",
    "    .str.strip()\n",
    "    .str.replace(\",\", \"\")\n",
    "    .replace(\"(\", \"\")\n",
    "    .replace(\")\", \"\")\n",
    "    .astype(float)\n",
    ")"
   ]
  },
  {
   "cell_type": "code",
   "execution_count": 33,
   "id": "e4548460-2654-48df-98e6-9346ae5340e9",
   "metadata": {
    "tags": []
   },
   "outputs": [],
   "source": [
    "# convert str\n",
    "xuat_cvt_num[\"product_code\"] = xuat_cvt_num[\"product_code\"].astype(\"str\")"
   ]
  },
  {
   "cell_type": "code",
   "execution_count": 34,
   "id": "08cc02e1-539f-4ad3-a221-1954c084d994",
   "metadata": {},
   "outputs": [],
   "source": [
    "# convert date\n",
    "date_cols = [\"create_date\", \"exp_date\"]\n",
    "xuat_cvt_num[date_cols] = xuat_cvt_num[date_cols].apply(\n",
    "    pd.to_datetime, format=\"%d/%m/%Y\"\n",
    ")"
   ]
  },
  {
   "cell_type": "code",
   "execution_count": 35,
   "id": "e49fefcc-d709-4119-a016-b379f5e70beb",
   "metadata": {},
   "outputs": [],
   "source": [
    "xuat_joined = xuat_cvt_num.copy()"
   ]
  },
  {
   "cell_type": "code",
   "execution_count": null,
   "id": "856101ce-4fe0-4c30-b80d-54f638427180",
   "metadata": {},
   "outputs": [],
   "source": []
  },
  {
   "cell_type": "code",
   "execution_count": null,
   "id": "5c8e9d6f-c875-485e-9968-fc3fa97c2dbd",
   "metadata": {},
   "outputs": [],
   "source": []
  },
  {
   "cell_type": "code",
   "execution_count": null,
   "id": "efa5eec0-fde3-4c24-871b-dbe709e76003",
   "metadata": {},
   "outputs": [],
   "source": []
  },
  {
   "cell_type": "code",
   "execution_count": null,
   "id": "6c8af6ce-8628-4f5d-b11e-b988cd0850a7",
   "metadata": {},
   "outputs": [],
   "source": []
  },
  {
   "cell_type": "code",
   "execution_count": null,
   "id": "d5b1933b-4895-4b54-996f-88bb816943c4",
   "metadata": {},
   "outputs": [],
   "source": []
  },
  {
   "cell_type": "code",
   "execution_count": null,
   "id": "44923145-c3c4-4390-ba7e-8eb542862b4a",
   "metadata": {},
   "outputs": [],
   "source": []
  },
  {
   "cell_type": "code",
   "execution_count": null,
   "id": "11ff6226-3a95-45e9-b800-7b71215ca713",
   "metadata": {},
   "outputs": [],
   "source": []
  },
  {
   "cell_type": "code",
   "execution_count": null,
   "id": "b20ccbaa-2d29-432f-adc7-76a609beef8a",
   "metadata": {},
   "outputs": [],
   "source": []
  },
  {
   "cell_type": "code",
   "execution_count": null,
   "id": "71733cd4-4cb5-421a-9d4b-dd367c070529",
   "metadata": {},
   "outputs": [],
   "source": []
  }
 ],
 "metadata": {
  "kernelspec": {
   "display_name": "Python 3 (ipykernel)",
   "language": "python",
   "name": "python3"
  },
  "language_info": {
   "codemirror_mode": {
    "name": "ipython",
    "version": 3
   },
   "file_extension": ".py",
   "mimetype": "text/x-python",
   "name": "python",
   "nbconvert_exporter": "python",
   "pygments_lexer": "ipython3",
   "version": "3.9.15"
  }
 },
 "nbformat": 4,
 "nbformat_minor": 5
}
