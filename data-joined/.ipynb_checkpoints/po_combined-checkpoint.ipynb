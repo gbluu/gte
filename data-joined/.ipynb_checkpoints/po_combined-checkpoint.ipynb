{
 "cells": [
  {
   "cell_type": "code",
   "execution_count": 2,
   "id": "fe1a9480-f009-4231-9b7c-edd4b44195e2",
   "metadata": {},
   "outputs": [],
   "source": [
    "import glob\n",
    "import os\n",
    "\n",
    "import numpy as np\n",
    "import pandas as pd\n",
    "\n",
    "# setting notebook\n",
    "pd.set_option(\"display.max_columns\", None)"
   ]
  },
  {
   "cell_type": "code",
   "execution_count": 3,
   "id": "17d6bc64-ee13-4f97-91b5-028ad2b5c1f0",
   "metadata": {},
   "outputs": [],
   "source": [
    "path = \"../../data/raw/00-po-all\"\n",
    "\n",
    "all_files = glob.glob(os.path.join(path, \"*.csv\"))\n",
    "\n",
    "li = []\n",
    "\n",
    "for filename in all_files:\n",
    "    df = pd.read_csv(filename, dtype=str, index_col=None, header=10)\n",
    "    li.append(df)\n",
    "\n",
    "po_cbn = pd.concat(li, axis=0, ignore_index=True)"
   ]
  },
  {
   "cell_type": "code",
   "execution_count": 4,
   "id": "b4762b4d-9a57-4c5e-adff-8c0617bd92e6",
   "metadata": {},
   "outputs": [],
   "source": [
    "# Drop null rows\n",
    "po_nonull = po_cbn.dropna(subset=[\"Số đơn hàng\\n(Order No)\"]).reset_index(drop=True)"
   ]
  },
  {
   "cell_type": "code",
   "execution_count": 23,
   "id": "451e4821-a05d-4f34-bd8e-5b5e06d91df2",
   "metadata": {},
   "outputs": [],
   "source": [
    "# Rename columns\n",
    "po_rename = po_nonull.rename(\n",
    "    columns={\n",
    "        \"Mã phiếu đề xuất\\n(Code)\": \"id\",  # duplicated\n",
    "        \"Số đơn hàng\\n(Order No)\": \"id_po\",  # duplicated\n",
    "        \"Mã khách hàng\\n(Customer Code)\": \"id_account\",\n",
    "        \"Tên khách hàng\\n(Customer Name)\": \"account_name\",\n",
    "        \"Mã chủ hàng\": \"stakeholder\",\n",
    "        \"Tên chủ hàng\": \"stackeholder_name\",\n",
    "        \"Ngày về\\n(Receiving Date)\": \"receive_date\",\n",
    "        \"Hạn chót giao hàng\\n(Delivery Deadline)\": \"delivery_deadline\",\n",
    "        \"Ngày lên Phiếu xuất kho\": \"create_date\",\n",
    "        \"Ngày bàn giao đơn hàng cho Giao Nhận\": \"forwardtodelivery_date\",\n",
    "        \"Ngày thực tế giao hàng\": \"delivery_date\",\n",
    "        \"Người giao hàng (Shipper delivery by)\": \"delivery_person\",\n",
    "        \"Unnamed: 23\": \"handover_invoice_date\",\n",
    "        \"Tình trạng đơn hàng\": \"po_status\",\n",
    "        \"Loại đơn hàng\": \"po_type\",\n",
    "        \"Kho xuất\": \"warehouse\",\n",
    "        \"Loại phiếu\": \"invoice_type\",\n",
    "        \"Unnamed: 24\": \"invoice_date\",\n",
    "        \"Unnamed: 26\": \"pickup_note\",\n",
    "    }\n",
    ")"
   ]
  },
  {
   "cell_type": "code",
   "execution_count": 24,
   "id": "3d02592d-cebd-495b-a1f2-9467e24b6551",
   "metadata": {
    "tags": []
   },
   "outputs": [],
   "source": [
    "# Convert datetime\n",
    "date_cols = [\"receive_date\", \"delivery_deadline\", \"delivery_date\"]\n",
    "po_rename[date_cols] = po_rename[date_cols].apply(pd.to_datetime, format=\"%d/%m/%Y\")\n",
    "\n",
    "po_rename[\"invoice_date\"] = np.where(\n",
    "    ~po_rename[\"invoice_date\"]\n",
    "    .astype(str)\n",
    "    .str.contains(r\"^\\d{2}\\/\\d{2}\\/\\d{4}\", regex=True, na=False),\n",
    "    pd.NaT,\n",
    "    po_rename[\"invoice_date\"],\n",
    ")\n",
    "po_rename[\"invoice_date\"] = po_rename[\"invoice_date\"].apply(\n",
    "    pd.to_datetime, format=\"%d/%m/%Y\"\n",
    ")"
   ]
  },
  {
   "cell_type": "code",
   "execution_count": 25,
   "id": "c445438f-374d-44c3-bc8c-4a7cb292664f",
   "metadata": {},
   "outputs": [],
   "source": [
    "po_joined = po_rename.copy()"
   ]
  },
  {
   "cell_type": "code",
   "execution_count": null,
   "id": "4881b626-fb73-4e38-9510-f9de0e281a33",
   "metadata": {},
   "outputs": [],
   "source": []
  },
  {
   "cell_type": "code",
   "execution_count": null,
   "id": "9d6876b4-f9c5-466d-95ab-2ba846414e80",
   "metadata": {},
   "outputs": [],
   "source": []
  },
  {
   "cell_type": "code",
   "execution_count": null,
   "id": "860dcac6-df2a-43a1-8009-29f7a5d7814b",
   "metadata": {},
   "outputs": [],
   "source": []
  },
  {
   "cell_type": "code",
   "execution_count": null,
   "id": "c98d25dc-00b5-4ba2-8039-95706f7d5525",
   "metadata": {},
   "outputs": [],
   "source": []
  },
  {
   "cell_type": "code",
   "execution_count": null,
   "id": "bf84ef77-2915-4481-8804-5941a5254c5e",
   "metadata": {},
   "outputs": [],
   "source": []
  },
  {
   "cell_type": "code",
   "execution_count": null,
   "id": "2a9f601a-e32d-4690-be73-1fe7ba63757f",
   "metadata": {},
   "outputs": [],
   "source": []
  }
 ],
 "metadata": {
  "kernelspec": {
   "display_name": "Python 3 (ipykernel)",
   "language": "python",
   "name": "python3"
  },
  "language_info": {
   "codemirror_mode": {
    "name": "ipython",
    "version": 3
   },
   "file_extension": ".py",
   "mimetype": "text/x-python",
   "name": "python",
   "nbconvert_exporter": "python",
   "pygments_lexer": "ipython3",
   "version": "3.9.15"
  }
 },
 "nbformat": 4,
 "nbformat_minor": 5
}
