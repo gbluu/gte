{
 "cells": [
  {
   "cell_type": "code",
   "execution_count": 1,
   "id": "2b2690d3-a5f5-4665-9cea-112c51bb0787",
   "metadata": {},
   "outputs": [],
   "source": [
    "import pandas as pd\n",
    "import os\n",
    "import glob\n",
    "import numpy as np\n",
    "\n",
    "# setting notebook\n",
    "pd.set_option('display.max_columns', None)"
   ]
  },
  {
   "cell_type": "code",
   "execution_count": 18,
   "id": "e6da3e62-3653-47db-a378-b3e81860eb78",
   "metadata": {},
   "outputs": [],
   "source": [
    "dmkh = pd.read_csv(r'../../data/raw/02-dmkh/dmkh.csv', index_col=None, dtype=str, header=4)"
   ]
  },
  {
   "cell_type": "code",
   "execution_count": 19,
   "id": "4358fcd4-67f4-494a-a89d-3c5af1367f4c",
   "metadata": {},
   "outputs": [],
   "source": [
    "#Drop null rows\n",
    "dmkh_drop_null = dmkh.dropna(subset=['Customer Code']).reset_index(drop=True) "
   ]
  },
  {
   "cell_type": "code",
   "execution_count": 20,
   "id": "3e84c20a-e6a0-44ed-be2d-e36cef0454a2",
   "metadata": {},
   "outputs": [],
   "source": [
    "#Drop duplicate rows\n",
    "dmkh_drop_dup = dmkh_drop_null.drop_duplicates(subset=\"Customer Code\", keep=False)"
   ]
  },
  {
   "cell_type": "code",
   "execution_count": 21,
   "id": "21e513c1-9f59-4989-961c-d4dc2df5366c",
   "metadata": {},
   "outputs": [],
   "source": [
    "# rename col\n",
    "dmkh_des = dmkh_drop_dup.rename(columns={\"Unnamed: 46\": \"Des\"}, errors=\"raise\").reset_index(drop=True) "
   ]
  },
  {
   "cell_type": "code",
   "execution_count": 23,
   "id": "7e00cd1f-a7ef-4ec6-a9af-df57e93417ed",
   "metadata": {},
   "outputs": [],
   "source": [
    "dmkh_full = dmkh_des.copy()"
   ]
  },
  {
   "cell_type": "code",
   "execution_count": null,
   "id": "f28a29ed-2e65-48a8-a41f-fe96963100eb",
   "metadata": {},
   "outputs": [],
   "source": []
  },
  {
   "cell_type": "code",
   "execution_count": null,
   "id": "c6e68936-6a6a-45d4-b6d3-ad00109d3949",
   "metadata": {},
   "outputs": [],
   "source": []
  },
  {
   "cell_type": "code",
   "execution_count": null,
   "id": "2d742537-daab-4696-b2ad-a3d7f3a15038",
   "metadata": {},
   "outputs": [],
   "source": []
  }
 ],
 "metadata": {
  "kernelspec": {
   "display_name": "Python 3 (ipykernel)",
   "language": "python",
   "name": "python3"
  },
  "language_info": {
   "codemirror_mode": {
    "name": "ipython",
    "version": 3
   },
   "file_extension": ".py",
   "mimetype": "text/x-python",
   "name": "python",
   "nbconvert_exporter": "python",
   "pygments_lexer": "ipython3",
   "version": "3.9.15"
  }
 },
 "nbformat": 4,
 "nbformat_minor": 5
}
