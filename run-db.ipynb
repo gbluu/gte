{
 "cells": [
  {
   "cell_type": "code",
   "execution_count": 1,
   "id": "3befbffa-6103-4cd9-a124-ec9e684a9dee",
   "metadata": {},
   "outputs": [],
   "source": [
    "import glob\n",
    "import os\n",
    "\n",
    "import numpy as np\n",
    "import pandas as pd\n",
    "\n",
    "# setting notebook\n",
    "pd.set_option(\"display.max_columns\", None)"
   ]
  },
  {
   "cell_type": "code",
   "execution_count": 2,
   "id": "2a7196ad-f5c0-4c06-b0b2-4dad749a1442",
   "metadata": {},
   "outputs": [
    {
     "name": "stdout",
     "output_type": "stream",
     "text": [
      "C:\\Users\\user\\Desktop\\gte\\notebooks\\data-joined\n"
     ]
    }
   ],
   "source": [
    "# go to data-joined folder\n",
    "%cd data-joined"
   ]
  },
  {
   "cell_type": "code",
   "execution_count": 3,
   "id": "d86d5081-ff3f-40d8-8f4a-3258efa5138f",
   "metadata": {
    "tags": []
   },
   "outputs": [],
   "source": [
    "%run xuat_combined.ipynb "
   ]
  },
  {
   "cell_type": "code",
   "execution_count": 4,
   "id": "518e8443-c4ee-4820-a836-1d81a5cc6a98",
   "metadata": {
    "tags": []
   },
   "outputs": [],
   "source": [
    "%run po_combined.ipynb "
   ]
  },
  {
   "cell_type": "code",
   "execution_count": 5,
   "id": "113f7991-7606-4d60-9472-e88902342543",
   "metadata": {
    "tags": []
   },
   "outputs": [],
   "source": [
    "%run dmsp.ipynb"
   ]
  },
  {
   "cell_type": "code",
   "execution_count": 6,
   "id": "cf1059c2-ca51-4ca8-a42d-bc89854cd3ad",
   "metadata": {},
   "outputs": [],
   "source": [
    "%run dmkh.ipynb"
   ]
  },
  {
   "cell_type": "code",
   "execution_count": 7,
   "id": "4304a6f4-399f-4952-9d56-f67d714cce63",
   "metadata": {},
   "outputs": [
    {
     "name": "stdout",
     "output_type": "stream",
     "text": [
      "C:\\Users\\user\\Desktop\\gte\\notebooks\n"
     ]
    }
   ],
   "source": [
    "#go back the tree\n",
    "%cd .."
   ]
  },
  {
   "cell_type": "code",
   "execution_count": 8,
   "id": "68f45013-f9b6-44f3-9b5a-ab35d86db771",
   "metadata": {},
   "outputs": [],
   "source": [
    "# make copy\n",
    "xuat = xuat_joined.copy()\n",
    "po = po_joined.copy()\n",
    "sp = dmsp_full.copy()\n",
    "kh = dmkh_full.copy()"
   ]
  },
  {
   "cell_type": "markdown",
   "id": "190a0537-4da9-4d56-9fc2-960206eb587c",
   "metadata": {},
   "source": [
    "# 01. PO Processing\n",
    "### drop cols"
   ]
  },
  {
   "cell_type": "code",
   "execution_count": 9,
   "id": "97bc5570-5697-4895-9031-919acb0f60e0",
   "metadata": {},
   "outputs": [],
   "source": [
    "#drop cols\n",
    "cols_used = ['Mã phiếu đề xuất\\n(Code)',\n",
    " 'Mã khách hàng\\n(Customer Code)',\n",
    " 'Mã chủ hàng',\n",
    " 'Ngày về\\n(Receiving Date)',\n",
    " 'Hạn chót giao hàng\\n(Delivery Deadline)',\n",
    " 'Ngày thực tế giao hàng',\n",
    " 'Chứng từ KH ký nhận',\n",
    " 'Chứng từ khác',\n",
    " 'Tình trạng đơn hàng',\n",
    " 'Kho xuất',\n",
    " 'Loại phiếu']"
   ]
  },
  {
   "cell_type": "code",
   "execution_count": 10,
   "id": "5061b022-6f6a-449b-ad20-88a5bf3a3aa8",
   "metadata": {},
   "outputs": [],
   "source": [
    "po_selected_cols = po[cols_used]"
   ]
  },
  {
   "cell_type": "markdown",
   "id": "96fba5e9-9182-4be1-b613-03ca67d33854",
   "metadata": {},
   "source": [
    "### replace values"
   ]
  },
  {
   "cell_type": "code",
   "execution_count": 11,
   "id": "e24efcf8-60ba-4a3f-856b-60908f488457",
   "metadata": {
    "tags": []
   },
   "outputs": [],
   "source": [
    "po_replace = po_selected_cols.copy()\n",
    "\n",
    "#Replace 'Chua thuc hien' => 'Da nhat hang'\n",
    "po_replace.loc[(po_replace['Tình trạng đơn hàng'].str.contains('Chưa thực hiện')) \n",
    "                & (po_replace['Chứng từ khác'].str.contains('Đã nhặt hàng')),'Tình trạng đơn hàng'] = 'Đã nhặt hàng'\n",
    "\n",
    "#Replace 'De xuat' => 'Don'\n",
    "po_replace['Loại phiếu'] = po_replace['Loại phiếu'].str.replace(r'Đề xuất', 'Đơn', regex=True)"
   ]
  },
  {
   "cell_type": "markdown",
   "id": "f73e95a8-3075-4c87-bd16-354224f95acd",
   "metadata": {},
   "source": [
    "### calculate"
   ]
  },
  {
   "cell_type": "code",
   "execution_count": 12,
   "id": "e9323f09-808f-46c8-a101-b39af65a4f13",
   "metadata": {},
   "outputs": [],
   "source": [
    "# make a copy\n",
    "po_cal = po_replace.copy()"
   ]
  },
  {
   "cell_type": "code",
   "execution_count": 13,
   "id": "05f318e1-1e0f-4271-823c-033ae8e4c4a8",
   "metadata": {},
   "outputs": [],
   "source": [
    "# create month\n",
    "po_cal['month'] = pd.DatetimeIndex(po_cal['Ngày về\\n(Receiving Date)']).month"
   ]
  },
  {
   "cell_type": "code",
   "execution_count": 14,
   "id": "d94f0db1-d3a1-4aef-b1ff-7f62f73dd3cf",
   "metadata": {},
   "outputs": [],
   "source": [
    "# impute date diff invoice\n",
    "\n",
    "diff_ct_yes = (po_cal['Chứng từ KH ký nhận'] - po_cal['Ngày thực tế giao hàng']).dt.days #da hoan\n",
    "diff_ct_no = (pd.Timestamp.now().normalize() - po_cal['Ngày thực tế giao hàng']).dt.days #chua hoan\n",
    "\n",
    "conditions = [\n",
    "    po_cal['Tình trạng đơn hàng']=='Đã bàn giao chứng từ',\n",
    "    po_cal['Tình trạng đơn hàng']=='Đã giao hàng'\n",
    "]\n",
    "choices = [diff_ct_yes, diff_ct_no]\n",
    "\n",
    "po_cal['datediff_chungtu'] = np.select(conditions, choices, default=np.nan)\n",
    "\n",
    "# impute date diff delivery\n",
    "\n",
    "diff_deli = (po_cal['Ngày thực tế giao hàng'] - po_cal['Ngày về\\n(Receiving Date)']).dt.days\n",
    "po_cal['datediff_giaohang'] = np.where(diff_deli<0, np.nan, diff_deli)"
   ]
  },
  {
   "cell_type": "markdown",
   "id": "33493cea-93b8-4ca8-90d1-3e877522ae28",
   "metadata": {},
   "source": [
    "### filter"
   ]
  },
  {
   "cell_type": "code",
   "execution_count": 15,
   "id": "1b0eb4fa-d87f-48bc-a236-97b09c174fdb",
   "metadata": {},
   "outputs": [],
   "source": [
    "po_filter = po_cal.copy()"
   ]
  },
  {
   "cell_type": "code",
   "execution_count": 16,
   "id": "4cedcdf3-b749-48f9-aeeb-767bfec6637c",
   "metadata": {},
   "outputs": [],
   "source": [
    "#Filter Warehouse not contains\n",
    "values_to_remove = ['Online','Hyperion','hư hỏng','xử lý','Hư Hỏng','Upbase','khuyến mãi','Tồn hàng','hàng hóa'] \n",
    "\n",
    "pattern = '|'.join(values_to_remove)\n",
    "\n",
    "po_filter_kho = po_filter.loc[~po_filter['Kho xuất'].str.contains(pattern, case=False)]"
   ]
  },
  {
   "cell_type": "code",
   "execution_count": 17,
   "id": "a46849b1-c4a9-4ea5-be25-dca01ab68d77",
   "metadata": {},
   "outputs": [],
   "source": [
    "#Filter Ma chu hang HP, RW\n",
    "values_to_remove_mch = ['HP','RW'] \n",
    "\n",
    "pattern_mch = '|'.join(values_to_remove_mch)\n",
    "\n",
    "po_filter_mch = po_filter_kho.loc[po_filter_kho['Mã chủ hàng'].str.contains(pattern_mch, case=False)]"
   ]
  },
  {
   "cell_type": "code",
   "execution_count": 18,
   "id": "06693be6-0bc0-48df-a32c-42d08371e0be",
   "metadata": {},
   "outputs": [],
   "source": [
    "po_processed = po_filter_mch.copy()"
   ]
  },
  {
   "cell_type": "markdown",
   "id": "bda8908b-b3fb-46c3-b537-8ffa21ffb410",
   "metadata": {},
   "source": [
    "# 02. BCKT"
   ]
  },
  {
   "cell_type": "code",
   "execution_count": 19,
   "id": "cf26ce17-9dbe-4a1b-a177-c3b3b73d83c2",
   "metadata": {},
   "outputs": [],
   "source": [
    "# merge\n",
    "xuat_dmsp = xuat.merge(sp, left_on='Mã vật tư\\n(Goods Code)', right_on='PRODUCT CODE', how='left')"
   ]
  },
  {
   "cell_type": "code",
   "execution_count": 20,
   "id": "907cbf26-89d0-4cfd-a5a7-b903c597fb0f",
   "metadata": {},
   "outputs": [],
   "source": [
    "xuat_dmsp['CBM/Unit'] = xuat_dmsp['CBM/Unit']*xuat_dmsp['Số lượng\\n(Quantily)']"
   ]
  },
  {
   "cell_type": "code",
   "execution_count": 21,
   "id": "b8985b62-f87d-476f-97b8-799b5faf6b28",
   "metadata": {},
   "outputs": [],
   "source": [
    "xuat_dmsp['GrossWeightProductg'] = xuat_dmsp['GrossWeightProductg']*xuat_dmsp['Số lượng\\n(Quantily)']"
   ]
  },
  {
   "cell_type": "code",
   "execution_count": 22,
   "id": "b083c5d1-5a9e-4e4e-b078-1052a763a56a",
   "metadata": {},
   "outputs": [],
   "source": [
    "# aggregate \n",
    "xuat_dmsp = xuat_dmsp.groupby(['Mã phiếu đề xuất', 'Mã chủ hàng_x']).agg(\n",
    "      {\n",
    "        'CBM/Unit': 'sum',\n",
    "        'GrossWeightProductg': 'sum',\n",
    "        'Số lượng\\n(Quantily)': 'sum',\n",
    "        'Mã vật tư\\n(Goods Code)': 'count',\n",
    "        'Tiền hàng\\n(Sub Total)': 'sum'\n",
    "      }\n",
    ")"
   ]
  },
  {
   "cell_type": "code",
   "execution_count": 23,
   "id": "1536ff99-e832-421f-9f96-48c64f901de9",
   "metadata": {},
   "outputs": [],
   "source": [
    "# rename cols\n",
    "dict_rename = {\n",
    "    'CBM/Unit': 'cbm_po',\n",
    "     'GrossWeightProductg': 'kg_po',\n",
    "     'Số lượng\\n(Quantily)': 'unit_po',\n",
    "     'Mã vật tư\\n(Goods Code)': 'sku_po',\n",
    "     'Tiền hàng\\n(Sub Total)': 'amount_po'\n",
    "}\n",
    "\n",
    "xuat_dmsp.rename(columns=dict_rename, inplace=True)"
   ]
  },
  {
   "cell_type": "code",
   "execution_count": 24,
   "id": "dabdcf9b-309e-4901-9d51-93423ff84e1a",
   "metadata": {},
   "outputs": [],
   "source": [
    "xuat_processed = xuat_dmsp.copy()"
   ]
  },
  {
   "cell_type": "markdown",
   "id": "34398701-bd78-4c51-bade-6185aa748181",
   "metadata": {},
   "source": [
    "# 03. Create Data"
   ]
  },
  {
   "cell_type": "code",
   "execution_count": 25,
   "id": "95ff17bd-5c50-4961-b2ab-a7f8e53399ef",
   "metadata": {},
   "outputs": [],
   "source": [
    "# Create data region\n",
    "data = [\n",
    "    [\"Kho Hà Nội\", \"Miền Bắc\"],\n",
    "    [\"Kho Phạm Văn Đồng\", \"Miền Nam\"],\n",
    "    [\"Kho Bình Tân\", \"Miền Nam\"],\n",
    "    [\"Kho Bùi Thị Xuân\", \"Miền Nam\"],\n",
    "    [\"Kho Đà Nẵng\", \"Miền Trung\"],\n",
    "    [\"Kho Thuận An\", \"Miền Nam\"],\n",
    "    [\"Kho Bình Hòa\", \"Miền Nam\"],\n",
    "    [\"Kho thuê dịch vụ - Daso\", \"Miền Nam\"],\n",
    "    [\"Kho Woojin Bắc Ninh\", \"Miền Bắc\"],\n",
    "    [\"Kho LogisValley - Long Biên\", \"Miền Bắc\"],\n",
    "    [\"Kho thuê ngoài Emskip Q9\", \"Miền Nam\"],\n",
    "    [\"Kho LogisticValey - Long Biên\", \"Miền Bắc\"],\n",
    "    [\"Kho Hateco Long Biên\", \"Miền Bắc\"],\n",
    "    [\"Kho Gamuda Hà Nội\", \"Miền Bắc\"],\n",
    "    [\"Kho thuê dịch vụ Daso\", \"Miền Nam\"],\n",
    "    ['Kho LogisticValey Long Biên',\"Miền Bắc\"]\n",
    "]\n",
    "\n",
    "# Create the pandas DataFrame\n",
    "df_rgn = pd.DataFrame(data, columns=[\"Kho\", \"Region\"])"
   ]
  },
  {
   "cell_type": "code",
   "execution_count": 26,
   "id": "5e5d73a7-7f20-4543-bfda-27b91500942a",
   "metadata": {},
   "outputs": [],
   "source": [
    "data_in_sub = [\n",
    "    [\"Kho Hà Nội\", \"Hà Nội\", \"Nội thành\"],\n",
    "    [\"Kho Phạm Văn Đồng\", \"Hồ Chí Minh\", \"Nội thành\"],\n",
    "    [\"Kho Bình Tân\", \"Hồ Chí Minh\", \"Nội thành\"],\n",
    "    [\"Kho Bùi Thị Xuân\", \"Bình Dương\", \"Nội thành\"],\n",
    "    [\"Kho Đà Nẵng\", \"Đà Nẵng\", \"Nội thành\"],\n",
    "    [\"Kho Thuận An\", \"Bình Dương\", \"Nội thành\"],\n",
    "    [\"Kho Bình Hòa\", \"Hồ Chí Minh\", \"Nội thành\"],\n",
    "    [\"Kho thuê dịch vụ - Daso\", \"Hồ Chí Minh\", \"Nội thành\"],\n",
    "    [\"Kho Woojin Bắc Ninh\", \"Hà Nội\", \"Nội thành\"],\n",
    "    [\"Kho LogisValley - Long Biên\", \"Hà Nội\", \"Nội thành\"],\n",
    "    [\"Kho thuê ngoài Emskip Q9\", \"Hồ Chí Minh\", \"Nội thành\"],\n",
    "    [\"Kho LogisticValey - Long Biên\", \"Hà Nội\", \"Nội thành\"],\n",
    "    [\"Kho Hateco Long Biên\", \"Hà Nội\", \"Nội thành\"],\n",
    "    [\"Kho Gamuda Hà Nội\", \"Hà Nội\", \"Nội thành\"],\n",
    "    [\"Kho thuê dịch vụ Daso\", \"Hồ Chí Minh\", \"Nội thành\"],\n",
    "    ['Kho LogisticValey Long Biên',\"Hà Nội\", \"Nội thành\"]\n",
    "]\n",
    "\n",
    "# Create the pandas DataFrame\n",
    "df_in_sub = pd.DataFrame(data_in_sub, columns=[\"Kho xuất\", \"Des\", \"in_sub\"])"
   ]
  },
  {
   "cell_type": "markdown",
   "id": "c155d3a1-0788-426f-9d47-2575e9f4c117",
   "metadata": {},
   "source": [
    "### Merge"
   ]
  },
  {
   "cell_type": "code",
   "execution_count": 27,
   "id": "8c65bb16-116a-463c-8c82-853f908eefd3",
   "metadata": {},
   "outputs": [],
   "source": [
    "# merge po - bckt\n",
    "po_xuat = po_processed.merge(\n",
    "    xuat_processed, left_on=['Mã phiếu đề xuất\\n(Code)', 'Mã chủ hàng'], right_on=['Mã phiếu đề xuất', 'Mã chủ hàng_x'], how=\"left\")"
   ]
  },
  {
   "cell_type": "code",
   "execution_count": 28,
   "id": "ca555a67-5a80-4b97-afae-4408d364a7ab",
   "metadata": {},
   "outputs": [],
   "source": [
    "# merge region\n",
    "po_region = po_xuat.merge(df_rgn, left_on=\"Kho xuất\", right_on=\"Kho\", how=\"left\").drop('Kho', axis=1)"
   ]
  },
  {
   "cell_type": "code",
   "execution_count": 29,
   "id": "3921fc62-4cd0-40f1-83e1-45879c9c4e1d",
   "metadata": {},
   "outputs": [],
   "source": [
    "# merge DMKH\n",
    "po_kh = po_region.merge(\n",
    "    kh[['Customer Code', 'Account', 'Des']], left_on=\"Mã khách hàng\\n(Customer Code)\", right_on=\"Customer Code\", how=\"left\").drop('Customer Code', axis=1)"
   ]
  },
  {
   "cell_type": "code",
   "execution_count": 30,
   "id": "45f89a35-725c-425f-816c-9cdb7b8e4a79",
   "metadata": {},
   "outputs": [],
   "source": [
    "# merge inner/suburbs data\n",
    "po_insub = po_kh.merge(df_in_sub, on=[\"Kho xuất\", \"Des\"], how=\"left\")"
   ]
  },
  {
   "cell_type": "code",
   "execution_count": 31,
   "id": "2c60e95f-1614-4b33-bd9b-e2232ed655e8",
   "metadata": {},
   "outputs": [],
   "source": [
    "po_insub.loc[~po_insub.Des.isna(), \"in_sub\"] = po_insub.in_sub.fillna(\"Ngoại thành\")"
   ]
  },
  {
   "cell_type": "code",
   "execution_count": 32,
   "id": "ac665114-3c4f-446a-af5c-116835c9d78b",
   "metadata": {},
   "outputs": [],
   "source": [
    "conditions = [\n",
    "    po_insub[\"datediff_chungtu\"] < 0,\n",
    "    po_insub[\"datediff_chungtu\"] <= 6,\n",
    "    po_insub[\"datediff_chungtu\"] <= 14,\n",
    "    po_insub[\"datediff_chungtu\"] <= 30,\n",
    "    po_insub[\"datediff_chungtu\"] > 30,\n",
    "]\n",
    "choices = [\"Invalid_days\", \"0 - 6 ngày\", \"7 - 14 ngày\", \"15 - 30 ngày\", \"Trễ\"]\n",
    "\n",
    "po_insub[\"day_level\"] = np.select(conditions, choices, default=np.nan)"
   ]
  },
  {
   "cell_type": "code",
   "execution_count": 33,
   "id": "5dcfe56e-6a5f-490b-891a-86d44451abf2",
   "metadata": {},
   "outputs": [],
   "source": [
    "po_run = po_insub.copy()"
   ]
  },
  {
   "cell_type": "code",
   "execution_count": 34,
   "id": "21390dbf-15f5-4d40-b3ef-229313dd3dd4",
   "metadata": {},
   "outputs": [],
   "source": [
    "po_run['Mã phiếu đề xuất\\n(Code)'] = po_run['Mã phiếu đề xuất\\n(Code)'] + po_run['Mã chủ hàng']"
   ]
  },
  {
   "cell_type": "code",
   "execution_count": 35,
   "id": "e5ec94c3-7713-4257-84bf-07b2fb9c0d9b",
   "metadata": {},
   "outputs": [],
   "source": [
    "dict_rename = {\n",
    "    \"Mã phiếu đề xuất\\n(Code)\": \"ID_PO\",\n",
    "    \"Mã khách hàng\\n(Customer Code)\": \"ID_cus\",\n",
    "    \"Ngày về\\n(Receiving Date)\": \"date_receive\",\n",
    "    \"Hạn chót giao hàng\\n(Delivery Deadline)\": \"deli_dl\",\n",
    "    \"Tiền hàng\\n(Sub Total)\": \"amount_po\",\n",
    "}\n",
    "\n",
    "po_run.rename(columns=dict_rename, inplace=True)"
   ]
  },
  {
   "cell_type": "markdown",
   "id": "78425a83-17c1-4635-80ae-0478402949bb",
   "metadata": {},
   "source": [
    "# 04. export csv"
   ]
  },
  {
   "cell_type": "code",
   "execution_count": 36,
   "id": "47d7d84e-422e-49c2-8653-1e0575b1feaf",
   "metadata": {},
   "outputs": [],
   "source": [
    "import datetime\n",
    "file_path = '../data/processed/'\n",
    "namefile = f'PO_{datetime.datetime.now().strftime(\"%H%M_%Y%m%d\")}.csv'\n",
    "po_run.to_csv(file_path+namefile, index=False, encoding=\"utf-8-sig\")"
   ]
  },
  {
   "cell_type": "code",
   "execution_count": 37,
   "id": "185d9a3d-33a8-4fb9-9219-46be200dccc2",
   "metadata": {},
   "outputs": [
    {
     "data": {
      "text/plain": [
       "array([], dtype=object)"
      ]
     },
     "execution_count": 37,
     "metadata": {},
     "output_type": "execute_result"
    }
   ],
   "source": [
    "po_run[po_run.Region.isnull()]['Kho xuất'].unique()"
   ]
  },
  {
   "cell_type": "code",
   "execution_count": null,
   "id": "c3b88be7-fde4-4f72-aa42-9ea041bc2038",
   "metadata": {},
   "outputs": [],
   "source": []
  }
 ],
 "metadata": {
  "kernelspec": {
   "display_name": "Python 3 (ipykernel)",
   "language": "python",
   "name": "python3"
  },
  "language_info": {
   "codemirror_mode": {
    "name": "ipython",
    "version": 3
   },
   "file_extension": ".py",
   "mimetype": "text/x-python",
   "name": "python",
   "nbconvert_exporter": "python",
   "pygments_lexer": "ipython3",
   "version": "3.9.15"
  }
 },
 "nbformat": 4,
 "nbformat_minor": 5
}
