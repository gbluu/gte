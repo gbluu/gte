{
 "cells": [
  {
   "cell_type": "code",
   "execution_count": 1,
   "id": "b05fe686-3a12-4dad-83f2-ab68cb6cbf75",
   "metadata": {},
   "outputs": [],
   "source": [
    "import glob\n",
    "import os\n",
    "\n",
    "import numpy as np\n",
    "import pandas as pd\n",
    "\n",
    "# setting notebook\n",
    "pd.set_option(\"display.max_columns\", None)"
   ]
  },
  {
   "cell_type": "code",
   "execution_count": 2,
   "id": "51c8e5e4-df04-44cd-91f6-d24cf54f9ba1",
   "metadata": {},
   "outputs": [
    {
     "name": "stdout",
     "output_type": "stream",
     "text": [
      "C:\\Users\\user\\Desktop\\gte\\notebooks\\data-joined\n"
     ]
    }
   ],
   "source": [
    "# go to data-joined folder\n",
    "%cd data-joined"
   ]
  },
  {
   "cell_type": "code",
   "execution_count": 3,
   "id": "2e991bf4-9c30-4253-96fc-8172024e4802",
   "metadata": {},
   "outputs": [
    {
     "name": "stdout",
     "output_type": "stream",
     "text": [
      "C:\\Users\\user\\Desktop\\gte\\notebooks\n"
     ]
    }
   ],
   "source": [
    "%run xuat_combined.ipynb \n",
    "%run po_combined.ipynb \n",
    "%run dmsp.ipynb\n",
    "%run dmkh.ipynb\n",
    "#go back the tree\n",
    "%cd .."
   ]
  },
  {
   "cell_type": "code",
   "execution_count": 4,
   "id": "d1c6d612-3ec9-4761-a260-742290aa4805",
   "metadata": {},
   "outputs": [],
   "source": [
    "# make copy\n",
    "xuat = xuat_joined.copy()\n",
    "po = po_joined.copy()\n",
    "sp = dmsp_full.copy()\n",
    "kh = dmkh_full.copy()"
   ]
  },
  {
   "cell_type": "markdown",
   "id": "1f5c27cd-db0d-470e-9364-c3ad4c1de833",
   "metadata": {
    "tags": []
   },
   "source": [
    "## PO"
   ]
  },
  {
   "cell_type": "code",
   "execution_count": 5,
   "id": "f8f99861-5bfa-417c-9dc6-93047be7ce2a",
   "metadata": {},
   "outputs": [],
   "source": [
    "#drop cols\n",
    "cols_used = ['Mã phiếu đề xuất\\n(Code)',\n",
    " 'Mã khách hàng\\n(Customer Code)',\n",
    " 'Mã chủ hàng',\n",
    " 'Ngày về\\n(Receiving Date)',\n",
    " 'Hạn chót giao hàng\\n(Delivery Deadline)',\n",
    " 'Ngày thực tế giao hàng',\n",
    " 'Chứng từ KH ký nhận',\n",
    " 'Chứng từ khác',\n",
    " 'Tình trạng đơn hàng',\n",
    " 'Kho xuất',\n",
    " 'Loại phiếu',\n",
    " 'Người giao hàng (Shipper delivery by)',\n",
    "'Unnamed: 23']\n",
    "\n",
    "po_selected_cols = po[cols_used]"
   ]
  },
  {
   "cell_type": "code",
   "execution_count": 6,
   "id": "243f0329-f544-4909-95bf-2dd9105cdea7",
   "metadata": {},
   "outputs": [],
   "source": [
    "po_replace = po_selected_cols.copy()\n",
    "\n",
    "#Replace 'Chua thuc hien' => 'Da nhat hang'\n",
    "po_replace.loc[(po_replace['Tình trạng đơn hàng'].str.contains('Chưa thực hiện')) \n",
    "                & (po_replace['Chứng từ khác'].str.contains('Đã nhặt hàng')),'Tình trạng đơn hàng'] = 'Đã nhặt hàng'\n",
    "\n",
    "#Replace 'De xuat' => 'Don'\n",
    "po_replace['Loại phiếu'] = po_replace['Loại phiếu'].str.replace(r'Đề xuất', 'Đơn', regex=True)"
   ]
  },
  {
   "cell_type": "code",
   "execution_count": 7,
   "id": "4a3f76d3-c67a-43bc-90b4-50a9825a6655",
   "metadata": {},
   "outputs": [],
   "source": [
    "# make a copy\n",
    "po_cal = po_replace.copy()\n",
    "# create month\n",
    "po_cal['month'] = pd.DatetimeIndex(po_cal['Ngày về\\n(Receiving Date)']).month\n",
    "# impute date diff invoice\n",
    "\n",
    "diff_ct_yes = (po_cal['Chứng từ KH ký nhận'] - po_cal['Ngày thực tế giao hàng']).dt.days #da hoan\n",
    "diff_ct_no = (pd.Timestamp.now().normalize() - po_cal['Ngày thực tế giao hàng']).dt.days #chua hoan\n",
    "\n",
    "conditions = [\n",
    "    po_cal['Tình trạng đơn hàng']=='Đã bàn giao chứng từ',\n",
    "    po_cal['Tình trạng đơn hàng']=='Đã giao hàng'\n",
    "]\n",
    "choices = [diff_ct_yes, diff_ct_no]\n",
    "\n",
    "po_cal['datediff_chungtu'] = np.select(conditions, choices, default=np.nan)\n",
    "\n",
    "# impute date diff delivery\n",
    "\n",
    "diff_deli = (po_cal['Ngày thực tế giao hàng'] - po_cal['Ngày về\\n(Receiving Date)']).dt.days\n",
    "po_cal['datediff_giaohang'] = np.where(diff_deli<0, np.nan, diff_deli)"
   ]
  },
  {
   "cell_type": "code",
   "execution_count": 8,
   "id": "ba669701-2fa0-4e2d-a048-52e8dc5e28cd",
   "metadata": {},
   "outputs": [],
   "source": [
    "po_filter = po_cal.copy()\n",
    "#Filter Warehouse not contains\n",
    "values_to_remove = ['Hyperion','hư hỏng','xử lý','Hư Hỏng','khuyến mãi','Tồn hàng','hàng hóa', 'Kho treo hàng']\n",
    "\n",
    "pattern = '|'.join(values_to_remove)\n",
    "\n",
    "po_filter_kho = po_filter.loc[~po_filter['Kho xuất'].str.contains(pattern, case=False)]\n",
    "#Filter Ma chu hang HP, RW\n",
    "values_to_remove_mch = ['HP', 'RW', 'GB', 'HP01', 'RW01'] \n",
    "\n",
    "pattern_mch = '|'.join(values_to_remove_mch)\n",
    "\n",
    "po_filter_mch = po_filter_kho.loc[po_filter_kho['Mã chủ hàng'].str.contains(pattern_mch, case=False)]\n",
    "po_processed = po_filter_mch.copy()"
   ]
  },
  {
   "cell_type": "markdown",
   "id": "00a14f4d-6c5a-43de-932d-2f872ce4b507",
   "metadata": {
    "tags": []
   },
   "source": [
    "## BCKT"
   ]
  },
  {
   "cell_type": "code",
   "execution_count": 9,
   "id": "79d35b97-78f3-4674-8840-f10372da3540",
   "metadata": {
    "tags": []
   },
   "outputs": [],
   "source": [
    "# merge\n",
    "xuat_dmsp = xuat.merge(sp, left_on='Mã vật tư\\n(Goods Code)', right_on='PRODUCT CODE', how='left')\n",
    "xuat_dmsp['CBM/Unit'] = xuat_dmsp['CBM/Unit']*xuat_dmsp['Số lượng\\n(Quantily)']\n",
    "xuat_dmsp['GrossWeightProductg'] = xuat_dmsp['GrossWeightProductg']*xuat_dmsp['Số lượng\\n(Quantily)']\n",
    "# aggregate \n",
    "xuat_dmsp = xuat_dmsp.groupby(['Mã phiếu đề xuất', 'Mã chủ hàng_x']).agg(\n",
    "      {\n",
    "        'CBM/Unit': 'sum',\n",
    "        'GrossWeightProductg': 'sum',\n",
    "        'Số lượng\\n(Quantily)': 'sum',\n",
    "        'Mã vật tư\\n(Goods Code)': 'count',\n",
    "        'Tiền hàng\\n(Sub Total)': 'sum'\n",
    "      }\n",
    ")\n",
    "# rename cols\n",
    "dict_rename = {\n",
    "    'CBM/Unit': 'cbm_po',\n",
    "     'GrossWeightProductg': 'kg_po',\n",
    "     'Số lượng\\n(Quantily)': 'unit_po',\n",
    "     'Mã vật tư\\n(Goods Code)': 'sku_po',\n",
    "     'Tiền hàng\\n(Sub Total)': 'amount_po'\n",
    "}\n",
    "\n",
    "xuat_dmsp.rename(columns=dict_rename, inplace=True)\n",
    "xuat_processed = xuat_dmsp.copy()"
   ]
  },
  {
   "cell_type": "markdown",
   "id": "6276b885-7aaa-49b5-a6bd-01163d9197cb",
   "metadata": {
    "tags": []
   },
   "source": [
    "## Create data"
   ]
  },
  {
   "cell_type": "code",
   "execution_count": 10,
   "id": "172d590a-a89c-4507-a3a3-f9fd6383f078",
   "metadata": {
    "tags": []
   },
   "outputs": [],
   "source": [
    "# Create data region\n",
    "data = [\n",
    "    [\"Kho Hà Nội\", \"Miền Bắc\"],\n",
    "    [\"Kho Phạm Văn Đồng\", \"Miền Nam\"],\n",
    "    [\"Kho Bình Tân\", \"Miền Nam\"],\n",
    "    [\"Kho Bùi Thị Xuân\", \"Miền Nam\"],\n",
    "    [\"Kho Đà Nẵng\", \"Miền Trung\"],\n",
    "    [\"Kho Thuận An\", \"Miền Nam\"],\n",
    "    [\"Kho Bình Hòa\", \"Miền Nam\"],\n",
    "    [\"Kho thuê dịch vụ - Daso\", \"Miền Nam\"],\n",
    "    [\"Kho Woojin Bắc Ninh\", \"Miền Bắc\"],\n",
    "    [\"Kho LogisValley - Long Biên\", \"Miền Bắc\"],\n",
    "    [\"Kho thuê ngoài Emskip Q9\", \"Miền Nam\"],\n",
    "    [\"Kho LogisticValey - Long Biên\", \"Miền Bắc\"],\n",
    "    [\"Kho Hateco Long Biên\", \"Miền Bắc\"],\n",
    "    [\"Kho Gamuda Hà Nội\", \"Miền Bắc\"],\n",
    "    [\"Kho thuê dịch vụ Daso\", \"Miền Nam\"],\n",
    "    ['Kho LogisticValey Long Biên',\"Miền Bắc\"],\n",
    "    ['Kho Online PVD', 'online'],\n",
    "    ['Kho Upbase Nơ Trang Long', 'online'],\n",
    "    ['Kho Online Nơ Trang Long', 'online'],\n",
    "    ['Kho Online Hà Nội', 'online'],\n",
    "    ['Kho Online Upbase Hà Nội', 'online'],\n",
    "    ['Kho Online Upbase PVD', 'online'],\n",
    "    ['Kho Online Đà Nẵng','online']\n",
    "]\n",
    "\n",
    "# Create the pandas DataFrame\n",
    "df_rgn = pd.DataFrame(data, columns=[\"Kho\", \"Region\"])\n",
    "data_in_sub = [\n",
    "    [\"Kho Hà Nội\", \"Hà Nội\", \"Nội thành\"],\n",
    "    [\"Kho Phạm Văn Đồng\", \"Hồ Chí Minh\", \"Nội thành\"],\n",
    "    [\"Kho Bình Tân\", \"Hồ Chí Minh\", \"Nội thành\"],\n",
    "    [\"Kho Bùi Thị Xuân\", \"Bình Dương\", \"Nội thành\"],\n",
    "    [\"Kho Đà Nẵng\", \"Đà Nẵng\", \"Nội thành\"],\n",
    "    [\"Kho Thuận An\", \"Bình Dương\", \"Nội thành\"],\n",
    "    [\"Kho Bình Hòa\", \"Hồ Chí Minh\", \"Nội thành\"],\n",
    "    [\"Kho thuê dịch vụ - Daso\", \"Hồ Chí Minh\", \"Nội thành\"],\n",
    "    [\"Kho Woojin Bắc Ninh\", \"Hà Nội\", \"Nội thành\"],\n",
    "    [\"Kho LogisValley - Long Biên\", \"Hà Nội\", \"Nội thành\"],\n",
    "    [\"Kho thuê ngoài Emskip Q9\", \"Hồ Chí Minh\", \"Nội thành\"],\n",
    "    [\"Kho LogisticValey - Long Biên\", \"Hà Nội\", \"Nội thành\"],\n",
    "    [\"Kho Hateco Long Biên\", \"Hà Nội\", \"Nội thành\"],\n",
    "    [\"Kho Gamuda Hà Nội\", \"Hà Nội\", \"Nội thành\"],\n",
    "    [\"Kho thuê dịch vụ Daso\", \"Hồ Chí Minh\", \"Nội thành\"],\n",
    "    ['Kho LogisticValey Long Biên',\"Hà Nội\", \"Nội thành\"]\n",
    "]\n",
    "\n",
    "# Create the pandas DataFrame\n",
    "df_in_sub = pd.DataFrame(data_in_sub, columns=[\"Kho xuất\", \"Des\", \"in_sub\"])"
   ]
  },
  {
   "cell_type": "markdown",
   "id": "dc343999-c11b-499a-88af-3ce16b247346",
   "metadata": {
    "tags": []
   },
   "source": [
    "## Merge"
   ]
  },
  {
   "cell_type": "code",
   "execution_count": 11,
   "id": "ce480ca4-c1e8-4d47-a3d4-821d991d8ac9",
   "metadata": {},
   "outputs": [],
   "source": [
    "# merge po - bckt\n",
    "po_xuat = po_processed.merge(\n",
    "    xuat_processed, left_on=['Mã phiếu đề xuất\\n(Code)', 'Mã chủ hàng'], right_on=['Mã phiếu đề xuất', 'Mã chủ hàng_x'], how=\"left\")\n",
    "# merge region\n",
    "po_region = po_xuat.merge(df_rgn, left_on=\"Kho xuất\", right_on=\"Kho\", how=\"left\").drop('Kho', axis=1)\n",
    "# merge DMKH\n",
    "po_kh = po_region.merge(\n",
    "    kh[['Customer Code', 'Account', 'Des']], left_on=\"Mã khách hàng\\n(Customer Code)\", right_on=\"Customer Code\", how=\"left\").drop('Customer Code', axis=1)\n",
    "# merge inner/suburbs data\n",
    "po_insub = po_kh.merge(df_in_sub, on=[\"Kho xuất\", \"Des\"], how=\"left\")\n",
    "po_insub.loc[~po_insub.Des.isna(), \"in_sub\"] = po_insub.in_sub.fillna(\"Ngoại thành\")\n",
    "\n"
   ]
  },
  {
   "cell_type": "code",
   "execution_count": 12,
   "id": "9351cd53-2de2-459b-9a28-51603b0084a8",
   "metadata": {},
   "outputs": [],
   "source": [
    "# day level\n",
    "conditions = [\n",
    "    po_insub[\"datediff_chungtu\"] < 0,\n",
    "    po_insub[\"datediff_chungtu\"] <= 6,\n",
    "    po_insub[\"datediff_chungtu\"] <= 14,\n",
    "    po_insub[\"datediff_chungtu\"] <= 30,\n",
    "    po_insub[\"datediff_chungtu\"] > 30,\n",
    "]\n",
    "choices = [\"Invalid_days\", \"0 - 6 ngày\", \"7 - 14 ngày\", \"15 - 30 ngày\", \"Trễ\"]\n",
    "\n",
    "po_insub[\"day_level\"] = np.select(conditions, choices, default=np.nan)"
   ]
  },
  {
   "cell_type": "code",
   "execution_count": 13,
   "id": "276832e0-1989-4c99-a38c-9e294ab4987a",
   "metadata": {},
   "outputs": [],
   "source": [
    "# rename\n",
    "po_run = po_insub.copy()\n",
    "po_run['Mã phiếu đề xuất\\n(Code)'] = po_run['Mã phiếu đề xuất\\n(Code)'] + po_run['Mã chủ hàng']\n",
    "dict_rename = {\n",
    "    \"Mã phiếu đề xuất\\n(Code)\": \"ID_PO\",\n",
    "    \"Mã khách hàng\\n(Customer Code)\": \"ID_cus\",\n",
    "    \"Ngày về\\n(Receiving Date)\": \"date_receive\",\n",
    "    \"Hạn chót giao hàng\\n(Delivery Deadline)\": \"deli_dl\",\n",
    "    \"Tiền hàng\\n(Sub Total)\": \"amount_po\",\n",
    "    'Unnamed: 23':'ngaybangiaohoadon'\n",
    "}\n",
    "\n",
    "po_run.rename(columns=dict_rename, inplace=True)"
   ]
  },
  {
   "cell_type": "code",
   "execution_count": 14,
   "id": "7cf76c8d-7cb4-4173-9bd5-09f67992c629",
   "metadata": {},
   "outputs": [],
   "source": [
    "# import datetime\n",
    "# file_path = '../data/processed/'\n",
    "# namefile = f'PO_{datetime.datetime.now().strftime(\"%H%M_%Y%m%d\")}.csv'\n",
    "# po_run.to_csv(file_path+namefile, index=False, encoding=\"utf-8-sig\")\n"
   ]
  },
  {
   "cell_type": "code",
   "execution_count": 15,
   "id": "d94c6532-0f98-49ea-9188-0a32f9dd4e91",
   "metadata": {},
   "outputs": [],
   "source": [
    "# po_run[po_run.Region.isnull()]['Kho xuất'].unique()"
   ]
  },
  {
   "cell_type": "code",
   "execution_count": 16,
   "id": "e74d9901-1c85-4eb7-9fe7-3ecd5f936f53",
   "metadata": {},
   "outputs": [],
   "source": [
    "po_run['ngaybangiaohoadon'] = np.where(~po_run['ngaybangiaohoadon'].astype(str).str.contains(r'^\\d{2}\\/\\d{2}\\/\\d{4}', regex=True, na=False), pd.NaT, po_run['ngaybangiaohoadon'])\n",
    "po_run['ngaybangiaohoadon'] = po_run['ngaybangiaohoadon'].apply(pd.to_datetime, format='%d/%m/%Y')"
   ]
  },
  {
   "cell_type": "code",
   "execution_count": null,
   "id": "f0b12cba-7759-46a3-86db-818cc04f95ac",
   "metadata": {},
   "outputs": [],
   "source": []
  },
  {
   "cell_type": "code",
   "execution_count": null,
   "id": "c8575578-f6d6-4421-8b33-24ec8587cc2a",
   "metadata": {},
   "outputs": [],
   "source": []
  },
  {
   "cell_type": "code",
   "execution_count": null,
   "id": "7025dd0b-6a74-461f-876c-10f4b7da45c0",
   "metadata": {},
   "outputs": [],
   "source": []
  },
  {
   "cell_type": "markdown",
   "id": "382c5a65-f584-4b61-a967-1fa1c6b63e5d",
   "metadata": {
    "tags": []
   },
   "source": [
    "## chung tu HP"
   ]
  },
  {
   "cell_type": "code",
   "execution_count": 17,
   "id": "ad518683-7423-45bc-9656-fb6fd47fb198",
   "metadata": {},
   "outputs": [],
   "source": [
    "po_hp = po_run[po_run['Mã chủ hàng'] == 'HP']"
   ]
  },
  {
   "cell_type": "code",
   "execution_count": 18,
   "id": "cdc149ed-493c-4520-8ab1-fb27e60272bd",
   "metadata": {
    "tags": []
   },
   "outputs": [
    {
     "data": {
      "text/html": [
       "<div>\n",
       "<style scoped>\n",
       "    .dataframe tbody tr th:only-of-type {\n",
       "        vertical-align: middle;\n",
       "    }\n",
       "\n",
       "    .dataframe tbody tr th {\n",
       "        vertical-align: top;\n",
       "    }\n",
       "\n",
       "    .dataframe thead th {\n",
       "        text-align: right;\n",
       "    }\n",
       "</style>\n",
       "<table border=\"1\" class=\"dataframe\">\n",
       "  <thead>\n",
       "    <tr style=\"text-align: right;\">\n",
       "      <th></th>\n",
       "      <th>Tình trạng đơn hàng</th>\n",
       "      <th>ID_PO</th>\n",
       "    </tr>\n",
       "  </thead>\n",
       "  <tbody>\n",
       "    <tr>\n",
       "      <th>0</th>\n",
       "      <td>Chưa giao hàng</td>\n",
       "      <td>2070</td>\n",
       "    </tr>\n",
       "    <tr>\n",
       "      <th>1</th>\n",
       "      <td>Chưa thực hiện</td>\n",
       "      <td>1027</td>\n",
       "    </tr>\n",
       "    <tr>\n",
       "      <th>2</th>\n",
       "      <td>PO hủy</td>\n",
       "      <td>7450</td>\n",
       "    </tr>\n",
       "    <tr>\n",
       "      <th>3</th>\n",
       "      <td>Đã bàn giao chứng từ</td>\n",
       "      <td>145538</td>\n",
       "    </tr>\n",
       "    <tr>\n",
       "      <th>4</th>\n",
       "      <td>Đã giao hàng</td>\n",
       "      <td>5933</td>\n",
       "    </tr>\n",
       "    <tr>\n",
       "      <th>5</th>\n",
       "      <td>Đã nhặt hàng</td>\n",
       "      <td>51</td>\n",
       "    </tr>\n",
       "  </tbody>\n",
       "</table>\n",
       "</div>"
      ],
      "text/plain": [
       "    Tình trạng đơn hàng   ID_PO\n",
       "0        Chưa giao hàng    2070\n",
       "1        Chưa thực hiện    1027\n",
       "2                PO hủy    7450\n",
       "3  Đã bàn giao chứng từ  145538\n",
       "4          Đã giao hàng    5933\n",
       "5          Đã nhặt hàng      51"
      ]
     },
     "execution_count": 18,
     "metadata": {},
     "output_type": "execute_result"
    }
   ],
   "source": [
    "pd.pivot_table(po_hp, index='Tình trạng đơn hàng', values='ID_PO', aggfunc='count').reset_index()"
   ]
  },
  {
   "cell_type": "code",
   "execution_count": 19,
   "id": "a0007cf1-0bd3-443f-ab49-89c09e51a6df",
   "metadata": {
    "tags": []
   },
   "outputs": [
    {
     "data": {
      "text/html": [
       "<div>\n",
       "<style scoped>\n",
       "    .dataframe tbody tr th:only-of-type {\n",
       "        vertical-align: middle;\n",
       "    }\n",
       "\n",
       "    .dataframe tbody tr th {\n",
       "        vertical-align: top;\n",
       "    }\n",
       "\n",
       "    .dataframe thead th {\n",
       "        text-align: right;\n",
       "    }\n",
       "</style>\n",
       "<table border=\"1\" class=\"dataframe\">\n",
       "  <thead>\n",
       "    <tr style=\"text-align: right;\">\n",
       "      <th>Tình trạng đơn hàng</th>\n",
       "      <th>Đã bàn giao chứng từ</th>\n",
       "      <th>Đã giao hàng</th>\n",
       "    </tr>\n",
       "    <tr>\n",
       "      <th>day_level</th>\n",
       "      <th></th>\n",
       "      <th></th>\n",
       "    </tr>\n",
       "  </thead>\n",
       "  <tbody>\n",
       "    <tr>\n",
       "      <th>0 - 6 ngày</th>\n",
       "      <td>102615.0</td>\n",
       "      <td>2625.0</td>\n",
       "    </tr>\n",
       "    <tr>\n",
       "      <th>15 - 30 ngày</th>\n",
       "      <td>8681.0</td>\n",
       "      <td>535.0</td>\n",
       "    </tr>\n",
       "    <tr>\n",
       "      <th>7 - 14 ngày</th>\n",
       "      <td>31936.0</td>\n",
       "      <td>2583.0</td>\n",
       "    </tr>\n",
       "    <tr>\n",
       "      <th>Invalid_days</th>\n",
       "      <td>196.0</td>\n",
       "      <td>NaN</td>\n",
       "    </tr>\n",
       "    <tr>\n",
       "      <th>Trễ</th>\n",
       "      <td>1616.0</td>\n",
       "      <td>190.0</td>\n",
       "    </tr>\n",
       "    <tr>\n",
       "      <th>nan</th>\n",
       "      <td>494.0</td>\n",
       "      <td>NaN</td>\n",
       "    </tr>\n",
       "  </tbody>\n",
       "</table>\n",
       "</div>"
      ],
      "text/plain": [
       "Tình trạng đơn hàng  Đã bàn giao chứng từ  Đã giao hàng\n",
       "day_level                                              \n",
       "0 - 6 ngày                       102615.0        2625.0\n",
       "15 - 30 ngày                       8681.0         535.0\n",
       "7 - 14 ngày                       31936.0        2583.0\n",
       "Invalid_days                        196.0           NaN\n",
       "Trễ                                1616.0         190.0\n",
       "nan                                 494.0           NaN"
      ]
     },
     "execution_count": 19,
     "metadata": {},
     "output_type": "execute_result"
    }
   ],
   "source": [
    "chungtu_chuahoan = po_hp[(po_hp['Tình trạng đơn hàng'] == 'Đã giao hàng')|(po_hp['Tình trạng đơn hàng'] == 'Đã bàn giao chứng từ')]\n",
    "\n",
    "pd.pivot_table(chungtu_chuahoan, index='day_level', columns='Tình trạng đơn hàng', values='ID_PO', aggfunc='count')\n"
   ]
  },
  {
   "cell_type": "code",
   "execution_count": 20,
   "id": "481175b3-541d-41ac-ae00-25ff862941d1",
   "metadata": {
    "tags": []
   },
   "outputs": [
    {
     "data": {
      "text/html": [
       "<div>\n",
       "<style scoped>\n",
       "    .dataframe tbody tr th:only-of-type {\n",
       "        vertical-align: middle;\n",
       "    }\n",
       "\n",
       "    .dataframe tbody tr th {\n",
       "        vertical-align: top;\n",
       "    }\n",
       "\n",
       "    .dataframe thead th {\n",
       "        text-align: right;\n",
       "    }\n",
       "</style>\n",
       "<table border=\"1\" class=\"dataframe\">\n",
       "  <thead>\n",
       "    <tr style=\"text-align: right;\">\n",
       "      <th>Tình trạng đơn hàng</th>\n",
       "      <th>day_level</th>\n",
       "      <th>Đã giao hàng</th>\n",
       "    </tr>\n",
       "  </thead>\n",
       "  <tbody>\n",
       "    <tr>\n",
       "      <th>0</th>\n",
       "      <td>0 - 6 ngày</td>\n",
       "      <td>1.160058e+10</td>\n",
       "    </tr>\n",
       "    <tr>\n",
       "      <th>1</th>\n",
       "      <td>15 - 30 ngày</td>\n",
       "      <td>2.294822e+09</td>\n",
       "    </tr>\n",
       "    <tr>\n",
       "      <th>2</th>\n",
       "      <td>7 - 14 ngày</td>\n",
       "      <td>9.175651e+09</td>\n",
       "    </tr>\n",
       "    <tr>\n",
       "      <th>3</th>\n",
       "      <td>Trễ</td>\n",
       "      <td>8.871761e+08</td>\n",
       "    </tr>\n",
       "  </tbody>\n",
       "</table>\n",
       "</div>"
      ],
      "text/plain": [
       "Tình trạng đơn hàng     day_level  Đã giao hàng\n",
       "0                      0 - 6 ngày  1.160058e+10\n",
       "1                    15 - 30 ngày  2.294822e+09\n",
       "2                     7 - 14 ngày  9.175651e+09\n",
       "3                             Trễ  8.871761e+08"
      ]
     },
     "execution_count": 20,
     "metadata": {},
     "output_type": "execute_result"
    }
   ],
   "source": [
    "\n",
    "pd.pivot_table(chungtu_chuahoan[(chungtu_chuahoan['Tình trạng đơn hàng'] == 'Đã giao hàng')], index='day_level', columns='Tình trạng đơn hàng', values='amount_po', aggfunc=np.sum).reset_index()"
   ]
  },
  {
   "cell_type": "code",
   "execution_count": 21,
   "id": "d94a462b-7e9f-45e4-a096-c056ecc899a6",
   "metadata": {
    "tags": []
   },
   "outputs": [
    {
     "data": {
      "text/html": [
       "<div>\n",
       "<style scoped>\n",
       "    .dataframe tbody tr th:only-of-type {\n",
       "        vertical-align: middle;\n",
       "    }\n",
       "\n",
       "    .dataframe tbody tr th {\n",
       "        vertical-align: top;\n",
       "    }\n",
       "\n",
       "    .dataframe thead th {\n",
       "        text-align: right;\n",
       "    }\n",
       "</style>\n",
       "<table border=\"1\" class=\"dataframe\">\n",
       "  <thead>\n",
       "    <tr style=\"text-align: right;\">\n",
       "      <th>Tình trạng đơn hàng</th>\n",
       "      <th>Đã giao hàng</th>\n",
       "    </tr>\n",
       "    <tr>\n",
       "      <th>month</th>\n",
       "      <th></th>\n",
       "    </tr>\n",
       "  </thead>\n",
       "  <tbody>\n",
       "    <tr>\n",
       "      <th>1</th>\n",
       "      <td>2.270016e+08</td>\n",
       "    </tr>\n",
       "    <tr>\n",
       "      <th>3</th>\n",
       "      <td>3.005845e+07</td>\n",
       "    </tr>\n",
       "    <tr>\n",
       "      <th>5</th>\n",
       "      <td>4.100851e+06</td>\n",
       "    </tr>\n",
       "    <tr>\n",
       "      <th>7</th>\n",
       "      <td>6.232800e+05</td>\n",
       "    </tr>\n",
       "    <tr>\n",
       "      <th>8</th>\n",
       "      <td>2.968000e+05</td>\n",
       "    </tr>\n",
       "    <tr>\n",
       "      <th>9</th>\n",
       "      <td>2.173244e+07</td>\n",
       "    </tr>\n",
       "    <tr>\n",
       "      <th>10</th>\n",
       "      <td>3.424400e+07</td>\n",
       "    </tr>\n",
       "    <tr>\n",
       "      <th>11</th>\n",
       "      <td>1.649290e+09</td>\n",
       "    </tr>\n",
       "    <tr>\n",
       "      <th>12</th>\n",
       "      <td>2.199088e+10</td>\n",
       "    </tr>\n",
       "  </tbody>\n",
       "</table>\n",
       "</div>"
      ],
      "text/plain": [
       "Tình trạng đơn hàng  Đã giao hàng\n",
       "month                            \n",
       "1                    2.270016e+08\n",
       "3                    3.005845e+07\n",
       "5                    4.100851e+06\n",
       "7                    6.232800e+05\n",
       "8                    2.968000e+05\n",
       "9                    2.173244e+07\n",
       "10                   3.424400e+07\n",
       "11                   1.649290e+09\n",
       "12                   2.199088e+10"
      ]
     },
     "execution_count": 21,
     "metadata": {},
     "output_type": "execute_result"
    }
   ],
   "source": [
    "pd.pivot_table(chungtu_chuahoan[(chungtu_chuahoan['Tình trạng đơn hàng'] == 'Đã giao hàng')], index='month', columns='Tình trạng đơn hàng', values='amount_po', aggfunc=np.sum)"
   ]
  },
  {
   "cell_type": "code",
   "execution_count": 22,
   "id": "9d8113ac-f876-49c0-96e0-3c4ff8cf0f34",
   "metadata": {
    "tags": []
   },
   "outputs": [
    {
     "data": {
      "text/html": [
       "<div>\n",
       "<style scoped>\n",
       "    .dataframe tbody tr th:only-of-type {\n",
       "        vertical-align: middle;\n",
       "    }\n",
       "\n",
       "    .dataframe tbody tr th {\n",
       "        vertical-align: top;\n",
       "    }\n",
       "\n",
       "    .dataframe thead th {\n",
       "        text-align: right;\n",
       "    }\n",
       "</style>\n",
       "<table border=\"1\" class=\"dataframe\">\n",
       "  <thead>\n",
       "    <tr style=\"text-align: right;\">\n",
       "      <th>Tình trạng đơn hàng</th>\n",
       "      <th>Region</th>\n",
       "      <th>Đã giao hàng</th>\n",
       "    </tr>\n",
       "  </thead>\n",
       "  <tbody>\n",
       "    <tr>\n",
       "      <th>0</th>\n",
       "      <td>Miền Bắc</td>\n",
       "      <td>9.714478e+09</td>\n",
       "    </tr>\n",
       "    <tr>\n",
       "      <th>1</th>\n",
       "      <td>Miền Nam</td>\n",
       "      <td>1.300342e+10</td>\n",
       "    </tr>\n",
       "    <tr>\n",
       "      <th>2</th>\n",
       "      <td>Miền Trung</td>\n",
       "      <td>1.239828e+09</td>\n",
       "    </tr>\n",
       "    <tr>\n",
       "      <th>3</th>\n",
       "      <td>online</td>\n",
       "      <td>4.976000e+05</td>\n",
       "    </tr>\n",
       "  </tbody>\n",
       "</table>\n",
       "</div>"
      ],
      "text/plain": [
       "Tình trạng đơn hàng      Region  Đã giao hàng\n",
       "0                      Miền Bắc  9.714478e+09\n",
       "1                      Miền Nam  1.300342e+10\n",
       "2                    Miền Trung  1.239828e+09\n",
       "3                        online  4.976000e+05"
      ]
     },
     "execution_count": 22,
     "metadata": {},
     "output_type": "execute_result"
    }
   ],
   "source": [
    "pd.pivot_table(chungtu_chuahoan[(chungtu_chuahoan['Tình trạng đơn hàng'] == 'Đã giao hàng')], index='Region', columns='Tình trạng đơn hàng', values='amount_po', aggfunc=np.sum).reset_index()"
   ]
  },
  {
   "cell_type": "code",
   "execution_count": null,
   "id": "142d6707-2c41-4d9d-bc55-86e1f1e9fac8",
   "metadata": {},
   "outputs": [],
   "source": []
  },
  {
   "cell_type": "code",
   "execution_count": 23,
   "id": "85467158-e45e-4fbc-baa8-66d93b11740a",
   "metadata": {
    "tags": []
   },
   "outputs": [
    {
     "data": {
      "text/html": [
       "<div>\n",
       "<style scoped>\n",
       "    .dataframe tbody tr th:only-of-type {\n",
       "        vertical-align: middle;\n",
       "    }\n",
       "\n",
       "    .dataframe tbody tr th {\n",
       "        vertical-align: top;\n",
       "    }\n",
       "\n",
       "    .dataframe thead th {\n",
       "        text-align: right;\n",
       "    }\n",
       "</style>\n",
       "<table border=\"1\" class=\"dataframe\">\n",
       "  <thead>\n",
       "    <tr style=\"text-align: right;\">\n",
       "      <th>day_level</th>\n",
       "      <th>Region</th>\n",
       "      <th>0 - 6 ngày</th>\n",
       "      <th>15 - 30 ngày</th>\n",
       "      <th>7 - 14 ngày</th>\n",
       "      <th>Invalid_days</th>\n",
       "      <th>Trễ</th>\n",
       "      <th>nan</th>\n",
       "    </tr>\n",
       "  </thead>\n",
       "  <tbody>\n",
       "    <tr>\n",
       "      <th>0</th>\n",
       "      <td>Miền Bắc</td>\n",
       "      <td>39251.0</td>\n",
       "      <td>4553.0</td>\n",
       "      <td>13781.0</td>\n",
       "      <td>124.0</td>\n",
       "      <td>750.0</td>\n",
       "      <td>22.0</td>\n",
       "    </tr>\n",
       "    <tr>\n",
       "      <th>1</th>\n",
       "      <td>Miền Nam</td>\n",
       "      <td>55028.0</td>\n",
       "      <td>3372.0</td>\n",
       "      <td>15854.0</td>\n",
       "      <td>43.0</td>\n",
       "      <td>670.0</td>\n",
       "      <td>104.0</td>\n",
       "    </tr>\n",
       "    <tr>\n",
       "      <th>2</th>\n",
       "      <td>Miền Trung</td>\n",
       "      <td>7102.0</td>\n",
       "      <td>754.0</td>\n",
       "      <td>2300.0</td>\n",
       "      <td>29.0</td>\n",
       "      <td>194.0</td>\n",
       "      <td>NaN</td>\n",
       "    </tr>\n",
       "    <tr>\n",
       "      <th>3</th>\n",
       "      <td>online</td>\n",
       "      <td>1234.0</td>\n",
       "      <td>2.0</td>\n",
       "      <td>1.0</td>\n",
       "      <td>NaN</td>\n",
       "      <td>2.0</td>\n",
       "      <td>368.0</td>\n",
       "    </tr>\n",
       "  </tbody>\n",
       "</table>\n",
       "</div>"
      ],
      "text/plain": [
       "day_level      Region  0 - 6 ngày  15 - 30 ngày  7 - 14 ngày  Invalid_days  \\\n",
       "0            Miền Bắc     39251.0        4553.0      13781.0         124.0   \n",
       "1            Miền Nam     55028.0        3372.0      15854.0          43.0   \n",
       "2          Miền Trung      7102.0         754.0       2300.0          29.0   \n",
       "3              online      1234.0           2.0          1.0           NaN   \n",
       "\n",
       "day_level    Trễ    nan  \n",
       "0          750.0   22.0  \n",
       "1          670.0  104.0  \n",
       "2          194.0    NaN  \n",
       "3            2.0  368.0  "
      ]
     },
     "execution_count": 23,
     "metadata": {},
     "output_type": "execute_result"
    }
   ],
   "source": [
    "# da hoan chung tu\n",
    "pd.pivot_table(chungtu_chuahoan[(chungtu_chuahoan['Tình trạng đơn hàng'] == 'Đã bàn giao chứng từ')], index='Region', columns='day_level', values='ID_PO', aggfunc='count').reset_index()"
   ]
  },
  {
   "cell_type": "code",
   "execution_count": 24,
   "id": "b262d744-c346-44bf-bdc5-7dd6776f7997",
   "metadata": {},
   "outputs": [],
   "source": [
    "# rate hoan chung tu\n",
    "rate_chungtu = chungtu_chuahoan.copy()\n",
    "rate_chungtu['month_ct'] = pd.DatetimeIndex(rate_chungtu['ngaybangiaohoadon']).month\n"
   ]
  },
  {
   "cell_type": "code",
   "execution_count": 25,
   "id": "33688e77-1b23-4e9c-8870-40ffeca3efdb",
   "metadata": {},
   "outputs": [
    {
     "data": {
      "text/html": [
       "<div>\n",
       "<style scoped>\n",
       "    .dataframe tbody tr th:only-of-type {\n",
       "        vertical-align: middle;\n",
       "    }\n",
       "\n",
       "    .dataframe tbody tr th {\n",
       "        vertical-align: top;\n",
       "    }\n",
       "\n",
       "    .dataframe thead th {\n",
       "        text-align: right;\n",
       "    }\n",
       "</style>\n",
       "<table border=\"1\" class=\"dataframe\">\n",
       "  <thead>\n",
       "    <tr style=\"text-align: right;\">\n",
       "      <th></th>\n",
       "      <th>month_ct</th>\n",
       "      <th>ngaybangiaohoadon</th>\n",
       "    </tr>\n",
       "  </thead>\n",
       "  <tbody>\n",
       "    <tr>\n",
       "      <th>0</th>\n",
       "      <td>1.0</td>\n",
       "      <td>5328</td>\n",
       "    </tr>\n",
       "    <tr>\n",
       "      <th>1</th>\n",
       "      <td>2.0</td>\n",
       "      <td>6279</td>\n",
       "    </tr>\n",
       "    <tr>\n",
       "      <th>2</th>\n",
       "      <td>3.0</td>\n",
       "      <td>12962</td>\n",
       "    </tr>\n",
       "    <tr>\n",
       "      <th>3</th>\n",
       "      <td>4.0</td>\n",
       "      <td>11872</td>\n",
       "    </tr>\n",
       "    <tr>\n",
       "      <th>4</th>\n",
       "      <td>5.0</td>\n",
       "      <td>15320</td>\n",
       "    </tr>\n",
       "    <tr>\n",
       "      <th>5</th>\n",
       "      <td>6.0</td>\n",
       "      <td>14038</td>\n",
       "    </tr>\n",
       "    <tr>\n",
       "      <th>6</th>\n",
       "      <td>7.0</td>\n",
       "      <td>14708</td>\n",
       "    </tr>\n",
       "    <tr>\n",
       "      <th>7</th>\n",
       "      <td>8.0</td>\n",
       "      <td>14938</td>\n",
       "    </tr>\n",
       "    <tr>\n",
       "      <th>8</th>\n",
       "      <td>9.0</td>\n",
       "      <td>12386</td>\n",
       "    </tr>\n",
       "    <tr>\n",
       "      <th>9</th>\n",
       "      <td>10.0</td>\n",
       "      <td>13853</td>\n",
       "    </tr>\n",
       "    <tr>\n",
       "      <th>10</th>\n",
       "      <td>11.0</td>\n",
       "      <td>10620</td>\n",
       "    </tr>\n",
       "    <tr>\n",
       "      <th>11</th>\n",
       "      <td>12.0</td>\n",
       "      <td>9285</td>\n",
       "    </tr>\n",
       "    <tr>\n",
       "      <th>12</th>\n",
       "      <td>NaN</td>\n",
       "      <td>0</td>\n",
       "    </tr>\n",
       "  </tbody>\n",
       "</table>\n",
       "</div>"
      ],
      "text/plain": [
       "    month_ct  ngaybangiaohoadon\n",
       "0        1.0               5328\n",
       "1        2.0               6279\n",
       "2        3.0              12962\n",
       "3        4.0              11872\n",
       "4        5.0              15320\n",
       "5        6.0              14038\n",
       "6        7.0              14708\n",
       "7        8.0              14938\n",
       "8        9.0              12386\n",
       "9       10.0              13853\n",
       "10      11.0              10620\n",
       "11      12.0               9285\n",
       "12       NaN                  0"
      ]
     },
     "execution_count": 25,
     "metadata": {},
     "output_type": "execute_result"
    }
   ],
   "source": [
    "# Define the aggregation calculations\n",
    "aggregations = {\n",
    "    'ngaybangiaohoadon': 'count'\n",
    "}\n",
    "rate_chungtu[rate_chungtu['Tình trạng đơn hàng']=='Đã bàn giao chứng từ'].groupby(['month_ct'], as_index=False, dropna=False).agg(aggregations)"
   ]
  },
  {
   "cell_type": "code",
   "execution_count": 42,
   "id": "c8bc77de-79ae-48cf-a492-2aa4684193a6",
   "metadata": {},
   "outputs": [
    {
     "data": {
      "text/plain": [
       "array(['Kho Phạm Văn Đồng', 'Kho Bùi Thị Xuân', 'Kho Gamuda Hà Nội',\n",
       "       'Kho Bình Tân', 'Kho Đà Nẵng', 'Kho Online PVD', 'Kho Bình Hòa',\n",
       "       'Kho Thuận An', 'Kho Online Hà Nội', 'Kho thuê dịch vụ Daso',\n",
       "       'Kho LogisticValey Long Biên', 'Kho Online Nơ Trang Long',\n",
       "       'Kho Upbase Nơ Trang Long', 'Kho Online Đà Nẵng',\n",
       "       'Kho Online Upbase Hà Nội', 'Kho Hateco Long Biên',\n",
       "       'Kho thuê ngoài Emskip Q9', 'Kho Woojin Bắc Ninh'], dtype=object)"
      ]
     },
     "execution_count": 42,
     "metadata": {},
     "output_type": "execute_result"
    }
   ],
   "source": [
    "po_hp['Kho xuất'].unique()"
   ]
  },
  {
   "cell_type": "code",
   "execution_count": null,
   "id": "01696bd4-e08d-4fdf-a649-7622177b4ea4",
   "metadata": {},
   "outputs": [],
   "source": []
  },
  {
   "cell_type": "code",
   "execution_count": null,
   "id": "bdefdb5f-b660-4440-a8a5-95eb4c621867",
   "metadata": {},
   "outputs": [],
   "source": []
  },
  {
   "cell_type": "code",
   "execution_count": null,
   "id": "1abdba16-5e03-45b9-8bea-f909a760fbb5",
   "metadata": {},
   "outputs": [],
   "source": []
  },
  {
   "cell_type": "code",
   "execution_count": null,
   "id": "7e847ca6-a74d-4e0b-8de8-c620273bfc47",
   "metadata": {},
   "outputs": [],
   "source": []
  },
  {
   "cell_type": "code",
   "execution_count": null,
   "id": "f3189431-ad45-4a62-bc0d-3b59d4f50101",
   "metadata": {},
   "outputs": [],
   "source": []
  },
  {
   "cell_type": "code",
   "execution_count": null,
   "id": "47a8b09f-4c6b-4bfe-9d97-d889c548ef0a",
   "metadata": {},
   "outputs": [],
   "source": []
  },
  {
   "cell_type": "code",
   "execution_count": null,
   "id": "8c2fc76f-36ab-4dc8-9122-a3f86708d4e7",
   "metadata": {},
   "outputs": [],
   "source": []
  },
  {
   "cell_type": "code",
   "execution_count": null,
   "id": "74c2cccf-f105-42d7-a86a-a27d77f15ed8",
   "metadata": {},
   "outputs": [],
   "source": []
  },
  {
   "cell_type": "code",
   "execution_count": null,
   "id": "d2aae14a-7401-4ef3-9972-acf39e436456",
   "metadata": {},
   "outputs": [],
   "source": []
  },
  {
   "cell_type": "code",
   "execution_count": null,
   "id": "2da89be1-6444-416f-be49-3f72ebca200a",
   "metadata": {},
   "outputs": [],
   "source": []
  },
  {
   "cell_type": "code",
   "execution_count": null,
   "id": "22c0b400-3fb6-47aa-b85e-91f630c73c84",
   "metadata": {},
   "outputs": [],
   "source": []
  },
  {
   "cell_type": "code",
   "execution_count": null,
   "id": "c2b071ef-9804-4081-98e9-4818bbfff993",
   "metadata": {},
   "outputs": [],
   "source": []
  },
  {
   "cell_type": "markdown",
   "id": "81390ea3-1192-482a-9833-5d6f56db70bf",
   "metadata": {},
   "source": [
    "## van hanh"
   ]
  },
  {
   "cell_type": "code",
   "execution_count": 26,
   "id": "5ba5f61a-6b88-4239-9bc9-692ae1a460df",
   "metadata": {},
   "outputs": [],
   "source": [
    "po_summa = po_run.copy()"
   ]
  },
  {
   "cell_type": "code",
   "execution_count": 27,
   "id": "b5de1369-ca58-46f2-a6d6-b79c1774f343",
   "metadata": {},
   "outputs": [],
   "source": [
    "po_summa['Người giao hàng (Shipper delivery by)'] = po_summa['Người giao hàng (Shipper delivery by)'].str.lower()"
   ]
  },
  {
   "cell_type": "code",
   "execution_count": 28,
   "id": "d03f918d-88bb-4899-9d67-3ee45e8636b3",
   "metadata": {},
   "outputs": [],
   "source": [
    "cond = po_summa['Người giao hàng (Shipper delivery by)'].str.contains('nhất|viet|ker|xe tải ngoài|taixe thau hcm', na=False)\n",
    "po_summa['dvngoai'] = po_summa.loc[cond, 'Người giao hàng (Shipper delivery by)']"
   ]
  },
  {
   "cell_type": "code",
   "execution_count": 29,
   "id": "4843f923-3036-41ad-9a2b-3b710e906c11",
   "metadata": {},
   "outputs": [],
   "source": [
    "# po_summa.to_csv('../data/processed/po-meeting.csv',encoding='utf-8-sig', index=False)"
   ]
  },
  {
   "cell_type": "markdown",
   "id": "6dc7375d-8e04-44d0-8dfd-2131732d5709",
   "metadata": {},
   "source": [
    "## load data"
   ]
  },
  {
   "cell_type": "code",
   "execution_count": 30,
   "id": "656922a0-010a-4d20-8456-9b937dc4cf37",
   "metadata": {},
   "outputs": [],
   "source": [
    "# meeting = pd.read_csv('../data/processed/po-meeting.csv', encoding='utf-8-sig')"
   ]
  },
  {
   "cell_type": "code",
   "execution_count": 31,
   "id": "823eafa9-7b7c-4629-a2cf-a87e26105157",
   "metadata": {},
   "outputs": [],
   "source": [
    "meeting = po_summa.copy()"
   ]
  },
  {
   "cell_type": "code",
   "execution_count": 32,
   "id": "94b4427a-0a46-463d-a60b-6a72bb1fbe09",
   "metadata": {},
   "outputs": [],
   "source": [
    "meeting = meeting[meeting['month']>=8]"
   ]
  },
  {
   "cell_type": "code",
   "execution_count": 33,
   "id": "edf8c54f-43da-4e7b-a5b5-070444039add",
   "metadata": {},
   "outputs": [],
   "source": [
    "meeting_xuatban = meeting[(meeting['Loại phiếu'] == 'Đơn bán')].reset_index(drop=True)"
   ]
  },
  {
   "cell_type": "code",
   "execution_count": 34,
   "id": "e54b0e98-4219-45a7-addf-21ddd1bf0dcc",
   "metadata": {},
   "outputs": [],
   "source": [
    "# Define the aggregation calculations\n",
    "aggregations = {\n",
    "    'date_receive': ['count', 'nunique'],\n",
    "    'amount_po': ['mean', 'median'],\n",
    "    'cbm_po': 'median',\n",
    "    'kg_po': 'median',\n",
    "    'unit_po': 'median',\n",
    "    'sku_po': 'mean'\n",
    "}\n",
    "summa1 = meeting_xuatban.groupby(['Mã chủ hàng', 'Region'], as_index=False, dropna=False).agg(aggregations)"
   ]
  },
  {
   "cell_type": "code",
   "execution_count": 35,
   "id": "7dc63f84-ee93-472e-9f58-b6e93c413ff3",
   "metadata": {},
   "outputs": [],
   "source": [
    "# summa1.columns = ['_'.join(cols).lower()\n",
    "#                      for cols in summa1.columns.to_flat_index()]"
   ]
  },
  {
   "cell_type": "code",
   "execution_count": 36,
   "id": "8a73ccc7-f74f-4085-b7e2-97625d1682ed",
   "metadata": {},
   "outputs": [
    {
     "data": {
      "text/html": [
       "<div>\n",
       "<style scoped>\n",
       "    .dataframe tbody tr th:only-of-type {\n",
       "        vertical-align: middle;\n",
       "    }\n",
       "\n",
       "    .dataframe tbody tr th {\n",
       "        vertical-align: top;\n",
       "    }\n",
       "\n",
       "    .dataframe thead tr th {\n",
       "        text-align: left;\n",
       "    }\n",
       "</style>\n",
       "<table border=\"1\" class=\"dataframe\">\n",
       "  <thead>\n",
       "    <tr>\n",
       "      <th></th>\n",
       "      <th>Mã chủ hàng</th>\n",
       "      <th>Region</th>\n",
       "      <th colspan=\"2\" halign=\"left\">date_receive</th>\n",
       "      <th colspan=\"2\" halign=\"left\">amount_po</th>\n",
       "      <th>cbm_po</th>\n",
       "      <th>kg_po</th>\n",
       "      <th>unit_po</th>\n",
       "      <th>sku_po</th>\n",
       "    </tr>\n",
       "    <tr>\n",
       "      <th></th>\n",
       "      <th></th>\n",
       "      <th></th>\n",
       "      <th>count</th>\n",
       "      <th>nunique</th>\n",
       "      <th>mean</th>\n",
       "      <th>median</th>\n",
       "      <th>median</th>\n",
       "      <th>median</th>\n",
       "      <th>median</th>\n",
       "      <th>mean</th>\n",
       "    </tr>\n",
       "  </thead>\n",
       "  <tbody>\n",
       "    <tr>\n",
       "      <th>0</th>\n",
       "      <td>GB</td>\n",
       "      <td>online</td>\n",
       "      <td>11253</td>\n",
       "      <td>142</td>\n",
       "      <td>161214.904648</td>\n",
       "      <td>107639.0</td>\n",
       "      <td>0.0018</td>\n",
       "      <td>332.0</td>\n",
       "      <td>3.0</td>\n",
       "      <td>1.747801</td>\n",
       "    </tr>\n",
       "    <tr>\n",
       "      <th>5</th>\n",
       "      <td>HP01</td>\n",
       "      <td>online</td>\n",
       "      <td>921</td>\n",
       "      <td>100</td>\n",
       "      <td>188084.730727</td>\n",
       "      <td>157407.0</td>\n",
       "      <td>0.0030</td>\n",
       "      <td>2120.0</td>\n",
       "      <td>2.0</td>\n",
       "      <td>1.555917</td>\n",
       "    </tr>\n",
       "    <tr>\n",
       "      <th>10</th>\n",
       "      <td>RW01</td>\n",
       "      <td>online</td>\n",
       "      <td>9044</td>\n",
       "      <td>108</td>\n",
       "      <td>124642.707099</td>\n",
       "      <td>95455.0</td>\n",
       "      <td>0.0016</td>\n",
       "      <td>1085.0</td>\n",
       "      <td>1.0</td>\n",
       "      <td>1.215170</td>\n",
       "    </tr>\n",
       "  </tbody>\n",
       "</table>\n",
       "</div>"
      ],
      "text/plain": [
       "   Mã chủ hàng  Region date_receive              amount_po            cbm_po  \\\n",
       "                              count nunique           mean    median  median   \n",
       "0           GB  online        11253     142  161214.904648  107639.0  0.0018   \n",
       "5         HP01  online          921     100  188084.730727  157407.0  0.0030   \n",
       "10        RW01  online         9044     108  124642.707099   95455.0  0.0016   \n",
       "\n",
       "     kg_po unit_po    sku_po  \n",
       "    median  median      mean  \n",
       "0    332.0     3.0  1.747801  \n",
       "5   2120.0     2.0  1.555917  \n",
       "10  1085.0     1.0  1.215170  "
      ]
     },
     "execution_count": 36,
     "metadata": {},
     "output_type": "execute_result"
    }
   ],
   "source": [
    "summa1[(summa1['Mã chủ hàng'] == 'GB')|(summa1['Mã chủ hàng'] == 'HP01')|(summa1['Mã chủ hàng'] == 'RW01')]"
   ]
  },
  {
   "cell_type": "code",
   "execution_count": 37,
   "id": "c9ee6c47",
   "metadata": {},
   "outputs": [],
   "source": [
    "online = meeting_xuatban[(meeting_xuatban['Tình trạng đơn hàng'] == 'Đã bàn giao chứng từ')|(meeting_xuatban['Tình trạng đơn hàng'] == 'Đã giao hàng')].reset_index(drop=True)"
   ]
  },
  {
   "cell_type": "code",
   "execution_count": 38,
   "id": "65627181-0752-4116-bffc-d4b86435ccf3",
   "metadata": {},
   "outputs": [],
   "source": [
    "online_fiter_mch = online[(online['Mã chủ hàng'] == 'GB')|(online['Mã chủ hàng'] == 'HP01')|(online['Mã chủ hàng'] == 'RW01')].reset_index()"
   ]
  },
  {
   "cell_type": "code",
   "execution_count": 39,
   "id": "299e0048-0f8c-445f-ae38-2e008f995e8e",
   "metadata": {},
   "outputs": [],
   "source": [
    "# create a list of our conditions\n",
    "conditions = [\n",
    "    (online_fiter_mch['amount_po'] < 100000),\n",
    "    (online_fiter_mch['amount_po'] < 200000),\n",
    "    (online_fiter_mch['amount_po'] < 300000),\n",
    "    (online_fiter_mch['amount_po'] >= 300000)\n",
    "    ]\n",
    "\n",
    "# create a list of the values we want to assign for each condition\n",
    "values = ['duoi100', '100-200', '200-300', 'tren300']\n",
    "\n",
    "# create a new column and use np.select to assign values to it using our lists as arguments\n",
    "online_fiter_mch['amountlevel'] = np.select(conditions, values)"
   ]
  },
  {
   "cell_type": "code",
   "execution_count": 40,
   "id": "fb789c30-40f0-4611-a769-c0380103d577",
   "metadata": {},
   "outputs": [
    {
     "data": {
      "text/html": [
       "<div>\n",
       "<style scoped>\n",
       "    .dataframe tbody tr th:only-of-type {\n",
       "        vertical-align: middle;\n",
       "    }\n",
       "\n",
       "    .dataframe tbody tr th {\n",
       "        vertical-align: top;\n",
       "    }\n",
       "\n",
       "    .dataframe thead th {\n",
       "        text-align: right;\n",
       "    }\n",
       "</style>\n",
       "<table border=\"1\" class=\"dataframe\">\n",
       "  <thead>\n",
       "    <tr style=\"text-align: right;\">\n",
       "      <th></th>\n",
       "      <th>Mã chủ hàng</th>\n",
       "      <th>amountlevel</th>\n",
       "      <th>ID_PO</th>\n",
       "    </tr>\n",
       "  </thead>\n",
       "  <tbody>\n",
       "    <tr>\n",
       "      <th>0</th>\n",
       "      <td>GB</td>\n",
       "      <td>100-200</td>\n",
       "      <td>3554</td>\n",
       "    </tr>\n",
       "    <tr>\n",
       "      <th>1</th>\n",
       "      <td>GB</td>\n",
       "      <td>200-300</td>\n",
       "      <td>1109</td>\n",
       "    </tr>\n",
       "    <tr>\n",
       "      <th>2</th>\n",
       "      <td>GB</td>\n",
       "      <td>duoi100</td>\n",
       "      <td>5001</td>\n",
       "    </tr>\n",
       "    <tr>\n",
       "      <th>3</th>\n",
       "      <td>GB</td>\n",
       "      <td>tren300</td>\n",
       "      <td>1218</td>\n",
       "    </tr>\n",
       "    <tr>\n",
       "      <th>4</th>\n",
       "      <td>HP01</td>\n",
       "      <td>100-200</td>\n",
       "      <td>304</td>\n",
       "    </tr>\n",
       "    <tr>\n",
       "      <th>5</th>\n",
       "      <td>HP01</td>\n",
       "      <td>200-300</td>\n",
       "      <td>143</td>\n",
       "    </tr>\n",
       "    <tr>\n",
       "      <th>6</th>\n",
       "      <td>HP01</td>\n",
       "      <td>duoi100</td>\n",
       "      <td>345</td>\n",
       "    </tr>\n",
       "    <tr>\n",
       "      <th>7</th>\n",
       "      <td>HP01</td>\n",
       "      <td>tren300</td>\n",
       "      <td>109</td>\n",
       "    </tr>\n",
       "    <tr>\n",
       "      <th>8</th>\n",
       "      <td>RW01</td>\n",
       "      <td>100-200</td>\n",
       "      <td>3454</td>\n",
       "    </tr>\n",
       "    <tr>\n",
       "      <th>9</th>\n",
       "      <td>RW01</td>\n",
       "      <td>200-300</td>\n",
       "      <td>606</td>\n",
       "    </tr>\n",
       "    <tr>\n",
       "      <th>10</th>\n",
       "      <td>RW01</td>\n",
       "      <td>duoi100</td>\n",
       "      <td>4529</td>\n",
       "    </tr>\n",
       "    <tr>\n",
       "      <th>11</th>\n",
       "      <td>RW01</td>\n",
       "      <td>tren300</td>\n",
       "      <td>216</td>\n",
       "    </tr>\n",
       "  </tbody>\n",
       "</table>\n",
       "</div>"
      ],
      "text/plain": [
       "   Mã chủ hàng amountlevel  ID_PO\n",
       "0           GB     100-200   3554\n",
       "1           GB     200-300   1109\n",
       "2           GB     duoi100   5001\n",
       "3           GB     tren300   1218\n",
       "4         HP01     100-200    304\n",
       "5         HP01     200-300    143\n",
       "6         HP01     duoi100    345\n",
       "7         HP01     tren300    109\n",
       "8         RW01     100-200   3454\n",
       "9         RW01     200-300    606\n",
       "10        RW01     duoi100   4529\n",
       "11        RW01     tren300    216"
      ]
     },
     "execution_count": 40,
     "metadata": {},
     "output_type": "execute_result"
    }
   ],
   "source": [
    "# Define the aggregation calculations\n",
    "aggregations = {\n",
    "    'ID_PO': 'count'\n",
    "}\n",
    "online_fiter_mch.groupby(['Mã chủ hàng','amountlevel'], as_index=False, dropna=False).agg(aggregations)"
   ]
  },
  {
   "cell_type": "code",
   "execution_count": null,
   "id": "81d4147c-184d-4d96-a19f-a44bc7dd194c",
   "metadata": {},
   "outputs": [],
   "source": []
  },
  {
   "cell_type": "code",
   "execution_count": null,
   "id": "4eee2543-4cd5-4bfe-8dd6-0dc0be77ce44",
   "metadata": {},
   "outputs": [],
   "source": []
  },
  {
   "cell_type": "code",
   "execution_count": null,
   "id": "507bb8a1-ef12-43c2-9e7f-7e671b20f51a",
   "metadata": {},
   "outputs": [],
   "source": []
  },
  {
   "cell_type": "code",
   "execution_count": null,
   "id": "f609ab2c-4a16-48bb-8c44-1ae6010c7fd3",
   "metadata": {},
   "outputs": [],
   "source": []
  },
  {
   "cell_type": "code",
   "execution_count": null,
   "id": "2b4a1239-3d84-4bb3-bf0b-45b11b0daf4d",
   "metadata": {},
   "outputs": [],
   "source": []
  },
  {
   "cell_type": "code",
   "execution_count": null,
   "id": "703e9ef2-1201-41c0-b955-70be67afed64",
   "metadata": {},
   "outputs": [],
   "source": []
  },
  {
   "cell_type": "code",
   "execution_count": null,
   "id": "9613ea18-728a-41fd-a9d0-18fe5c2d337c",
   "metadata": {},
   "outputs": [],
   "source": []
  },
  {
   "cell_type": "code",
   "execution_count": null,
   "id": "a7234f57-0008-4282-ba5d-bc61999bf7b7",
   "metadata": {},
   "outputs": [],
   "source": []
  },
  {
   "cell_type": "code",
   "execution_count": null,
   "id": "9ca6f389-4820-452a-93d1-4eca3a574c89",
   "metadata": {},
   "outputs": [],
   "source": []
  },
  {
   "cell_type": "code",
   "execution_count": null,
   "id": "5d6f698b-dde0-484e-95ee-49cf896f9a25",
   "metadata": {},
   "outputs": [],
   "source": []
  },
  {
   "cell_type": "code",
   "execution_count": null,
   "id": "8073757d-9dba-4b8a-8b8a-3ce89d0bf993",
   "metadata": {},
   "outputs": [],
   "source": []
  },
  {
   "cell_type": "code",
   "execution_count": null,
   "id": "198955d6-cd60-48b7-a222-89e20b4e5131",
   "metadata": {},
   "outputs": [],
   "source": []
  },
  {
   "cell_type": "code",
   "execution_count": null,
   "id": "9ad21b25-4061-45bd-b4f9-90eb9c46974c",
   "metadata": {},
   "outputs": [],
   "source": []
  },
  {
   "cell_type": "code",
   "execution_count": null,
   "id": "1fc76d8c-87e6-4349-96a0-026270209e56",
   "metadata": {},
   "outputs": [],
   "source": []
  },
  {
   "cell_type": "code",
   "execution_count": null,
   "id": "a9a1f546-50ab-459a-81cf-483a94a07b88",
   "metadata": {},
   "outputs": [],
   "source": []
  },
  {
   "cell_type": "code",
   "execution_count": null,
   "id": "22c45c78-138e-4bb9-bd3d-f61181af82e3",
   "metadata": {},
   "outputs": [],
   "source": []
  },
  {
   "cell_type": "code",
   "execution_count": null,
   "id": "b556b8ec-9a58-433e-b9b1-64ff10e9c75b",
   "metadata": {},
   "outputs": [],
   "source": []
  },
  {
   "cell_type": "code",
   "execution_count": null,
   "id": "73f6b8ef-5705-4ba0-8fb2-d5169bf98a25",
   "metadata": {},
   "outputs": [],
   "source": []
  },
  {
   "cell_type": "code",
   "execution_count": null,
   "id": "52048ee1-e2a6-4242-bf7f-fb05d20869ae",
   "metadata": {},
   "outputs": [],
   "source": []
  },
  {
   "cell_type": "code",
   "execution_count": null,
   "id": "0d99db05-f18a-40eb-99cd-c8445c93519f",
   "metadata": {},
   "outputs": [],
   "source": []
  },
  {
   "cell_type": "code",
   "execution_count": null,
   "id": "62fef00b-b964-4b90-9f04-6159e740fe41",
   "metadata": {},
   "outputs": [],
   "source": []
  },
  {
   "cell_type": "code",
   "execution_count": null,
   "id": "6801e60f-9a82-4b8a-9174-7d947d93bebf",
   "metadata": {},
   "outputs": [],
   "source": []
  },
  {
   "cell_type": "code",
   "execution_count": null,
   "id": "9aa294ae-fa85-4c34-a594-f4bfb80bd74a",
   "metadata": {},
   "outputs": [],
   "source": []
  },
  {
   "cell_type": "code",
   "execution_count": null,
   "id": "60caa5e7-baaa-4a3b-8bef-525793b38676",
   "metadata": {},
   "outputs": [],
   "source": []
  },
  {
   "cell_type": "code",
   "execution_count": null,
   "id": "5d4c0a77-fc14-4761-9126-84180e710c28",
   "metadata": {},
   "outputs": [],
   "source": []
  },
  {
   "cell_type": "code",
   "execution_count": null,
   "id": "6cef65bd-30c8-45f5-a407-78e36a8a9dac",
   "metadata": {},
   "outputs": [],
   "source": []
  },
  {
   "cell_type": "code",
   "execution_count": null,
   "id": "c51da1aa-f179-45e7-b8ce-c0cb3f9f53fc",
   "metadata": {},
   "outputs": [],
   "source": []
  },
  {
   "cell_type": "code",
   "execution_count": null,
   "id": "43c765c4-d44d-49cc-b002-fb3a90d0069c",
   "metadata": {},
   "outputs": [],
   "source": []
  },
  {
   "cell_type": "code",
   "execution_count": null,
   "id": "b980327f-487c-4c54-9df7-02b1ba512cb5",
   "metadata": {},
   "outputs": [],
   "source": []
  },
  {
   "cell_type": "code",
   "execution_count": null,
   "id": "364cf249-2869-42f2-9ad1-c78e3dc0c40a",
   "metadata": {},
   "outputs": [],
   "source": []
  },
  {
   "cell_type": "code",
   "execution_count": null,
   "id": "af300465-b3f3-4740-8248-85f17f960cd1",
   "metadata": {},
   "outputs": [],
   "source": []
  },
  {
   "cell_type": "code",
   "execution_count": null,
   "id": "8c946d70-81c2-4a52-906f-98d3d4742714",
   "metadata": {},
   "outputs": [],
   "source": []
  },
  {
   "cell_type": "code",
   "execution_count": null,
   "id": "f53c7ec4-fd9b-4e36-b71a-fd8627c93ec4",
   "metadata": {},
   "outputs": [],
   "source": []
  },
  {
   "cell_type": "code",
   "execution_count": null,
   "id": "01cece4f-610d-4190-b74b-c65751c738cb",
   "metadata": {},
   "outputs": [],
   "source": []
  },
  {
   "cell_type": "code",
   "execution_count": null,
   "id": "11bbff66-5af5-43ca-bb58-f8ec9f48f294",
   "metadata": {},
   "outputs": [],
   "source": []
  },
  {
   "cell_type": "code",
   "execution_count": null,
   "id": "adf51604-b6a7-412d-abaf-7a141a4763a3",
   "metadata": {},
   "outputs": [],
   "source": []
  },
  {
   "cell_type": "code",
   "execution_count": null,
   "id": "be943223-20e6-489f-ab99-a4ad8c1f78df",
   "metadata": {},
   "outputs": [],
   "source": []
  },
  {
   "cell_type": "code",
   "execution_count": null,
   "id": "50f94723-71e5-4ed4-a0bb-4c9f5a61ce8f",
   "metadata": {},
   "outputs": [],
   "source": []
  },
  {
   "cell_type": "code",
   "execution_count": null,
   "id": "45d0b08a-6d05-4ab6-b07e-a597c579553c",
   "metadata": {},
   "outputs": [],
   "source": []
  },
  {
   "cell_type": "code",
   "execution_count": null,
   "id": "db9addc9-f539-4103-b124-872c4df7bd13",
   "metadata": {},
   "outputs": [],
   "source": []
  },
  {
   "cell_type": "code",
   "execution_count": null,
   "id": "f95bc41c-2fce-4231-943f-fadeb3dd234f",
   "metadata": {},
   "outputs": [],
   "source": []
  }
 ],
 "metadata": {
  "kernelspec": {
   "display_name": "Python 3 (ipykernel)",
   "language": "python",
   "name": "python3"
  },
  "language_info": {
   "codemirror_mode": {
    "name": "ipython",
    "version": 3
   },
   "file_extension": ".py",
   "mimetype": "text/x-python",
   "name": "python",
   "nbconvert_exporter": "python",
   "pygments_lexer": "ipython3",
   "version": "3.9.15"
  }
 },
 "nbformat": 4,
 "nbformat_minor": 5
}
