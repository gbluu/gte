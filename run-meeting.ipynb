{
 "cells": [
  {
   "cell_type": "code",
   "execution_count": 1,
   "id": "b05fe686-3a12-4dad-83f2-ab68cb6cbf75",
   "metadata": {},
   "outputs": [],
   "source": [
    "import glob\n",
    "import os\n",
    "\n",
    "import numpy as np\n",
    "import pandas as pd\n",
    "\n",
    "# setting notebook\n",
    "pd.set_option(\"display.max_columns\", None)"
   ]
  },
  {
   "cell_type": "code",
   "execution_count": 2,
   "id": "51c8e5e4-df04-44cd-91f6-d24cf54f9ba1",
   "metadata": {},
   "outputs": [
    {
     "name": "stdout",
     "output_type": "stream",
     "text": [
      "C:\\Users\\user\\Desktop\\gte\\notebooks\\data-joined\n"
     ]
    }
   ],
   "source": [
    "# go to data-joined folder\n",
    "%cd data-joined"
   ]
  },
  {
   "cell_type": "code",
   "execution_count": 3,
   "id": "2e991bf4-9c30-4253-96fc-8172024e4802",
   "metadata": {},
   "outputs": [
    {
     "name": "stdout",
     "output_type": "stream",
     "text": [
      "C:\\Users\\user\\Desktop\\gte\\notebooks\n"
     ]
    }
   ],
   "source": [
    "%run xuat_combined.ipynb \n",
    "%run po_combined.ipynb \n",
    "%run dmsp.ipynb\n",
    "%run dmkh.ipynb\n",
    "#go back the tree\n",
    "%cd .."
   ]
  },
  {
   "cell_type": "code",
   "execution_count": 4,
   "id": "d1c6d612-3ec9-4761-a260-742290aa4805",
   "metadata": {},
   "outputs": [],
   "source": [
    "# make copy\n",
    "xuat = xuat_joined.copy()\n",
    "po = po_joined.copy()\n",
    "sp = dmsp_full.copy()\n",
    "kh = dmkh_full.copy()"
   ]
  },
  {
   "cell_type": "markdown",
   "id": "1f5c27cd-db0d-470e-9364-c3ad4c1de833",
   "metadata": {
    "tags": []
   },
   "source": [
    "## PO"
   ]
  },
  {
   "cell_type": "code",
   "execution_count": 5,
   "id": "f8f99861-5bfa-417c-9dc6-93047be7ce2a",
   "metadata": {},
   "outputs": [],
   "source": [
    "#drop cols\n",
    "cols_used = ['Mã phiếu đề xuất\\n(Code)',\n",
    " 'Mã khách hàng\\n(Customer Code)',\n",
    " 'Mã chủ hàng',\n",
    " 'Ngày về\\n(Receiving Date)',\n",
    " 'Hạn chót giao hàng\\n(Delivery Deadline)',\n",
    " 'Ngày thực tế giao hàng',\n",
    " 'Chứng từ KH ký nhận',\n",
    " 'Chứng từ khác',\n",
    " 'Tình trạng đơn hàng',\n",
    " 'Kho xuất',\n",
    " 'Loại phiếu',\n",
    " 'Người giao hàng (Shipper delivery by)',\n",
    "'Unnamed: 23']\n",
    "\n",
    "po_selected_cols = po[cols_used]"
   ]
  },
  {
   "cell_type": "code",
   "execution_count": 6,
   "id": "243f0329-f544-4909-95bf-2dd9105cdea7",
   "metadata": {},
   "outputs": [],
   "source": [
    "po_replace = po_selected_cols.copy()\n",
    "\n",
    "#Replace 'Chua thuc hien' => 'Da nhat hang'\n",
    "po_replace.loc[(po_replace['Tình trạng đơn hàng'].str.contains('Chưa thực hiện')) \n",
    "                & (po_replace['Chứng từ khác'].str.contains('Đã nhặt hàng')),'Tình trạng đơn hàng'] = 'Đã nhặt hàng'\n",
    "\n",
    "#Replace 'De xuat' => 'Don'\n",
    "po_replace['Loại phiếu'] = po_replace['Loại phiếu'].str.replace(r'Đề xuất', 'Đơn', regex=True)"
   ]
  },
  {
   "cell_type": "code",
   "execution_count": 7,
   "id": "4a3f76d3-c67a-43bc-90b4-50a9825a6655",
   "metadata": {},
   "outputs": [],
   "source": [
    "# make a copy\n",
    "po_cal = po_replace.copy()\n",
    "# create month\n",
    "po_cal['month'] = pd.DatetimeIndex(po_cal['Ngày về\\n(Receiving Date)']).month\n",
    "# impute date diff invoice\n",
    "\n",
    "diff_ct_yes = (po_cal['Chứng từ KH ký nhận'] - po_cal['Ngày thực tế giao hàng']).dt.days #da hoan\n",
    "diff_ct_no = (pd.Timestamp.now().normalize() - po_cal['Ngày thực tế giao hàng']).dt.days #chua hoan\n",
    "\n",
    "conditions = [\n",
    "    po_cal['Tình trạng đơn hàng']=='Đã bàn giao chứng từ',\n",
    "    po_cal['Tình trạng đơn hàng']=='Đã giao hàng'\n",
    "]\n",
    "choices = [diff_ct_yes, diff_ct_no]\n",
    "\n",
    "po_cal['datediff_chungtu'] = np.select(conditions, choices, default=np.nan)\n",
    "\n",
    "# impute date diff delivery\n",
    "\n",
    "diff_deli = (po_cal['Ngày thực tế giao hàng'] - po_cal['Ngày về\\n(Receiving Date)']).dt.days\n",
    "po_cal['datediff_giaohang'] = np.where(diff_deli<0, np.nan, diff_deli)"
   ]
  },
  {
   "cell_type": "code",
   "execution_count": 8,
   "id": "ba669701-2fa0-4e2d-a048-52e8dc5e28cd",
   "metadata": {},
   "outputs": [],
   "source": [
    "po_filter = po_cal.copy()\n",
    "#Filter Warehouse not contains\n",
    "values_to_remove = ['Hyperion','hư hỏng','xử lý','Hư Hỏng','khuyến mãi','Tồn hàng','hàng hóa', 'Kho treo hàng']\n",
    "\n",
    "pattern = '|'.join(values_to_remove)\n",
    "\n",
    "po_filter_kho = po_filter.loc[~po_filter['Kho xuất'].str.contains(pattern, case=False)]\n",
    "#Filter Ma chu hang HP, RW\n",
    "values_to_remove_mch = ['HP', 'RW', 'GB'] \n",
    "\n",
    "pattern_mch = '|'.join(values_to_remove_mch)\n",
    "\n",
    "po_filter_mch = po_filter_kho.loc[po_filter_kho['Mã chủ hàng'].str.contains(pattern_mch, case=False)]\n",
    "po_processed = po_filter_mch.copy()"
   ]
  },
  {
   "cell_type": "markdown",
   "id": "00a14f4d-6c5a-43de-932d-2f872ce4b507",
   "metadata": {
    "tags": []
   },
   "source": [
    "## BCKT"
   ]
  },
  {
   "cell_type": "code",
   "execution_count": 9,
   "id": "79d35b97-78f3-4674-8840-f10372da3540",
   "metadata": {},
   "outputs": [],
   "source": [
    "# merge\n",
    "xuat_dmsp = xuat.merge(sp, left_on='Mã vật tư\\n(Goods Code)', right_on='PRODUCT CODE', how='left')\n",
    "xuat_dmsp['CBM/Unit'] = xuat_dmsp['CBM/Unit']*xuat_dmsp['Số lượng\\n(Quantily)']\n",
    "xuat_dmsp['GrossWeightProductg'] = xuat_dmsp['GrossWeightProductg']*xuat_dmsp['Số lượng\\n(Quantily)']\n",
    "# aggregate \n",
    "xuat_dmsp = xuat_dmsp.groupby(['Mã phiếu đề xuất', 'Mã chủ hàng_x']).agg(\n",
    "      {\n",
    "        'CBM/Unit': 'sum',\n",
    "        'GrossWeightProductg': 'sum',\n",
    "        'Số lượng\\n(Quantily)': 'sum',\n",
    "        'Mã vật tư\\n(Goods Code)': 'count',\n",
    "        'Tiền hàng\\n(Sub Total)': 'sum'\n",
    "      }\n",
    ")\n",
    "# rename cols\n",
    "dict_rename = {\n",
    "    'CBM/Unit': 'cbm_po',\n",
    "     'GrossWeightProductg': 'kg_po',\n",
    "     'Số lượng\\n(Quantily)': 'unit_po',\n",
    "     'Mã vật tư\\n(Goods Code)': 'sku_po',\n",
    "     'Tiền hàng\\n(Sub Total)': 'amount_po'\n",
    "}\n",
    "\n",
    "xuat_dmsp.rename(columns=dict_rename, inplace=True)\n",
    "xuat_processed = xuat_dmsp.copy()"
   ]
  },
  {
   "cell_type": "markdown",
   "id": "6276b885-7aaa-49b5-a6bd-01163d9197cb",
   "metadata": {
    "tags": []
   },
   "source": [
    "## Create data"
   ]
  },
  {
   "cell_type": "code",
   "execution_count": 10,
   "id": "172d590a-a89c-4507-a3a3-f9fd6383f078",
   "metadata": {},
   "outputs": [],
   "source": [
    "# Create data region\n",
    "data = [\n",
    "    [\"Kho Hà Nội\", \"Miền Bắc\"],\n",
    "    [\"Kho Phạm Văn Đồng\", \"Miền Nam\"],\n",
    "    [\"Kho Bình Tân\", \"Miền Nam\"],\n",
    "    [\"Kho Bùi Thị Xuân\", \"Miền Nam\"],\n",
    "    [\"Kho Đà Nẵng\", \"Miền Trung\"],\n",
    "    [\"Kho Thuận An\", \"Miền Nam\"],\n",
    "    [\"Kho Bình Hòa\", \"Miền Nam\"],\n",
    "    [\"Kho thuê dịch vụ - Daso\", \"Miền Nam\"],\n",
    "    [\"Kho Woojin Bắc Ninh\", \"Miền Bắc\"],\n",
    "    [\"Kho LogisValley - Long Biên\", \"Miền Bắc\"],\n",
    "    [\"Kho thuê ngoài Emskip Q9\", \"Miền Nam\"],\n",
    "    [\"Kho LogisticValey - Long Biên\", \"Miền Bắc\"],\n",
    "    [\"Kho Hateco Long Biên\", \"Miền Bắc\"],\n",
    "    [\"Kho Gamuda Hà Nội\", \"Miền Bắc\"],\n",
    "    [\"Kho thuê dịch vụ Daso\", \"Miền Nam\"],\n",
    "    ['Kho LogisticValey Long Biên',\"Miền Bắc\"],\n",
    "    ['Kho Online PVD', 'online'],\n",
    "    ['Kho Upbase Nơ Trang Long', 'online'],\n",
    "    ['Kho Online Nơ Trang Long', 'online'],\n",
    "    ['Kho Online Hà Nội', 'online'],\n",
    "    ['Kho Online Upbase Hà Nội', 'online'],\n",
    "    ['Kho Online Upbase PVD', 'online'],\n",
    "    ['Kho Online Đà Nẵng','online']\n",
    "]\n",
    "\n",
    "# Create the pandas DataFrame\n",
    "df_rgn = pd.DataFrame(data, columns=[\"Kho\", \"Region\"])\n",
    "data_in_sub = [\n",
    "    [\"Kho Hà Nội\", \"Hà Nội\", \"Nội thành\"],\n",
    "    [\"Kho Phạm Văn Đồng\", \"Hồ Chí Minh\", \"Nội thành\"],\n",
    "    [\"Kho Bình Tân\", \"Hồ Chí Minh\", \"Nội thành\"],\n",
    "    [\"Kho Bùi Thị Xuân\", \"Bình Dương\", \"Nội thành\"],\n",
    "    [\"Kho Đà Nẵng\", \"Đà Nẵng\", \"Nội thành\"],\n",
    "    [\"Kho Thuận An\", \"Bình Dương\", \"Nội thành\"],\n",
    "    [\"Kho Bình Hòa\", \"Hồ Chí Minh\", \"Nội thành\"],\n",
    "    [\"Kho thuê dịch vụ - Daso\", \"Hồ Chí Minh\", \"Nội thành\"],\n",
    "    [\"Kho Woojin Bắc Ninh\", \"Hà Nội\", \"Nội thành\"],\n",
    "    [\"Kho LogisValley - Long Biên\", \"Hà Nội\", \"Nội thành\"],\n",
    "    [\"Kho thuê ngoài Emskip Q9\", \"Hồ Chí Minh\", \"Nội thành\"],\n",
    "    [\"Kho LogisticValey - Long Biên\", \"Hà Nội\", \"Nội thành\"],\n",
    "    [\"Kho Hateco Long Biên\", \"Hà Nội\", \"Nội thành\"],\n",
    "    [\"Kho Gamuda Hà Nội\", \"Hà Nội\", \"Nội thành\"],\n",
    "    [\"Kho thuê dịch vụ Daso\", \"Hồ Chí Minh\", \"Nội thành\"],\n",
    "    ['Kho LogisticValey Long Biên',\"Hà Nội\", \"Nội thành\"]\n",
    "]\n",
    "\n",
    "# Create the pandas DataFrame\n",
    "df_in_sub = pd.DataFrame(data_in_sub, columns=[\"Kho xuất\", \"Des\", \"in_sub\"])"
   ]
  },
  {
   "cell_type": "markdown",
   "id": "dc343999-c11b-499a-88af-3ce16b247346",
   "metadata": {
    "tags": []
   },
   "source": [
    "## Merge"
   ]
  },
  {
   "cell_type": "code",
   "execution_count": 11,
   "id": "ce480ca4-c1e8-4d47-a3d4-821d991d8ac9",
   "metadata": {},
   "outputs": [],
   "source": [
    "# merge po - bckt\n",
    "po_xuat = po_processed.merge(\n",
    "    xuat_processed, left_on=['Mã phiếu đề xuất\\n(Code)', 'Mã chủ hàng'], right_on=['Mã phiếu đề xuất', 'Mã chủ hàng_x'], how=\"left\")\n",
    "# merge region\n",
    "po_region = po_xuat.merge(df_rgn, left_on=\"Kho xuất\", right_on=\"Kho\", how=\"left\").drop('Kho', axis=1)\n",
    "# merge DMKH\n",
    "po_kh = po_region.merge(\n",
    "    kh[['Customer Code', 'Account', 'Des']], left_on=\"Mã khách hàng\\n(Customer Code)\", right_on=\"Customer Code\", how=\"left\").drop('Customer Code', axis=1)\n",
    "# merge inner/suburbs data\n",
    "po_insub = po_kh.merge(df_in_sub, on=[\"Kho xuất\", \"Des\"], how=\"left\")\n",
    "po_insub.loc[~po_insub.Des.isna(), \"in_sub\"] = po_insub.in_sub.fillna(\"Ngoại thành\")\n",
    "conditions = [\n",
    "    po_insub[\"datediff_chungtu\"] < 0,\n",
    "    po_insub[\"datediff_chungtu\"] <= 6,\n",
    "    po_insub[\"datediff_chungtu\"] <= 14,\n",
    "    po_insub[\"datediff_chungtu\"] <= 30,\n",
    "    po_insub[\"datediff_chungtu\"] > 30,\n",
    "]\n",
    "choices = [\"Invalid_days\", \"0 - 6 ngày\", \"7 - 14 ngày\", \"15 - 30 ngày\", \"Trễ\"]\n",
    "\n",
    "po_insub[\"day_level\"] = np.select(conditions, choices, default=np.nan)\n",
    "po_run = po_insub.copy()\n",
    "po_run['Mã phiếu đề xuất\\n(Code)'] = po_run['Mã phiếu đề xuất\\n(Code)'] + po_run['Mã chủ hàng']\n",
    "dict_rename = {\n",
    "    \"Mã phiếu đề xuất\\n(Code)\": \"ID_PO\",\n",
    "    \"Mã khách hàng\\n(Customer Code)\": \"ID_cus\",\n",
    "    \"Ngày về\\n(Receiving Date)\": \"date_receive\",\n",
    "    \"Hạn chót giao hàng\\n(Delivery Deadline)\": \"deli_dl\",\n",
    "    \"Tiền hàng\\n(Sub Total)\": \"amount_po\",\n",
    "    'Unnamed: 23':'ngaybangiaohoadon'\n",
    "}\n",
    "\n",
    "po_run.rename(columns=dict_rename, inplace=True)"
   ]
  },
  {
   "cell_type": "code",
   "execution_count": 12,
   "id": "7cf76c8d-7cb4-4173-9bd5-09f67992c629",
   "metadata": {},
   "outputs": [],
   "source": [
    "# import datetime\n",
    "# file_path = '../data/processed/'\n",
    "# namefile = f'PO_{datetime.datetime.now().strftime(\"%H%M_%Y%m%d\")}.csv'\n",
    "# po_run.to_csv(file_path+namefile, index=False, encoding=\"utf-8-sig\")\n"
   ]
  },
  {
   "cell_type": "code",
   "execution_count": 13,
   "id": "d94c6532-0f98-49ea-9188-0a32f9dd4e91",
   "metadata": {},
   "outputs": [],
   "source": [
    "# po_run[po_run.Region.isnull()]['Kho xuất'].unique()"
   ]
  },
  {
   "cell_type": "code",
   "execution_count": 14,
   "id": "e74d9901-1c85-4eb7-9fe7-3ecd5f936f53",
   "metadata": {},
   "outputs": [],
   "source": [
    "po_run['ngaybangiaohoadon'] = np.where(~po_run['ngaybangiaohoadon'].astype(str).str.contains(r'^\\d{2}\\/\\d{2}\\/\\d{4}', regex=True, na=False), pd.NaT, po_run['ngaybangiaohoadon'])\n",
    "po_run['ngaybangiaohoadon'] = po_run['ngaybangiaohoadon'].apply(pd.to_datetime, format='%d/%m/%Y')"
   ]
  },
  {
   "cell_type": "markdown",
   "id": "382c5a65-f584-4b61-a967-1fa1c6b63e5d",
   "metadata": {
    "tags": []
   },
   "source": [
    "## chung tu (chua loc hp)"
   ]
  },
  {
   "cell_type": "code",
   "execution_count": 15,
   "id": "cdc149ed-493c-4520-8ab1-fb27e60272bd",
   "metadata": {
    "tags": []
   },
   "outputs": [],
   "source": [
    "chungtu = pd.pivot_table(po_run, index='Tình trạng đơn hàng', values='ID_PO', aggfunc='count')"
   ]
  },
  {
   "cell_type": "code",
   "execution_count": 16,
   "id": "65c027ab-0176-4ec3-ad81-59d9329a4632",
   "metadata": {
    "tags": []
   },
   "outputs": [],
   "source": [
    "chungtu['%'] = chungtu['ID_PO'] / chungtu['ID_PO'].sum() *100"
   ]
  },
  {
   "cell_type": "code",
   "execution_count": 17,
   "id": "6e1093c0-7fe7-4005-bbb8-d7317b6b008d",
   "metadata": {},
   "outputs": [
    {
     "data": {
      "text/html": [
       "<div>\n",
       "<style scoped>\n",
       "    .dataframe tbody tr th:only-of-type {\n",
       "        vertical-align: middle;\n",
       "    }\n",
       "\n",
       "    .dataframe tbody tr th {\n",
       "        vertical-align: top;\n",
       "    }\n",
       "\n",
       "    .dataframe thead th {\n",
       "        text-align: right;\n",
       "    }\n",
       "</style>\n",
       "<table border=\"1\" class=\"dataframe\">\n",
       "  <thead>\n",
       "    <tr style=\"text-align: right;\">\n",
       "      <th></th>\n",
       "      <th>ID_PO</th>\n",
       "      <th>%</th>\n",
       "    </tr>\n",
       "    <tr>\n",
       "      <th>Tình trạng đơn hàng</th>\n",
       "      <th></th>\n",
       "      <th></th>\n",
       "    </tr>\n",
       "  </thead>\n",
       "  <tbody>\n",
       "    <tr>\n",
       "      <th>Chưa giao hàng</th>\n",
       "      <td>2039</td>\n",
       "      <td>0.928134</td>\n",
       "    </tr>\n",
       "    <tr>\n",
       "      <th>Chưa thực hiện</th>\n",
       "      <td>2406</td>\n",
       "      <td>1.095190</td>\n",
       "    </tr>\n",
       "    <tr>\n",
       "      <th>PO hủy</th>\n",
       "      <td>8734</td>\n",
       "      <td>3.975638</td>\n",
       "    </tr>\n",
       "    <tr>\n",
       "      <th>Đã bàn giao chứng từ</th>\n",
       "      <td>199636</td>\n",
       "      <td>90.872510</td>\n",
       "    </tr>\n",
       "    <tr>\n",
       "      <th>Đã giao hàng</th>\n",
       "      <td>6710</td>\n",
       "      <td>3.054332</td>\n",
       "    </tr>\n",
       "    <tr>\n",
       "      <th>Đã nhặt hàng</th>\n",
       "      <td>163</td>\n",
       "      <td>0.074196</td>\n",
       "    </tr>\n",
       "  </tbody>\n",
       "</table>\n",
       "</div>"
      ],
      "text/plain": [
       "                       ID_PO          %\n",
       "Tình trạng đơn hàng                    \n",
       "Chưa giao hàng          2039   0.928134\n",
       "Chưa thực hiện          2406   1.095190\n",
       "PO hủy                  8734   3.975638\n",
       "Đã bàn giao chứng từ  199636  90.872510\n",
       "Đã giao hàng            6710   3.054332\n",
       "Đã nhặt hàng             163   0.074196"
      ]
     },
     "execution_count": 17,
     "metadata": {},
     "output_type": "execute_result"
    }
   ],
   "source": [
    "chungtu"
   ]
  },
  {
   "cell_type": "code",
   "execution_count": 18,
   "id": "a0007cf1-0bd3-443f-ab49-89c09e51a6df",
   "metadata": {},
   "outputs": [
    {
     "data": {
      "text/html": [
       "<div>\n",
       "<style scoped>\n",
       "    .dataframe tbody tr th:only-of-type {\n",
       "        vertical-align: middle;\n",
       "    }\n",
       "\n",
       "    .dataframe tbody tr th {\n",
       "        vertical-align: top;\n",
       "    }\n",
       "\n",
       "    .dataframe thead th {\n",
       "        text-align: right;\n",
       "    }\n",
       "</style>\n",
       "<table border=\"1\" class=\"dataframe\">\n",
       "  <thead>\n",
       "    <tr style=\"text-align: right;\">\n",
       "      <th>Tình trạng đơn hàng</th>\n",
       "      <th>Đã bàn giao chứng từ</th>\n",
       "      <th>Đã giao hàng</th>\n",
       "      <th>%_dahoan</th>\n",
       "      <th>%_chuahoan</th>\n",
       "    </tr>\n",
       "    <tr>\n",
       "      <th>day_level</th>\n",
       "      <th></th>\n",
       "      <th></th>\n",
       "      <th></th>\n",
       "      <th></th>\n",
       "    </tr>\n",
       "  </thead>\n",
       "  <tbody>\n",
       "    <tr>\n",
       "      <th>0 - 6 ngày</th>\n",
       "      <td>141739.0</td>\n",
       "      <td>3026.0</td>\n",
       "      <td>70.998718</td>\n",
       "      <td>45.096870</td>\n",
       "    </tr>\n",
       "    <tr>\n",
       "      <th>15 - 30 ngày</th>\n",
       "      <td>10164.0</td>\n",
       "      <td>577.0</td>\n",
       "      <td>5.091266</td>\n",
       "      <td>8.599106</td>\n",
       "    </tr>\n",
       "    <tr>\n",
       "      <th>7 - 14 ngày</th>\n",
       "      <td>35515.0</td>\n",
       "      <td>2853.0</td>\n",
       "      <td>17.789878</td>\n",
       "      <td>42.518629</td>\n",
       "    </tr>\n",
       "    <tr>\n",
       "      <th>Invalid_days</th>\n",
       "      <td>1496.0</td>\n",
       "      <td>1.0</td>\n",
       "      <td>0.749364</td>\n",
       "      <td>0.014903</td>\n",
       "    </tr>\n",
       "    <tr>\n",
       "      <th>Trễ</th>\n",
       "      <td>10166.0</td>\n",
       "      <td>253.0</td>\n",
       "      <td>5.092268</td>\n",
       "      <td>3.770492</td>\n",
       "    </tr>\n",
       "    <tr>\n",
       "      <th>nan</th>\n",
       "      <td>556.0</td>\n",
       "      <td>NaN</td>\n",
       "      <td>0.278507</td>\n",
       "      <td>NaN</td>\n",
       "    </tr>\n",
       "  </tbody>\n",
       "</table>\n",
       "</div>"
      ],
      "text/plain": [
       "Tình trạng đơn hàng  Đã bàn giao chứng từ  Đã giao hàng   %_dahoan  %_chuahoan\n",
       "day_level                                                                     \n",
       "0 - 6 ngày                       141739.0        3026.0  70.998718   45.096870\n",
       "15 - 30 ngày                      10164.0         577.0   5.091266    8.599106\n",
       "7 - 14 ngày                       35515.0        2853.0  17.789878   42.518629\n",
       "Invalid_days                       1496.0           1.0   0.749364    0.014903\n",
       "Trễ                               10166.0         253.0   5.092268    3.770492\n",
       "nan                                 556.0           NaN   0.278507         NaN"
      ]
     },
     "execution_count": 18,
     "metadata": {},
     "output_type": "execute_result"
    }
   ],
   "source": [
    "chungtu_chuahoan = po_run[(po_run['Tình trạng đơn hàng'] == 'Đã giao hàng')|(po_run['Tình trạng đơn hàng'] == 'Đã bàn giao chứng từ')]\n",
    "\n",
    "chungtu_chuahoan = pd.pivot_table(chungtu_chuahoan, index='day_level', columns='Tình trạng đơn hàng', values='ID_PO', aggfunc='count')\n",
    "\n",
    "chungtu_chuahoan['%_dahoan'] = chungtu_chuahoan['Đã bàn giao chứng từ'] / chungtu_chuahoan['Đã bàn giao chứng từ'].sum() *100\n",
    "chungtu_chuahoan['%_chuahoan'] = chungtu_chuahoan['Đã giao hàng'] / chungtu_chuahoan['Đã giao hàng'].sum() *100\n",
    "\n",
    "chungtu_chuahoan"
   ]
  },
  {
   "cell_type": "markdown",
   "id": "50270dcd-dc0a-4e53-b287-1110988de389",
   "metadata": {},
   "source": [
    "---"
   ]
  },
  {
   "cell_type": "code",
   "execution_count": 19,
   "id": "88bb2bef-9a75-4ee4-be42-e9d12476d4df",
   "metadata": {},
   "outputs": [],
   "source": [
    "gtri_ctchuahoan = po_run[(po_run['Tình trạng đơn hàng'] == 'Đã giao hàng')]"
   ]
  },
  {
   "cell_type": "code",
   "execution_count": 20,
   "id": "481175b3-541d-41ac-ae00-25ff862941d1",
   "metadata": {},
   "outputs": [
    {
     "data": {
      "text/html": [
       "<div>\n",
       "<style scoped>\n",
       "    .dataframe tbody tr th:only-of-type {\n",
       "        vertical-align: middle;\n",
       "    }\n",
       "\n",
       "    .dataframe tbody tr th {\n",
       "        vertical-align: top;\n",
       "    }\n",
       "\n",
       "    .dataframe thead th {\n",
       "        text-align: right;\n",
       "    }\n",
       "</style>\n",
       "<table border=\"1\" class=\"dataframe\">\n",
       "  <thead>\n",
       "    <tr style=\"text-align: right;\">\n",
       "      <th>Tình trạng đơn hàng</th>\n",
       "      <th>day_level</th>\n",
       "      <th>Đã giao hàng</th>\n",
       "    </tr>\n",
       "  </thead>\n",
       "  <tbody>\n",
       "    <tr>\n",
       "      <th>0</th>\n",
       "      <td>0 - 6 ngày</td>\n",
       "      <td>1.151174e+10</td>\n",
       "    </tr>\n",
       "    <tr>\n",
       "      <th>1</th>\n",
       "      <td>15 - 30 ngày</td>\n",
       "      <td>1.777042e+09</td>\n",
       "    </tr>\n",
       "    <tr>\n",
       "      <th>2</th>\n",
       "      <td>7 - 14 ngày</td>\n",
       "      <td>9.031630e+09</td>\n",
       "    </tr>\n",
       "    <tr>\n",
       "      <th>3</th>\n",
       "      <td>Invalid_days</td>\n",
       "      <td>0.000000e+00</td>\n",
       "    </tr>\n",
       "    <tr>\n",
       "      <th>4</th>\n",
       "      <td>Trễ</td>\n",
       "      <td>9.145429e+08</td>\n",
       "    </tr>\n",
       "  </tbody>\n",
       "</table>\n",
       "</div>"
      ],
      "text/plain": [
       "Tình trạng đơn hàng     day_level  Đã giao hàng\n",
       "0                      0 - 6 ngày  1.151174e+10\n",
       "1                    15 - 30 ngày  1.777042e+09\n",
       "2                     7 - 14 ngày  9.031630e+09\n",
       "3                    Invalid_days  0.000000e+00\n",
       "4                             Trễ  9.145429e+08"
      ]
     },
     "execution_count": 20,
     "metadata": {},
     "output_type": "execute_result"
    }
   ],
   "source": [
    "\n",
    "pd.pivot_table(gtri_ctchuahoan, index='day_level', columns='Tình trạng đơn hàng', values='amount_po', aggfunc=np.sum).reset_index()"
   ]
  },
  {
   "cell_type": "code",
   "execution_count": 21,
   "id": "9d8113ac-f876-49c0-96e0-3c4ff8cf0f34",
   "metadata": {},
   "outputs": [
    {
     "data": {
      "text/html": [
       "<div>\n",
       "<style scoped>\n",
       "    .dataframe tbody tr th:only-of-type {\n",
       "        vertical-align: middle;\n",
       "    }\n",
       "\n",
       "    .dataframe tbody tr th {\n",
       "        vertical-align: top;\n",
       "    }\n",
       "\n",
       "    .dataframe thead th {\n",
       "        text-align: right;\n",
       "    }\n",
       "</style>\n",
       "<table border=\"1\" class=\"dataframe\">\n",
       "  <thead>\n",
       "    <tr style=\"text-align: right;\">\n",
       "      <th>Tình trạng đơn hàng</th>\n",
       "      <th>Region</th>\n",
       "      <th>Đã giao hàng</th>\n",
       "    </tr>\n",
       "  </thead>\n",
       "  <tbody>\n",
       "    <tr>\n",
       "      <th>0</th>\n",
       "      <td>Miền Bắc</td>\n",
       "      <td>1.056397e+10</td>\n",
       "    </tr>\n",
       "    <tr>\n",
       "      <th>1</th>\n",
       "      <td>Miền Nam</td>\n",
       "      <td>1.134048e+10</td>\n",
       "    </tr>\n",
       "    <tr>\n",
       "      <th>2</th>\n",
       "      <td>Miền Trung</td>\n",
       "      <td>1.153940e+09</td>\n",
       "    </tr>\n",
       "    <tr>\n",
       "      <th>3</th>\n",
       "      <td>online</td>\n",
       "      <td>1.765706e+08</td>\n",
       "    </tr>\n",
       "  </tbody>\n",
       "</table>\n",
       "</div>"
      ],
      "text/plain": [
       "Tình trạng đơn hàng      Region  Đã giao hàng\n",
       "0                      Miền Bắc  1.056397e+10\n",
       "1                      Miền Nam  1.134048e+10\n",
       "2                    Miền Trung  1.153940e+09\n",
       "3                        online  1.765706e+08"
      ]
     },
     "execution_count": 21,
     "metadata": {},
     "output_type": "execute_result"
    }
   ],
   "source": [
    "pd.pivot_table(gtri_ctchuahoan, index='Region', columns='Tình trạng đơn hàng', values='amount_po', aggfunc=np.sum).reset_index()"
   ]
  },
  {
   "cell_type": "markdown",
   "id": "52828081-d2ef-460d-91b9-7585a3324ce6",
   "metadata": {},
   "source": [
    "---"
   ]
  },
  {
   "cell_type": "code",
   "execution_count": 22,
   "id": "142d6707-2c41-4d9d-bc55-86e1f1e9fac8",
   "metadata": {},
   "outputs": [],
   "source": [
    "ctdahoan = po_run[(po_run['Tình trạng đơn hàng'] == 'Đã bàn giao chứng từ')]"
   ]
  },
  {
   "cell_type": "code",
   "execution_count": 23,
   "id": "85467158-e45e-4fbc-baa8-66d93b11740a",
   "metadata": {},
   "outputs": [
    {
     "data": {
      "text/html": [
       "<div>\n",
       "<style scoped>\n",
       "    .dataframe tbody tr th:only-of-type {\n",
       "        vertical-align: middle;\n",
       "    }\n",
       "\n",
       "    .dataframe tbody tr th {\n",
       "        vertical-align: top;\n",
       "    }\n",
       "\n",
       "    .dataframe thead th {\n",
       "        text-align: right;\n",
       "    }\n",
       "</style>\n",
       "<table border=\"1\" class=\"dataframe\">\n",
       "  <thead>\n",
       "    <tr style=\"text-align: right;\">\n",
       "      <th>day_level</th>\n",
       "      <th>Region</th>\n",
       "      <th>0 - 6 ngày</th>\n",
       "      <th>15 - 30 ngày</th>\n",
       "      <th>7 - 14 ngày</th>\n",
       "      <th>Invalid_days</th>\n",
       "      <th>Trễ</th>\n",
       "      <th>nan</th>\n",
       "    </tr>\n",
       "  </thead>\n",
       "  <tbody>\n",
       "    <tr>\n",
       "      <th>0</th>\n",
       "      <td>Miền Bắc</td>\n",
       "      <td>40544.0</td>\n",
       "      <td>4676.0</td>\n",
       "      <td>13945.0</td>\n",
       "      <td>122.0</td>\n",
       "      <td>797.0</td>\n",
       "      <td>33.0</td>\n",
       "    </tr>\n",
       "    <tr>\n",
       "      <th>1</th>\n",
       "      <td>Miền Nam</td>\n",
       "      <td>59252.0</td>\n",
       "      <td>3491.0</td>\n",
       "      <td>16399.0</td>\n",
       "      <td>162.0</td>\n",
       "      <td>709.0</td>\n",
       "      <td>143.0</td>\n",
       "    </tr>\n",
       "    <tr>\n",
       "      <th>2</th>\n",
       "      <td>Miền Trung</td>\n",
       "      <td>7244.0</td>\n",
       "      <td>759.0</td>\n",
       "      <td>2365.0</td>\n",
       "      <td>29.0</td>\n",
       "      <td>206.0</td>\n",
       "      <td>NaN</td>\n",
       "    </tr>\n",
       "    <tr>\n",
       "      <th>3</th>\n",
       "      <td>online</td>\n",
       "      <td>34699.0</td>\n",
       "      <td>1238.0</td>\n",
       "      <td>2806.0</td>\n",
       "      <td>1183.0</td>\n",
       "      <td>8454.0</td>\n",
       "      <td>380.0</td>\n",
       "    </tr>\n",
       "  </tbody>\n",
       "</table>\n",
       "</div>"
      ],
      "text/plain": [
       "day_level      Region  0 - 6 ngày  15 - 30 ngày  7 - 14 ngày  Invalid_days  \\\n",
       "0            Miền Bắc     40544.0        4676.0      13945.0         122.0   \n",
       "1            Miền Nam     59252.0        3491.0      16399.0         162.0   \n",
       "2          Miền Trung      7244.0         759.0       2365.0          29.0   \n",
       "3              online     34699.0        1238.0       2806.0        1183.0   \n",
       "\n",
       "day_level     Trễ    nan  \n",
       "0           797.0   33.0  \n",
       "1           709.0  143.0  \n",
       "2           206.0    NaN  \n",
       "3          8454.0  380.0  "
      ]
     },
     "execution_count": 23,
     "metadata": {},
     "output_type": "execute_result"
    }
   ],
   "source": [
    "pd.pivot_table(ctdahoan, index='Region', columns='day_level', values='ID_PO', aggfunc='count').reset_index()"
   ]
  },
  {
   "cell_type": "markdown",
   "id": "2675f21e-3b9c-4059-854d-f3d793c82a95",
   "metadata": {},
   "source": [
    "---"
   ]
  },
  {
   "cell_type": "markdown",
   "id": "81390ea3-1192-482a-9833-5d6f56db70bf",
   "metadata": {},
   "source": [
    "## van hanh"
   ]
  },
  {
   "cell_type": "code",
   "execution_count": 24,
   "id": "5ba5f61a-6b88-4239-9bc9-692ae1a460df",
   "metadata": {},
   "outputs": [],
   "source": [
    "po_summa = po_run.copy()"
   ]
  },
  {
   "cell_type": "code",
   "execution_count": 25,
   "id": "b5de1369-ca58-46f2-a6d6-b79c1774f343",
   "metadata": {},
   "outputs": [],
   "source": [
    "po_summa['Người giao hàng (Shipper delivery by)'] = po_summa['Người giao hàng (Shipper delivery by)'].str.lower()"
   ]
  },
  {
   "cell_type": "code",
   "execution_count": 26,
   "id": "d03f918d-88bb-4899-9d67-3ee45e8636b3",
   "metadata": {},
   "outputs": [],
   "source": [
    "cond = po_summa['Người giao hàng (Shipper delivery by)'].str.contains('nhất|viet|ker|xe tải ngoài|taixe thau hcm', na=False)\n",
    "po_summa['dvngoai'] = po_summa.loc[cond, 'Người giao hàng (Shipper delivery by)']"
   ]
  },
  {
   "cell_type": "code",
   "execution_count": 76,
   "id": "4843f923-3036-41ad-9a2b-3b710e906c11",
   "metadata": {},
   "outputs": [],
   "source": [
    "po_summa.to_csv('../data/processed/po-meeting.csv',encoding='utf-8-sig', index=False)"
   ]
  },
  {
   "cell_type": "markdown",
   "id": "6dc7375d-8e04-44d0-8dfd-2131732d5709",
   "metadata": {},
   "source": [
    "## load data"
   ]
  },
  {
   "cell_type": "code",
   "execution_count": 28,
   "id": "656922a0-010a-4d20-8456-9b937dc4cf37",
   "metadata": {},
   "outputs": [],
   "source": [
    "meeting = pd.read_csv('../data/processed/po-meeting.csv', encoding='utf-8-sig')"
   ]
  },
  {
   "cell_type": "code",
   "execution_count": 29,
   "id": "edf8c54f-43da-4e7b-a5b5-070444039add",
   "metadata": {},
   "outputs": [],
   "source": [
    "meeting_xuatban = meeting[(meeting['Loại phiếu'] == 'Đơn bán')].reset_index(drop=True)"
   ]
  },
  {
   "cell_type": "code",
   "execution_count": 69,
   "id": "18605bf4-1082-4abc-abf2-b905fe13487d",
   "metadata": {},
   "outputs": [
    {
     "data": {
      "text/plain": [
       "array(['Đã bàn giao chứng từ', 'PO hủy', 'Đã giao hàng', 'Chưa thực hiện',\n",
       "       'Chưa giao hàng', 'Đã nhặt hàng'], dtype=object)"
      ]
     },
     "execution_count": 69,
     "metadata": {},
     "output_type": "execute_result"
    }
   ],
   "source": [
    "meeting_xuatban['Tình trạng đơn hàng'].unique()"
   ]
  },
  {
   "cell_type": "code",
   "execution_count": 31,
   "id": "e54b0e98-4219-45a7-addf-21ddd1bf0dcc",
   "metadata": {},
   "outputs": [],
   "source": [
    "# Define the aggregation calculations\n",
    "aggregations = {\n",
    "    'date_receive': ['count', 'nunique'],\n",
    "    'Ngày thực tế giao hàng': ['count', 'nunique'],\n",
    "    'datediff_giaohang': 'median',\n",
    "    'cbm_po': 'median',\n",
    "    'kg_po': 'median',\n",
    "    'unit_po': 'median',\n",
    "    'sku_po': 'median',\n",
    "    'dvngoai': 'count'\n",
    "}\n",
    "summa1 = meeting_xuatban.groupby(['Mã chủ hàng', 'Region'], as_index=False, dropna=False).agg(aggregations)"
   ]
  },
  {
   "cell_type": "code",
   "execution_count": 32,
   "id": "7dc63f84-ee93-472e-9f58-b6e93c413ff3",
   "metadata": {},
   "outputs": [],
   "source": [
    "summa1.columns = ['_'.join(cols).lower()\n",
    "                     for cols in summa1.columns.to_flat_index()]"
   ]
  },
  {
   "cell_type": "code",
   "execution_count": 33,
   "id": "cd6267bc-61d8-42e0-8d7d-ae63ef68aa53",
   "metadata": {},
   "outputs": [],
   "source": [
    "summa1['po_ve1'] = summa1['date_receive_count']/summa1['date_receive_nunique']\n",
    "summa1['po_giao1'] = summa1['ngày thực tế giao hàng_count']/summa1['ngày thực tế giao hàng_nunique']\n",
    "summa1['pct_dvngoai'] = summa1['dvngoai_count']/summa1['date_receive_count']"
   ]
  },
  {
   "cell_type": "code",
   "execution_count": 34,
   "id": "8a73ccc7-f74f-4085-b7e2-97625d1682ed",
   "metadata": {},
   "outputs": [
    {
     "data": {
      "text/html": [
       "<div>\n",
       "<style scoped>\n",
       "    .dataframe tbody tr th:only-of-type {\n",
       "        vertical-align: middle;\n",
       "    }\n",
       "\n",
       "    .dataframe tbody tr th {\n",
       "        vertical-align: top;\n",
       "    }\n",
       "\n",
       "    .dataframe thead th {\n",
       "        text-align: right;\n",
       "    }\n",
       "</style>\n",
       "<table border=\"1\" class=\"dataframe\">\n",
       "  <thead>\n",
       "    <tr style=\"text-align: right;\">\n",
       "      <th></th>\n",
       "      <th>mã chủ hàng_</th>\n",
       "      <th>region_</th>\n",
       "      <th>date_receive_count</th>\n",
       "      <th>date_receive_nunique</th>\n",
       "      <th>ngày thực tế giao hàng_count</th>\n",
       "      <th>ngày thực tế giao hàng_nunique</th>\n",
       "      <th>datediff_giaohang_median</th>\n",
       "      <th>cbm_po_median</th>\n",
       "      <th>kg_po_median</th>\n",
       "      <th>unit_po_median</th>\n",
       "      <th>sku_po_median</th>\n",
       "      <th>dvngoai_count</th>\n",
       "      <th>po_ve1</th>\n",
       "      <th>po_giao1</th>\n",
       "      <th>pct_dvngoai</th>\n",
       "    </tr>\n",
       "  </thead>\n",
       "  <tbody>\n",
       "    <tr>\n",
       "      <th>0</th>\n",
       "      <td>GB</td>\n",
       "      <td>Miền Bắc</td>\n",
       "      <td>4</td>\n",
       "      <td>4</td>\n",
       "      <td>4</td>\n",
       "      <td>4</td>\n",
       "      <td>1.0</td>\n",
       "      <td>0.0859</td>\n",
       "      <td>22605.75</td>\n",
       "      <td>118.5</td>\n",
       "      <td>11.0</td>\n",
       "      <td>0</td>\n",
       "      <td>1.000000</td>\n",
       "      <td>1.000000</td>\n",
       "      <td>0.000000</td>\n",
       "    </tr>\n",
       "    <tr>\n",
       "      <th>1</th>\n",
       "      <td>GB</td>\n",
       "      <td>Miền Nam</td>\n",
       "      <td>17</td>\n",
       "      <td>9</td>\n",
       "      <td>17</td>\n",
       "      <td>7</td>\n",
       "      <td>0.0</td>\n",
       "      <td>0.0568</td>\n",
       "      <td>17424.00</td>\n",
       "      <td>52.0</td>\n",
       "      <td>13.0</td>\n",
       "      <td>0</td>\n",
       "      <td>1.888889</td>\n",
       "      <td>2.428571</td>\n",
       "      <td>0.000000</td>\n",
       "    </tr>\n",
       "    <tr>\n",
       "      <th>2</th>\n",
       "      <td>GB</td>\n",
       "      <td>online</td>\n",
       "      <td>39966</td>\n",
       "      <td>339</td>\n",
       "      <td>39788</td>\n",
       "      <td>330</td>\n",
       "      <td>2.0</td>\n",
       "      <td>0.0024</td>\n",
       "      <td>384.00</td>\n",
       "      <td>4.0</td>\n",
       "      <td>1.0</td>\n",
       "      <td>2</td>\n",
       "      <td>117.893805</td>\n",
       "      <td>120.569697</td>\n",
       "      <td>0.000050</td>\n",
       "    </tr>\n",
       "    <tr>\n",
       "      <th>3</th>\n",
       "      <td>HP</td>\n",
       "      <td>Miền Bắc</td>\n",
       "      <td>57168</td>\n",
       "      <td>288</td>\n",
       "      <td>53460</td>\n",
       "      <td>345</td>\n",
       "      <td>3.0</td>\n",
       "      <td>0.0290</td>\n",
       "      <td>3975.00</td>\n",
       "      <td>60.0</td>\n",
       "      <td>4.0</td>\n",
       "      <td>22710</td>\n",
       "      <td>198.500000</td>\n",
       "      <td>154.956522</td>\n",
       "      <td>0.397250</td>\n",
       "    </tr>\n",
       "    <tr>\n",
       "      <th>4</th>\n",
       "      <td>HP</td>\n",
       "      <td>Miền Nam</td>\n",
       "      <td>69058</td>\n",
       "      <td>291</td>\n",
       "      <td>65196</td>\n",
       "      <td>322</td>\n",
       "      <td>3.0</td>\n",
       "      <td>0.0246</td>\n",
       "      <td>3444.00</td>\n",
       "      <td>52.0</td>\n",
       "      <td>3.0</td>\n",
       "      <td>16479</td>\n",
       "      <td>237.312715</td>\n",
       "      <td>202.472050</td>\n",
       "      <td>0.238626</td>\n",
       "    </tr>\n",
       "    <tr>\n",
       "      <th>5</th>\n",
       "      <td>HP</td>\n",
       "      <td>Miền Trung</td>\n",
       "      <td>10532</td>\n",
       "      <td>270</td>\n",
       "      <td>9509</td>\n",
       "      <td>265</td>\n",
       "      <td>3.0</td>\n",
       "      <td>0.0216</td>\n",
       "      <td>2582.50</td>\n",
       "      <td>42.0</td>\n",
       "      <td>3.0</td>\n",
       "      <td>3290</td>\n",
       "      <td>39.007407</td>\n",
       "      <td>35.883019</td>\n",
       "      <td>0.312381</td>\n",
       "    </tr>\n",
       "    <tr>\n",
       "      <th>6</th>\n",
       "      <td>HP</td>\n",
       "      <td>online</td>\n",
       "      <td>1571</td>\n",
       "      <td>125</td>\n",
       "      <td>1511</td>\n",
       "      <td>117</td>\n",
       "      <td>0.0</td>\n",
       "      <td>0.0096</td>\n",
       "      <td>2580.00</td>\n",
       "      <td>47.0</td>\n",
       "      <td>7.0</td>\n",
       "      <td>0</td>\n",
       "      <td>12.568000</td>\n",
       "      <td>12.914530</td>\n",
       "      <td>0.000000</td>\n",
       "    </tr>\n",
       "    <tr>\n",
       "      <th>7</th>\n",
       "      <td>HP01</td>\n",
       "      <td>online</td>\n",
       "      <td>902</td>\n",
       "      <td>98</td>\n",
       "      <td>867</td>\n",
       "      <td>82</td>\n",
       "      <td>1.0</td>\n",
       "      <td>0.0030</td>\n",
       "      <td>2120.00</td>\n",
       "      <td>2.0</td>\n",
       "      <td>1.0</td>\n",
       "      <td>0</td>\n",
       "      <td>9.204082</td>\n",
       "      <td>10.573171</td>\n",
       "      <td>0.000000</td>\n",
       "    </tr>\n",
       "    <tr>\n",
       "      <th>8</th>\n",
       "      <td>RW</td>\n",
       "      <td>Miền Bắc</td>\n",
       "      <td>2533</td>\n",
       "      <td>271</td>\n",
       "      <td>2497</td>\n",
       "      <td>278</td>\n",
       "      <td>2.0</td>\n",
       "      <td>0.0216</td>\n",
       "      <td>3491.00</td>\n",
       "      <td>24.0</td>\n",
       "      <td>2.0</td>\n",
       "      <td>449</td>\n",
       "      <td>9.346863</td>\n",
       "      <td>8.982014</td>\n",
       "      <td>0.177260</td>\n",
       "    </tr>\n",
       "    <tr>\n",
       "      <th>9</th>\n",
       "      <td>RW</td>\n",
       "      <td>Miền Nam</td>\n",
       "      <td>5370</td>\n",
       "      <td>288</td>\n",
       "      <td>5317</td>\n",
       "      <td>291</td>\n",
       "      <td>1.0</td>\n",
       "      <td>0.0239</td>\n",
       "      <td>4740.00</td>\n",
       "      <td>24.0</td>\n",
       "      <td>3.0</td>\n",
       "      <td>384</td>\n",
       "      <td>18.645833</td>\n",
       "      <td>18.271478</td>\n",
       "      <td>0.071508</td>\n",
       "    </tr>\n",
       "    <tr>\n",
       "      <th>10</th>\n",
       "      <td>RW</td>\n",
       "      <td>Miền Trung</td>\n",
       "      <td>224</td>\n",
       "      <td>104</td>\n",
       "      <td>215</td>\n",
       "      <td>108</td>\n",
       "      <td>1.0</td>\n",
       "      <td>0.0246</td>\n",
       "      <td>5250.00</td>\n",
       "      <td>24.0</td>\n",
       "      <td>3.0</td>\n",
       "      <td>73</td>\n",
       "      <td>2.153846</td>\n",
       "      <td>1.990741</td>\n",
       "      <td>0.325893</td>\n",
       "    </tr>\n",
       "    <tr>\n",
       "      <th>11</th>\n",
       "      <td>RW</td>\n",
       "      <td>online</td>\n",
       "      <td>123</td>\n",
       "      <td>63</td>\n",
       "      <td>119</td>\n",
       "      <td>59</td>\n",
       "      <td>1.0</td>\n",
       "      <td>0.0082</td>\n",
       "      <td>2028.95</td>\n",
       "      <td>6.0</td>\n",
       "      <td>2.0</td>\n",
       "      <td>2</td>\n",
       "      <td>1.952381</td>\n",
       "      <td>2.016949</td>\n",
       "      <td>0.016260</td>\n",
       "    </tr>\n",
       "    <tr>\n",
       "      <th>12</th>\n",
       "      <td>RW01</td>\n",
       "      <td>online</td>\n",
       "      <td>8872</td>\n",
       "      <td>105</td>\n",
       "      <td>8499</td>\n",
       "      <td>91</td>\n",
       "      <td>1.0</td>\n",
       "      <td>0.0016</td>\n",
       "      <td>1085.00</td>\n",
       "      <td>1.0</td>\n",
       "      <td>1.0</td>\n",
       "      <td>0</td>\n",
       "      <td>84.495238</td>\n",
       "      <td>93.395604</td>\n",
       "      <td>0.000000</td>\n",
       "    </tr>\n",
       "  </tbody>\n",
       "</table>\n",
       "</div>"
      ],
      "text/plain": [
       "   mã chủ hàng_     region_  date_receive_count  date_receive_nunique  \\\n",
       "0            GB    Miền Bắc                   4                     4   \n",
       "1            GB    Miền Nam                  17                     9   \n",
       "2            GB      online               39966                   339   \n",
       "3            HP    Miền Bắc               57168                   288   \n",
       "4            HP    Miền Nam               69058                   291   \n",
       "5            HP  Miền Trung               10532                   270   \n",
       "6            HP      online                1571                   125   \n",
       "7          HP01      online                 902                    98   \n",
       "8            RW    Miền Bắc                2533                   271   \n",
       "9            RW    Miền Nam                5370                   288   \n",
       "10           RW  Miền Trung                 224                   104   \n",
       "11           RW      online                 123                    63   \n",
       "12         RW01      online                8872                   105   \n",
       "\n",
       "    ngày thực tế giao hàng_count  ngày thực tế giao hàng_nunique  \\\n",
       "0                              4                               4   \n",
       "1                             17                               7   \n",
       "2                          39788                             330   \n",
       "3                          53460                             345   \n",
       "4                          65196                             322   \n",
       "5                           9509                             265   \n",
       "6                           1511                             117   \n",
       "7                            867                              82   \n",
       "8                           2497                             278   \n",
       "9                           5317                             291   \n",
       "10                           215                             108   \n",
       "11                           119                              59   \n",
       "12                          8499                              91   \n",
       "\n",
       "    datediff_giaohang_median  cbm_po_median  kg_po_median  unit_po_median  \\\n",
       "0                        1.0         0.0859      22605.75           118.5   \n",
       "1                        0.0         0.0568      17424.00            52.0   \n",
       "2                        2.0         0.0024        384.00             4.0   \n",
       "3                        3.0         0.0290       3975.00            60.0   \n",
       "4                        3.0         0.0246       3444.00            52.0   \n",
       "5                        3.0         0.0216       2582.50            42.0   \n",
       "6                        0.0         0.0096       2580.00            47.0   \n",
       "7                        1.0         0.0030       2120.00             2.0   \n",
       "8                        2.0         0.0216       3491.00            24.0   \n",
       "9                        1.0         0.0239       4740.00            24.0   \n",
       "10                       1.0         0.0246       5250.00            24.0   \n",
       "11                       1.0         0.0082       2028.95             6.0   \n",
       "12                       1.0         0.0016       1085.00             1.0   \n",
       "\n",
       "    sku_po_median  dvngoai_count      po_ve1    po_giao1  pct_dvngoai  \n",
       "0            11.0              0    1.000000    1.000000     0.000000  \n",
       "1            13.0              0    1.888889    2.428571     0.000000  \n",
       "2             1.0              2  117.893805  120.569697     0.000050  \n",
       "3             4.0          22710  198.500000  154.956522     0.397250  \n",
       "4             3.0          16479  237.312715  202.472050     0.238626  \n",
       "5             3.0           3290   39.007407   35.883019     0.312381  \n",
       "6             7.0              0   12.568000   12.914530     0.000000  \n",
       "7             1.0              0    9.204082   10.573171     0.000000  \n",
       "8             2.0            449    9.346863    8.982014     0.177260  \n",
       "9             3.0            384   18.645833   18.271478     0.071508  \n",
       "10            3.0             73    2.153846    1.990741     0.325893  \n",
       "11            2.0              2    1.952381    2.016949     0.016260  \n",
       "12            1.0              0   84.495238   93.395604     0.000000  "
      ]
     },
     "execution_count": 34,
     "metadata": {},
     "output_type": "execute_result"
    }
   ],
   "source": [
    "summa1"
   ]
  },
  {
   "cell_type": "code",
   "execution_count": 35,
   "id": "d59c5a35-3372-42f6-91fa-2e684d2a3c49",
   "metadata": {},
   "outputs": [],
   "source": [
    "meeting_xuatban_filter_gb = meeting_xuatban[(meeting_xuatban['Tình trạng đơn hàng'] == 'Đã bàn giao chứng từ')|(meeting_xuatban['Tình trạng đơn hàng'] == 'Đã giao hàng')].reset_index(drop=True)"
   ]
  },
  {
   "cell_type": "code",
   "execution_count": 36,
   "id": "65627181-0752-4116-bffc-d4b86435ccf3",
   "metadata": {},
   "outputs": [],
   "source": [
    "meeting_gb = meeting_xuatban_filter_gb[meeting_xuatban_filter_gb['Mã chủ hàng'] == 'GB'].reset_index()"
   ]
  },
  {
   "cell_type": "code",
   "execution_count": null,
   "id": "bc79963f-63ef-4103-973f-7ae85b9050fd",
   "metadata": {},
   "outputs": [],
   "source": []
  },
  {
   "cell_type": "code",
   "execution_count": 37,
   "id": "8127f87a-1b04-411c-a4ac-79ad78c9bc60",
   "metadata": {},
   "outputs": [
    {
     "data": {
      "text/plain": [
       "89090.5"
      ]
     },
     "execution_count": 37,
     "metadata": {},
     "output_type": "execute_result"
    }
   ],
   "source": [
    "meeting_gb['amount_po'].median()"
   ]
  },
  {
   "cell_type": "code",
   "execution_count": 38,
   "id": "6e63bf7f-4798-4238-8e47-77852be1fc13",
   "metadata": {},
   "outputs": [
    {
     "data": {
      "text/plain": [
       "158725.83666460076"
      ]
     },
     "execution_count": 38,
     "metadata": {},
     "output_type": "execute_result"
    }
   ],
   "source": [
    "meeting_gb['amount_po'].mean()"
   ]
  },
  {
   "cell_type": "code",
   "execution_count": 39,
   "id": "299e0048-0f8c-445f-ae38-2e008f995e8e",
   "metadata": {},
   "outputs": [],
   "source": [
    "# create a list of our conditions\n",
    "conditions = [\n",
    "    (meeting_gb['amount_po'] < 100000),\n",
    "    (meeting_gb['amount_po'] < 200000),\n",
    "    (meeting_gb['amount_po'] < 300000),\n",
    "    (meeting_gb['amount_po'] >= 300000)\n",
    "    ]\n",
    "\n",
    "# create a list of the values we want to assign for each condition\n",
    "values = ['duoi100', '100-200', '200-300', 'tren300']\n",
    "\n",
    "# create a new column and use np.select to assign values to it using our lists as arguments\n",
    "meeting_gb['amountlevel'] = np.select(conditions, values)"
   ]
  },
  {
   "cell_type": "code",
   "execution_count": 40,
   "id": "fb789c30-40f0-4611-a769-c0380103d577",
   "metadata": {},
   "outputs": [
    {
     "data": {
      "text/html": [
       "<div>\n",
       "<style scoped>\n",
       "    .dataframe tbody tr th:only-of-type {\n",
       "        vertical-align: middle;\n",
       "    }\n",
       "\n",
       "    .dataframe tbody tr th {\n",
       "        vertical-align: top;\n",
       "    }\n",
       "\n",
       "    .dataframe thead th {\n",
       "        text-align: right;\n",
       "    }\n",
       "</style>\n",
       "<table border=\"1\" class=\"dataframe\">\n",
       "  <thead>\n",
       "    <tr style=\"text-align: right;\">\n",
       "      <th></th>\n",
       "      <th>amountlevel</th>\n",
       "      <th>ID_PO</th>\n",
       "    </tr>\n",
       "  </thead>\n",
       "  <tbody>\n",
       "    <tr>\n",
       "      <th>0</th>\n",
       "      <td>100-200</td>\n",
       "      <td>10760</td>\n",
       "    </tr>\n",
       "    <tr>\n",
       "      <th>1</th>\n",
       "      <td>200-300</td>\n",
       "      <td>3057</td>\n",
       "    </tr>\n",
       "    <tr>\n",
       "      <th>2</th>\n",
       "      <td>duoi100</td>\n",
       "      <td>21084</td>\n",
       "    </tr>\n",
       "    <tr>\n",
       "      <th>3</th>\n",
       "      <td>tren300</td>\n",
       "      <td>3823</td>\n",
       "    </tr>\n",
       "  </tbody>\n",
       "</table>\n",
       "</div>"
      ],
      "text/plain": [
       "  amountlevel  ID_PO\n",
       "0     100-200  10760\n",
       "1     200-300   3057\n",
       "2     duoi100  21084\n",
       "3     tren300   3823"
      ]
     },
     "execution_count": 40,
     "metadata": {},
     "output_type": "execute_result"
    }
   ],
   "source": [
    "# Define the aggregation calculations\n",
    "aggregations = {\n",
    "    'ID_PO': 'count'\n",
    "}\n",
    "meeting_gb.groupby(['amountlevel'], as_index=False, dropna=False).agg(aggregations)"
   ]
  },
  {
   "cell_type": "code",
   "execution_count": 83,
   "id": "caadf2d7-78f2-44b8-b88f-0c696a2183c6",
   "metadata": {},
   "outputs": [],
   "source": [
    "# Define the aggregation calculations\n",
    "aggregations = {\n",
    "    'date_receive': ['count', 'nunique'],\n",
    "    'cbm_po': 'median',\n",
    "    'kg_po': 'median',\n",
    "    'unit_po': 'median',\n",
    "    'sku_po': 'median',\n",
    "    'amount_po': 'sum'\n",
    "}\n",
    "summa_gb = meeting_gb.groupby(['Mã chủ hàng'], as_index=False, dropna=False).agg(aggregations)"
   ]
  },
  {
   "cell_type": "code",
   "execution_count": 84,
   "id": "dd3b9242-62d6-4013-a081-919208469e9a",
   "metadata": {},
   "outputs": [],
   "source": [
    "summa_gb.columns = ['_'.join(cols).lower()\n",
    "                     for cols in summa_gb.columns.to_flat_index()]"
   ]
  },
  {
   "cell_type": "code",
   "execution_count": 108,
   "id": "fb71c889-8fcf-45d0-8221-9562dee61b16",
   "metadata": {},
   "outputs": [
    {
     "data": {
      "text/plain": [
       "count       38703.0\n",
       "mean       149813.0\n",
       "std        270127.0\n",
       "min             0.0\n",
       "25%         52778.0\n",
       "50%         89090.0\n",
       "75%        158582.0\n",
       "max      21526361.0\n",
       "Name: amount_po, dtype: float64"
      ]
     },
     "execution_count": 108,
     "metadata": {},
     "output_type": "execute_result"
    }
   ],
   "source": [
    "round(meeting_gb[meeting_gb['Region']=='online']['amount_po'].describe())"
   ]
  },
  {
   "cell_type": "code",
   "execution_count": 110,
   "id": "9764f348-1875-48d1-bd2b-6e51fa993291",
   "metadata": {},
   "outputs": [
    {
     "data": {
      "text/plain": [
       "270127"
      ]
     },
     "execution_count": 110,
     "metadata": {},
     "output_type": "execute_result"
    }
   ],
   "source": [
    "round(meeting_gb[meeting_gb['Region']=='online']['amount_po'].std())"
   ]
  },
  {
   "cell_type": "code",
   "execution_count": null,
   "id": "2d9dcd73-38b6-41a3-86f4-519f03a4ced2",
   "metadata": {},
   "outputs": [],
   "source": []
  },
  {
   "cell_type": "code",
   "execution_count": null,
   "id": "81d4147c-184d-4d96-a19f-a44bc7dd194c",
   "metadata": {},
   "outputs": [],
   "source": []
  },
  {
   "cell_type": "code",
   "execution_count": null,
   "id": "4eee2543-4cd5-4bfe-8dd6-0dc0be77ce44",
   "metadata": {},
   "outputs": [],
   "source": []
  },
  {
   "cell_type": "code",
   "execution_count": null,
   "id": "507bb8a1-ef12-43c2-9e7f-7e671b20f51a",
   "metadata": {},
   "outputs": [],
   "source": []
  },
  {
   "cell_type": "code",
   "execution_count": null,
   "id": "f609ab2c-4a16-48bb-8c44-1ae6010c7fd3",
   "metadata": {},
   "outputs": [],
   "source": []
  },
  {
   "cell_type": "code",
   "execution_count": null,
   "id": "2b4a1239-3d84-4bb3-bf0b-45b11b0daf4d",
   "metadata": {},
   "outputs": [],
   "source": []
  },
  {
   "cell_type": "code",
   "execution_count": null,
   "id": "703e9ef2-1201-41c0-b955-70be67afed64",
   "metadata": {},
   "outputs": [],
   "source": []
  },
  {
   "cell_type": "code",
   "execution_count": null,
   "id": "9613ea18-728a-41fd-a9d0-18fe5c2d337c",
   "metadata": {},
   "outputs": [],
   "source": []
  },
  {
   "cell_type": "code",
   "execution_count": null,
   "id": "a7234f57-0008-4282-ba5d-bc61999bf7b7",
   "metadata": {},
   "outputs": [],
   "source": []
  },
  {
   "cell_type": "code",
   "execution_count": null,
   "id": "9ca6f389-4820-452a-93d1-4eca3a574c89",
   "metadata": {},
   "outputs": [],
   "source": []
  },
  {
   "cell_type": "code",
   "execution_count": null,
   "id": "5d6f698b-dde0-484e-95ee-49cf896f9a25",
   "metadata": {},
   "outputs": [],
   "source": []
  },
  {
   "cell_type": "code",
   "execution_count": null,
   "id": "8073757d-9dba-4b8a-8b8a-3ce89d0bf993",
   "metadata": {},
   "outputs": [],
   "source": []
  },
  {
   "cell_type": "code",
   "execution_count": null,
   "id": "198955d6-cd60-48b7-a222-89e20b4e5131",
   "metadata": {},
   "outputs": [],
   "source": []
  },
  {
   "cell_type": "code",
   "execution_count": null,
   "id": "9ad21b25-4061-45bd-b4f9-90eb9c46974c",
   "metadata": {},
   "outputs": [],
   "source": []
  },
  {
   "cell_type": "code",
   "execution_count": null,
   "id": "1fc76d8c-87e6-4349-96a0-026270209e56",
   "metadata": {},
   "outputs": [],
   "source": []
  },
  {
   "cell_type": "code",
   "execution_count": null,
   "id": "a9a1f546-50ab-459a-81cf-483a94a07b88",
   "metadata": {},
   "outputs": [],
   "source": []
  },
  {
   "cell_type": "code",
   "execution_count": null,
   "id": "22c45c78-138e-4bb9-bd3d-f61181af82e3",
   "metadata": {},
   "outputs": [],
   "source": []
  },
  {
   "cell_type": "code",
   "execution_count": null,
   "id": "b556b8ec-9a58-433e-b9b1-64ff10e9c75b",
   "metadata": {},
   "outputs": [],
   "source": []
  },
  {
   "cell_type": "code",
   "execution_count": null,
   "id": "73f6b8ef-5705-4ba0-8fb2-d5169bf98a25",
   "metadata": {},
   "outputs": [],
   "source": []
  },
  {
   "cell_type": "code",
   "execution_count": null,
   "id": "52048ee1-e2a6-4242-bf7f-fb05d20869ae",
   "metadata": {},
   "outputs": [],
   "source": []
  },
  {
   "cell_type": "code",
   "execution_count": null,
   "id": "0d99db05-f18a-40eb-99cd-c8445c93519f",
   "metadata": {},
   "outputs": [],
   "source": []
  },
  {
   "cell_type": "code",
   "execution_count": null,
   "id": "62fef00b-b964-4b90-9f04-6159e740fe41",
   "metadata": {},
   "outputs": [],
   "source": []
  },
  {
   "cell_type": "code",
   "execution_count": null,
   "id": "6801e60f-9a82-4b8a-9174-7d947d93bebf",
   "metadata": {},
   "outputs": [],
   "source": []
  },
  {
   "cell_type": "code",
   "execution_count": null,
   "id": "9aa294ae-fa85-4c34-a594-f4bfb80bd74a",
   "metadata": {},
   "outputs": [],
   "source": []
  },
  {
   "cell_type": "code",
   "execution_count": null,
   "id": "60caa5e7-baaa-4a3b-8bef-525793b38676",
   "metadata": {},
   "outputs": [],
   "source": []
  },
  {
   "cell_type": "code",
   "execution_count": null,
   "id": "5d4c0a77-fc14-4761-9126-84180e710c28",
   "metadata": {},
   "outputs": [],
   "source": []
  },
  {
   "cell_type": "code",
   "execution_count": null,
   "id": "6cef65bd-30c8-45f5-a407-78e36a8a9dac",
   "metadata": {},
   "outputs": [],
   "source": []
  },
  {
   "cell_type": "code",
   "execution_count": null,
   "id": "c51da1aa-f179-45e7-b8ce-c0cb3f9f53fc",
   "metadata": {},
   "outputs": [],
   "source": []
  },
  {
   "cell_type": "code",
   "execution_count": null,
   "id": "43c765c4-d44d-49cc-b002-fb3a90d0069c",
   "metadata": {},
   "outputs": [],
   "source": []
  },
  {
   "cell_type": "code",
   "execution_count": null,
   "id": "b980327f-487c-4c54-9df7-02b1ba512cb5",
   "metadata": {},
   "outputs": [],
   "source": []
  },
  {
   "cell_type": "code",
   "execution_count": null,
   "id": "364cf249-2869-42f2-9ad1-c78e3dc0c40a",
   "metadata": {},
   "outputs": [],
   "source": []
  },
  {
   "cell_type": "code",
   "execution_count": null,
   "id": "af300465-b3f3-4740-8248-85f17f960cd1",
   "metadata": {},
   "outputs": [],
   "source": []
  },
  {
   "cell_type": "code",
   "execution_count": null,
   "id": "8c946d70-81c2-4a52-906f-98d3d4742714",
   "metadata": {},
   "outputs": [],
   "source": []
  },
  {
   "cell_type": "code",
   "execution_count": null,
   "id": "f53c7ec4-fd9b-4e36-b71a-fd8627c93ec4",
   "metadata": {},
   "outputs": [],
   "source": []
  },
  {
   "cell_type": "code",
   "execution_count": null,
   "id": "01cece4f-610d-4190-b74b-c65751c738cb",
   "metadata": {},
   "outputs": [],
   "source": []
  },
  {
   "cell_type": "code",
   "execution_count": null,
   "id": "11bbff66-5af5-43ca-bb58-f8ec9f48f294",
   "metadata": {},
   "outputs": [],
   "source": []
  },
  {
   "cell_type": "code",
   "execution_count": null,
   "id": "adf51604-b6a7-412d-abaf-7a141a4763a3",
   "metadata": {},
   "outputs": [],
   "source": []
  },
  {
   "cell_type": "code",
   "execution_count": null,
   "id": "be943223-20e6-489f-ab99-a4ad8c1f78df",
   "metadata": {},
   "outputs": [],
   "source": []
  },
  {
   "cell_type": "code",
   "execution_count": null,
   "id": "50f94723-71e5-4ed4-a0bb-4c9f5a61ce8f",
   "metadata": {},
   "outputs": [],
   "source": []
  },
  {
   "cell_type": "code",
   "execution_count": null,
   "id": "45d0b08a-6d05-4ab6-b07e-a597c579553c",
   "metadata": {},
   "outputs": [],
   "source": []
  },
  {
   "cell_type": "code",
   "execution_count": null,
   "id": "db9addc9-f539-4103-b124-872c4df7bd13",
   "metadata": {},
   "outputs": [],
   "source": []
  },
  {
   "cell_type": "code",
   "execution_count": null,
   "id": "f95bc41c-2fce-4231-943f-fadeb3dd234f",
   "metadata": {},
   "outputs": [],
   "source": []
  }
 ],
 "metadata": {
  "kernelspec": {
   "display_name": "Python 3 (ipykernel)",
   "language": "python",
   "name": "python3"
  },
  "language_info": {
   "codemirror_mode": {
    "name": "ipython",
    "version": 3
   },
   "file_extension": ".py",
   "mimetype": "text/x-python",
   "name": "python",
   "nbconvert_exporter": "python",
   "pygments_lexer": "ipython3",
   "version": "3.9.15"
  }
 },
 "nbformat": 4,
 "nbformat_minor": 5
}
